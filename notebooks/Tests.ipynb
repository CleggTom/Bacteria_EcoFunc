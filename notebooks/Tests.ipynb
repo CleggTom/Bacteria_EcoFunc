{
 "cells": [
  {
   "cell_type": "code",
   "execution_count": 2,
   "metadata": {},
   "outputs": [],
   "source": [
    "#Load some modules etc\n",
    "%matplotlib inline\n",
    "import matplotlib.pyplot as plt\n",
    "from cycler import cycler\n",
    "\n",
    "from sympy import *\n",
    "from sympy.stats import *\n",
    "import scipy as sc\n",
    "import numpy as np\n",
    "init_printing()"
   ]
  },
  {
   "cell_type": "markdown",
   "metadata": {},
   "source": [
    "# Exponential Growth"
   ]
  },
  {
   "cell_type": "code",
   "execution_count": 3,
   "metadata": {},
   "outputs": [
    {
     "data": {
      "image/png": "[encoded data removed]",
      "text/latex": [
       "$$C{\\left (t \\right )} = C{\\left (0 \\right )} e^{r t}$$"
      ],
      "text/plain": [
       "             r⋅t\n",
       "C(t) = C(0)⋅ℯ   "
      ]
     },
     "execution_count": 3,
     "metadata": {},
     "output_type": "execute_result"
    }
   ],
   "source": [
    "#Exponential growth\n",
    "t,r = var(\"t,r\")\n",
    "C = Function('C')(t)\n",
    "\n",
    "ur,sr = var(\"\\mu_r,\\sigma_r\")\n",
    "\n",
    "LHS = C.diff(t)\n",
    "RHS = C*r\n",
    "sol = dsolve(Eq(LHS,RHS))\n",
    "\n",
    "C0 = C.subs({t:0})\n",
    "C1 = sol.args[1].args[0]\n",
    "\n",
    "#at t = 0\n",
    "C1_sol = solve(sol.subs({t:0,C:C0}),C1)[0]\n",
    "sol_eq = sol.subs({C1:C1_sol})\n",
    "sol_eq"
   ]
  },
  {
   "cell_type": "markdown",
   "metadata": {},
   "source": [
    "# Logistic Growth"
   ]
  },
  {
   "cell_type": "code",
   "execution_count": 4,
   "metadata": {},
   "outputs": [
    {
     "data": {
      "image/png": "[encoded data removed]",
      "text/latex": [
       "$$C{\\left (t \\right )} = \\frac{r C{\\left (0 \\right )} e^{r t}}{\\alpha C{\\left (0 \\right )} e^{r t} - \\alpha C{\\left (0 \\right )} + r}$$"
      ],
      "text/plain": [
       "                     r⋅t       \n",
       "             r⋅C(0)⋅ℯ          \n",
       "C(t) = ────────────────────────\n",
       "               r⋅t             \n",
       "       α⋅C(0)⋅ℯ    - α⋅C(0) + r"
      ]
     },
     "execution_count": 4,
     "metadata": {},
     "output_type": "execute_result"
    }
   ],
   "source": [
    "#with intraspecifc\n",
    "a = var(\"alpha\")\n",
    "LHS = C.diff(t)\n",
    "RHS = C*(r - a*C)\n",
    "sol = dsolve(Eq(LHS,RHS))\n",
    "C1_sol = solve(sol.subs({t:0}),C1)[0]\n",
    "f = simplify(sol.subs({C1:C1_sol}))\n",
    "f"
   ]
  },
  {
   "cell_type": "markdown",
   "metadata": {},
   "source": [
    "# Taylor Approximations of Moments\n",
    "## Mean"
   ]
  },
  {
   "cell_type": "code",
   "execution_count": 11,
   "metadata": {},
   "outputs": [
    {
     "data": {
      "image/png": "[encoded data removed]",
      "text/latex": [
       "$$\\frac{\\mu_r C{\\left (0 \\right )} e^{\\mu_r t}}{\\mu_r + \\alpha C{\\left (0 \\right )} e^{\\mu_r t} - \\alpha C{\\left (0 \\right )}} + \\frac{\\sigma_r^{2} \\left(- \\frac{\\mu_r \\alpha t^{2} C{\\left (0 \\right )} e^{\\mu_r t}}{\\mu_r + \\alpha C{\\left (0 \\right )} e^{\\mu_r t} - \\alpha C{\\left (0 \\right )}} + \\mu_r t^{2} - \\frac{2 \\mu_r t \\left(\\alpha t C{\\left (0 \\right )} e^{\\mu_r t} + 1\\right)}{\\mu_r + \\alpha C{\\left (0 \\right )} e^{\\mu_r t} - \\alpha C{\\left (0 \\right )}} + \\frac{2 \\mu_r \\left(\\alpha t C{\\left (0 \\right )} e^{\\mu_r t} + 1\\right)^{2}}{\\left(\\mu_r + \\alpha C{\\left (0 \\right )} e^{\\mu_r t} - \\alpha C{\\left (0 \\right )}\\right)^{2}} + 2 t - \\frac{2 \\left(\\alpha t C{\\left (0 \\right )} e^{\\mu_r t} + 1\\right)}{\\mu_r + \\alpha C{\\left (0 \\right )} e^{\\mu_r t} - \\alpha C{\\left (0 \\right )}}\\right) C{\\left (0 \\right )} e^{\\mu_r t}}{2 \\left(\\mu_r + \\alpha C{\\left (0 \\right )} e^{\\mu_r t} - \\alpha C{\\left (0 \\right )}\\right)}$$"
      ],
      "text/plain": [
       "                                          ⎛                                   \n",
       "                                          ⎜              2       \\muᵣ⋅t       \n",
       "                                        2 ⎜      \\muᵣ⋅α⋅t ⋅C(0)⋅ℯ             \n",
       "                                 \\sigmaᵣ ⋅⎜- ────────────────────────────── + \n",
       "                                          ⎜                 \\muᵣ⋅t            \n",
       "                 \\muᵣ⋅t                   ⎜  \\muᵣ + α⋅C(0)⋅ℯ       - α⋅C(0)   \n",
       "      \\muᵣ⋅C(0)⋅ℯ                         ⎝                                   \n",
       "────────────────────────────── + ─────────────────────────────────────────────\n",
       "               \\muᵣ⋅t                                                         \n",
       "\\muᵣ + α⋅C(0)⋅ℯ       - α⋅C(0)                                                \n",
       "\n",
       "                                                                           2  \n",
       "                   ⎛          \\muᵣ⋅t    ⎞            ⎛          \\muᵣ⋅t    ⎞   \n",
       "      2   2⋅\\muᵣ⋅t⋅⎝α⋅t⋅C(0)⋅ℯ       + 1⎠     2⋅\\muᵣ⋅⎝α⋅t⋅C(0)⋅ℯ       + 1⎠   \n",
       "\\muᵣ⋅t  - ─────────────────────────────── + ───────────────────────────────── \n",
       "                          \\muᵣ⋅t                                            2 \n",
       "           \\muᵣ + α⋅C(0)⋅ℯ       - α⋅C(0)   ⎛               \\muᵣ⋅t         ⎞  \n",
       "                                            ⎝\\muᵣ + α⋅C(0)⋅ℯ       - α⋅C(0)⎠  \n",
       "──────────────────────────────────────────────────────────────────────────────\n",
       "                            ⎛               \\muᵣ⋅t         ⎞                  \n",
       "                          2⋅⎝\\muᵣ + α⋅C(0)⋅ℯ       - α⋅C(0)⎠                  \n",
       "\n",
       "                                      ⎞             \n",
       "             ⎛          \\muᵣ⋅t    ⎞   ⎟             \n",
       "           2⋅⎝α⋅t⋅C(0)⋅ℯ       + 1⎠   ⎟       \\muᵣ⋅t\n",
       "+ 2⋅t - ──────────────────────────────⎟⋅C(0)⋅ℯ      \n",
       "                       \\muᵣ⋅t         ⎟             \n",
       "        \\muᵣ + α⋅C(0)⋅ℯ       - α⋅C(0)⎟             \n",
       "                                      ⎠             \n",
       "────────────────────────────────────────────────────\n",
       "                                                    \n",
       "                                                    "
      ]
     },
     "execution_count": 11,
     "metadata": {},
     "output_type": "execute_result"
    }
   ],
   "source": [
    "mean = f.args[1].subs({r:ur}) + (sr**2)/2 * f.args[1].diff(r,r).subs({r:ur})\n",
    "mean"
   ]
  },
  {
   "cell_type": "markdown",
   "metadata": {},
   "source": [
    "## Varience"
   ]
  },
  {
   "cell_type": "code",
   "execution_count": 6,
   "metadata": {},
   "outputs": [
    {
     "data": {
      "image/png": "[encoded data removed]",
      "text/latex": [
       "$$\\frac{\\sigma_r^{2} \\left(\\mu_r^{2} t - \\mu_r \\alpha t C{\\left (0 \\right )} + \\alpha C{\\left (0 \\right )} e^{\\mu_r t} - \\alpha C{\\left (0 \\right )}\\right)^{2} C^{2}{\\left (0 \\right )} e^{2 \\mu_r t}}{\\left(\\mu_r + \\alpha C{\\left (0 \\right )} e^{\\mu_r t} - \\alpha C{\\left (0 \\right )}\\right)^{4}}$$"
      ],
      "text/plain": [
       "                                                            2                \n",
       "       2 ⎛    2                             \\muᵣ⋅t         ⎞   2     2⋅\\muᵣ⋅t\n",
       "\\sigmaᵣ ⋅⎝\\muᵣ ⋅t - \\muᵣ⋅α⋅t⋅C(0) + α⋅C(0)⋅ℯ       - α⋅C(0)⎠ ⋅C (0)⋅ℯ        \n",
       "─────────────────────────────────────────────────────────────────────────────\n",
       "                                                      4                      \n",
       "                      ⎛               \\muᵣ⋅t         ⎞                       \n",
       "                      ⎝\\muᵣ + α⋅C(0)⋅ℯ       - α⋅C(0)⎠                       "
      ]
     },
     "execution_count": 6,
     "metadata": {},
     "output_type": "execute_result"
    }
   ],
   "source": [
    "varience = simplify(sr**2 * (f.args[1].diff(r).subs({r:ur}))**2)\n",
    "varience"
   ]
  },
  {
   "cell_type": "markdown",
   "metadata": {},
   "source": [
    "# Meanfield Growth"
   ]
  },
  {
   "cell_type": "code",
   "execution_count": 28,
   "metadata": {},
   "outputs": [
    {
     "data": {
      "image/png": "[encoded data removed]",
      "text/latex": [
       "$$\\left(- \\alpha C{\\left (t \\right )} - \\psi \\mu{\\left (t \\right )} + r\\right) C{\\left (t \\right )}$$"
      ],
      "text/plain": [
       "(-α⋅C(t) - ψ⋅\\mu(t) + r)⋅C(t)"
      ]
     },
     "execution_count": 28,
     "metadata": {},
     "output_type": "execute_result"
    }
   ],
   "source": [
    "#with interspecifc\n",
    "p = var(\"psi\")\n",
    "uC = Function(\"\\mu\")(t)\n",
    "RHS = C*(r-C*a-p*uC)\n",
    "RHS"
   ]
  },
  {
   "cell_type": "code",
   "execution_count": 29,
   "metadata": {},
   "outputs": [
    {
     "data": {
      "image/png": "[encoded data removed]",
      "text/latex": [
       "$$C{\\left (t \\right )} = \\frac{C{\\left (0 \\right )} e^{\\int^{0} \\psi \\mu{\\left (t \\right )}\\, dt - \\int \\left(\\psi \\mu{\\left (t \\right )} - r\\right)\\, dt}}{\\alpha \\left(\\int e^{- \\int \\left(- r\\right)\\, dt - \\int \\psi \\mu{\\left (t \\right )}\\, dt}\\, dt - \\int^{0} e^{- \\int \\left(- r\\right)\\, dt - \\int \\psi \\mu{\\left (t \\right )}\\, dt}\\, dt\\right) C{\\left (0 \\right )} e^{\\int^{0} \\psi \\mu{\\left (t \\right )}\\, dt} + 1}$$"
      ],
      "text/plain": [
       "                                       0                                      \n",
       "                                       ⌠               ⌠                      \n",
       "                                       ⎮ ψ⋅\\mu(t) dt - ⎮ (ψ⋅\\mu(t) - r) dt    \n",
       "                                       ⌡               ⌡                      \n",
       "                                                                              \n",
       "                                 C(0)⋅ℯ                                       \n",
       "C(t) = ───────────────────────────────────────────────────────────────────────\n",
       "         ⎛                                  0                              ⎞  \n",
       "         ⎜⌠                                 ⌠                              ⎟  \n",
       "         ⎜⎮    ⌠         ⌠                  ⎮    ⌠         ⌠               ⎟  \n",
       "         ⎜⎮  - ⎮ -r dt - ⎮ ψ⋅\\mu(t) dt      ⎮  - ⎮ -r dt - ⎮ ψ⋅\\mu(t) dt   ⎟  \n",
       "         ⎜⎮    ⌡         ⌡                  ⎮    ⌡         ⌡               ⎟  \n",
       "       α⋅⎜⎮ ℯ                          dt - ⎮ ℯ                          dt⎟⋅C\n",
       "         ⎜⌡                                 ⌡                              ⎟  \n",
       "         ⎝                                                                 ⎠  \n",
       "\n",
       "                      \n",
       "                      \n",
       "                      \n",
       "                      \n",
       "                      \n",
       "                      \n",
       "──────────────────────\n",
       "     0                \n",
       "     ⌠                \n",
       "     ⎮ ψ⋅\\mu(t) dt    \n",
       "     ⌡                \n",
       "                      \n",
       "(0)⋅ℯ              + 1\n",
       "                      \n",
       "                      "
      ]
     },
     "execution_count": 29,
     "metadata": {},
     "output_type": "execute_result"
    }
   ],
   "source": [
    "LHS = C.diff(t)\n",
    "sol = dsolve(Eq(LHS,RHS))\n",
    "C1_sol = solve(sol.subs({t:0}),C1)[0]\n",
    "f = simplify(sol.subs({C1:C1_sol}))\n",
    "f"
   ]
  },
  {
   "cell_type": "code",
   "execution_count": 55,
   "metadata": {},
   "outputs": [
    {
     "data": {
      "image/png": "[encoded data removed]",
      "text/latex": [
       "$$\\mu{\\left (t \\right )} = \\frac{\\mu_r e^{\\mu_r \\left(t + \\frac{\\log{\\left (\\frac{\\left(\\mu_{\\psi} + \\mu_{a}\\right) \\mu{\\left (0 \\right )}}{- \\mu_r + \\mu_{\\psi} \\mu{\\left (0 \\right )} + \\mu_{a} \\mu{\\left (0 \\right )}} \\right )}}{\\mu_r}\\right)}}{- \\mu_{\\psi} - \\mu_{a} + \\left(\\mu_{\\psi} + \\mu_{a}\\right) e^{\\mu_r \\left(t + \\frac{\\log{\\left (\\frac{\\left(\\mu_{\\psi} + \\mu_{a}\\right) \\mu{\\left (0 \\right )}}{- \\mu_r + \\mu_{\\psi} \\mu{\\left (0 \\right )} + \\mu_{a} \\mu{\\left (0 \\right )}} \\right )}}{\\mu_r}\\right)}}$$"
      ],
      "text/plain": [
       "                                         ⎛       ⎛      (\\mu_{\\psi} + \\mu_{a})\n",
       "                                         ⎜    log⎜────────────────────────────\n",
       "                                         ⎜       ⎝-\\muᵣ + \\mu_{\\psi}⋅\\mu(0) + \n",
       "                                    \\muᵣ⋅⎜t + ────────────────────────────────\n",
       "                                         ⎝                          \\muᵣ      \n",
       "                              \\muᵣ⋅ℯ                                          \n",
       "\\mu(t) = ─────────────────────────────────────────────────────────────────────\n",
       "                                                              ⎛       ⎛      (\n",
       "                                                              ⎜    log⎜───────\n",
       "                                                              ⎜       ⎝-\\muᵣ +\n",
       "                                                         \\muᵣ⋅⎜t + ───────────\n",
       "                                                              ⎝               \n",
       "         -\\mu_{\\psi} - \\mu_{a} + (\\mu_{\\psi} + \\mu_{a})⋅ℯ                     \n",
       "\n",
       "⋅\\mu(0)       ⎞⎞                     \n",
       "──────────────⎟⎟                     \n",
       "\\mu_{a}⋅\\mu(0)⎠⎟                     \n",
       "───────────────⎟                     \n",
       "               ⎠                     \n",
       "                                     \n",
       "─────────────────────────────────────\n",
       "\\mu_{\\psi} + \\mu_{a})⋅\\mu(0)       ⎞⎞\n",
       "───────────────────────────────────⎟⎟\n",
       " \\mu_{\\psi}⋅\\mu(0) + \\mu_{a}⋅\\mu(0)⎠⎟\n",
       "────────────────────────────────────⎟\n",
       "           \\muᵣ                     ⎠\n",
       "                                     "
      ]
     },
     "execution_count": 55,
     "metadata": {},
     "output_type": "execute_result"
    }
   ],
   "source": [
    "#solve mean\n",
    "ur,sr = var(\"\\mu_r,\\sigma_r\")\n",
    "ua,sa = var(\"\\mu_{a},\\sigma_{a}\")\n",
    "up,sp = var(\"\\mu_{\\psi},\\sigma_{\\psi}\")\n",
    "LHS = uC.diff(t)\n",
    "\n",
    "sol = dsolve(Eq(LHS,RHS.subs({C:uC,r:ur,a:ua,p:up})))\n",
    "C1_sol = solve(sol.subs({t:0}),C1)[0]\n",
    "sol_uC = sol.subs({C1:C1_sol})\n",
    "sol_uC"
   ]
  },
  {
   "cell_type": "code",
   "execution_count": 59,
   "metadata": {},
   "outputs": [],
   "source": [
    "C_sol = dsolve(Eq(C.diff(t),RHS.subs({uC:sol_uC.args[1]})))\n",
    "C1_sol = solve(C_sol.subs({t:0}),C1)[0]\n",
    "C_sol = C_sol.subs({C1:C1_sol})"
   ]
  },
  {
   "cell_type": "code",
   "execution_count": 62,
   "metadata": {},
   "outputs": [
    {
     "data": {
      "image/png": "[encoded data removed]",
      "text/latex": [
       "$$C{\\left (t \\right )} = \\frac{e^{- \\frac{\\psi \\log{\\left (e^{10 t} + 1.0 \\right )}}{5} + r t}}{\\alpha \\int e^{- \\frac{\\psi \\log{\\left (e^{10 t} + 1.0 \\right )}}{5}} e^{r t}\\, dt + \\frac{\\left(- \\alpha C{\\left (0 \\right )} e^{0.138629436111989 \\psi} \\int^{0} e^{- \\frac{\\psi \\log{\\left (1.0 e^{10 t} + 1.0 \\right )}}{5} + r t}\\, dt + 1\\right) e^{- 0.138629436111989 \\psi}}{C{\\left (0 \\right )}}}$$"
      ],
      "text/plain": [
       "                                                                  ⎛ 10⋅t      \n",
       "                                                             ψ⋅log⎝ℯ     + 1.0\n",
       "                                                           - ─────────────────\n",
       "                                                                     5        \n",
       "                                                          ℯ                   \n",
       "C(t) = ───────────────────────────────────────────────────────────────────────\n",
       "                                           ⎛                              0   \n",
       "                                           ⎜                              ⌠   \n",
       "                                           ⎜                              ⎮   \n",
       "                                           ⎜                              ⎮   \n",
       "         ⌠                                 ⎜                              ⎮  -\n",
       "         ⎮        ⎛ 10⋅t      ⎞            ⎜          0.138629436111989⋅ψ ⎮   \n",
       "         ⎮  -ψ⋅log⎝ℯ     + 1.0⎠            ⎜- α⋅C(0)⋅ℯ                   ⋅⎮ ℯ \n",
       "         ⎮  ────────────────────           ⎜                              ⌡   \n",
       "         ⎮           5            r⋅t      ⎝                                  \n",
       "       α⋅⎮ ℯ                    ⋅ℯ    dt + ───────────────────────────────────\n",
       "         ⌡                                                                    \n",
       "\n",
       "⎞                                                          \n",
       "⎠                                                          \n",
       "─ + r⋅t                                                    \n",
       "                                                           \n",
       "                                                           \n",
       "───────────────────────────────────────────────────────────\n",
       "                                    ⎞                      \n",
       "                                    ⎟                      \n",
       "      ⎛     10⋅t      ⎞             ⎟                      \n",
       " ψ⋅log⎝1.0⋅ℯ     + 1.0⎠             ⎟                      \n",
       " ────────────────────── + r⋅t       ⎟                      \n",
       "           5                        ⎟  -0.138629436111989⋅ψ\n",
       "                              dt + 1⎟⋅ℯ                    \n",
       "                                    ⎟                      \n",
       "                                    ⎠                      \n",
       "───────────────────────────────────────────────────────────\n",
       "          C(0)                                             "
      ]
     },
     "execution_count": 62,
     "metadata": {},
     "output_type": "execute_result"
    }
   ],
   "source": [
    "C_sol.subs({ur:10,ua:5,up:0,uC.subs({t:0}):1.0})"
   ]
  },
  {
   "cell_type": "code",
   "execution_count": 31,
   "metadata": {},
   "outputs": [
    {
     "data": {
      "image/png": "[encoded data removed]",
      "text/latex": [
       "$$\\mu_{C}{\\left (t \\right )} = \\frac{\\mu_r \\mu_{C}{\\left (0 \\right )} e^{\\mu_r t}}{\\mu_r - \\mu_{\\psi} \\mu_{C}{\\left (0 \\right )} - \\mu_{a} \\mu_{C}{\\left (0 \\right )} + \\left(\\mu_{\\psi} + \\mu_{a}\\right) \\mu_{C}{\\left (0 \\right )} e^{\\mu_r t}}$$"
      ],
      "text/plain": [
       "                                                           \\muᵣ⋅t             \n",
       "                                            \\muᵣ⋅\\mu_C(0)⋅ℯ                   \n",
       "\\mu_C(t) = ───────────────────────────────────────────────────────────────────\n",
       "                                                                              \n",
       "           \\muᵣ - \\mu_{\\psi}⋅\\mu_C(0) - \\mu_{a}⋅\\mu_C(0) + (\\mu_{\\psi} + \\mu_{\n",
       "\n",
       "                    \n",
       "                    \n",
       "────────────────────\n",
       "              \\muᵣ⋅t\n",
       "a})⋅\\mu_C(0)⋅ℯ      "
      ]
     },
     "execution_count": 31,
     "metadata": {},
     "output_type": "execute_result"
    }
   ],
   "source": [
    "#solve mean\n",
    "ur,sr = var(\"\\mu_r,\\sigma_r\")\n",
    "ua,sa = var(\"\\mu_{a},\\sigma_{a}\")\n",
    "up,sp = var(\"\\mu_{\\psi},\\sigma_{\\psi}\")\n",
    "\n",
    "LHS = uC.diff(t)\n",
    "RHS_mean = RHS.subs({C:uC}).subs({r:ur,a:ua,p:up})\n",
    "sol = dsolve(Eq(LHS,RHS_mean))\n",
    "C1_sol = solve(sol.subs({t:0}),C1)[0]\n",
    "f = simplify(sol.subs({C1:C1_sol}))\n",
    "f"
   ]
  },
  {
   "cell_type": "code",
   "execution_count": 36,
   "metadata": {},
   "outputs": [
    {
     "data": {
      "image/png": "[encoded data removed]",
      "text/latex": [
       "$$- \\frac{\\mu_r^{2} \\left(\\mu_{\\psi} + \\mu_{a}\\right) \\mu_{C}^{2}{\\left (0 \\right )} e^{2 \\mu_r t}}{\\left(\\mu_r - \\mu_{\\psi} \\mu_{C}{\\left (0 \\right )} - \\mu_{a} \\mu_{C}{\\left (0 \\right )} + \\left(\\mu_{\\psi} + \\mu_{a}\\right) \\mu_{C}{\\left (0 \\right )} e^{\\mu_r t}\\right)^{2}} + \\frac{\\mu_r^{2} \\mu_{C}{\\left (0 \\right )} e^{\\mu_r t}}{\\mu_r - \\mu_{\\psi} \\mu_{C}{\\left (0 \\right )} - \\mu_{a} \\mu_{C}{\\left (0 \\right )} + \\left(\\mu_{\\psi} + \\mu_{a}\\right) \\mu_{C}{\\left (0 \\right )} e^{\\mu_r t}}$$"
      ],
      "text/plain": [
       "                           2                             2     2⋅\\muᵣ⋅t       \n",
       "                       \\muᵣ ⋅(\\mu_{\\psi} + \\mu_{a})⋅\\mu_C (0)⋅ℯ               \n",
       "- ────────────────────────────────────────────────────────────────────────────\n",
       "                                                                              \n",
       "  ⎛                                                                           \n",
       "  ⎝\\muᵣ - \\mu_{\\psi}⋅\\mu_C(0) - \\mu_{a}⋅\\mu_C(0) + (\\mu_{\\psi} + \\mu_{a})⋅\\mu_\n",
       "\n",
       "                                                      2           \\muᵣ⋅t      \n",
       "                                                  \\muᵣ ⋅\\mu_C(0)⋅ℯ            \n",
       "────────────── + ─────────────────────────────────────────────────────────────\n",
       "             2                                                                \n",
       "      \\muᵣ⋅t⎞    \\muᵣ - \\mu_{\\psi}⋅\\mu_C(0) - \\mu_{a}⋅\\mu_C(0) + (\\mu_{\\psi} +\n",
       "C(0)⋅ℯ      ⎠                                                                 \n",
       "\n",
       "                          \n",
       "                          \n",
       "──────────────────────────\n",
       "                    \\muᵣ⋅t\n",
       " \\mu_{a})⋅\\mu_C(0)⋅ℯ      \n",
       "                          "
      ]
     },
     "execution_count": 36,
     "metadata": {},
     "output_type": "execute_result"
    }
   ],
   "source": [
    "diff(f.args[],t)"
   ]
  },
  {
   "cell_type": "code",
   "execution_count": 32,
   "metadata": {},
   "outputs": [
    {
     "data": {
      "image/png": "[encoded data removed]",
      "text/latex": [
       "$$\\left(\\mu_r - \\mu_{\\psi} \\mu_{C}{\\left (t \\right )} - \\mu_{a} \\mu_{C}{\\left (t \\right )}\\right) \\mu_{C}{\\left (t \\right )}$$"
      ],
      "text/plain": [
       "(\\muᵣ - \\mu_{\\psi}⋅\\mu_C(t) - \\mu_{a}⋅\\mu_C(t))⋅\\mu_C(t)"
      ]
     },
     "execution_count": 32,
     "metadata": {},
     "output_type": "execute_result"
    }
   ],
   "source": [
    "RHS_mean"
   ]
  },
  {
   "cell_type": "code",
   "execution_count": 466,
   "metadata": {},
   "outputs": [
    {
     "data": {
      "image/png": "[encoded data removed]",
      "text/latex": [
       "$$2 \\mu_r \\mu^{2}_{C}{\\left (t \\right )} - 4 \\mu_{\\psi} \\mu^{2}_{C}{\\left (t \\right )} \\mu_{C}{\\left (t \\right )} - \\frac{2 \\mu_{a} \\mu^{2}_{C}{\\left (t \\right )}}{\\mu_{C}{\\left (t \\right )}}$$"
      ],
      "text/plain": [
       "                                                                 2⋅\\mu_{a}⋅\\mu\n",
       "2⋅\\muᵣ⋅\\mu_{C}__{2}(t) - 4⋅\\mu_{\\psi}⋅\\mu_{C}__{2}(t)⋅\\mu_C(t) - ─────────────\n",
       "                                                                          \\mu_\n",
       "\n",
       "_{C}__{2}(t)\n",
       "────────────\n",
       "C(t)        "
      ]
     },
     "execution_count": 466,
     "metadata": {},
     "output_type": "execute_result"
    }
   ],
   "source": [
    "RHS_2nd.subs({uC_3:uC_2/uC})"
   ]
  },
  {
   "cell_type": "code",
   "execution_count": 458,
   "metadata": {},
   "outputs": [
    {
     "ename": "TypeError",
     "evalue": "'Equality' object is not iterable",
     "output_type": "error",
     "traceback": [
      "\u001b[0;31m---------------------------------------------------------------------------\u001b[0m",
      "\u001b[0;31mTypeError\u001b[0m                                 Traceback (most recent call last)",
      "\u001b[0;32m<ipython-input-458-c4ce94f443dc>\u001b[0m in \u001b[0;36m<module>\u001b[0;34m\u001b[0m\n\u001b[1;32m      2\u001b[0m \u001b[0;34m\u001b[0m\u001b[0m\n\u001b[1;32m      3\u001b[0m \u001b[0;34m\u001b[0m\u001b[0m\n\u001b[0;32m----> 4\u001b[0;31m \u001b[0mdsolve\u001b[0m\u001b[0;34m(\u001b[0m\u001b[0meq\u001b[0m\u001b[0;34m)\u001b[0m\u001b[0;34m\u001b[0m\u001b[0m\n\u001b[0m",
      "\u001b[0;32m/usr/local/lib/python3.7/site-packages/sympy/solvers/ode.py\u001b[0m in \u001b[0;36mdsolve\u001b[0;34m(eq, func, hint, simplify, ics, xi, eta, x0, n, **kwargs)\u001b[0m\n\u001b[1;32m    616\u001b[0m             \u001b[0;32melse\u001b[0m\u001b[0;34m:\u001b[0m\u001b[0;34m\u001b[0m\u001b[0m\n\u001b[1;32m    617\u001b[0m                 \u001b[0msolvefunc\u001b[0m \u001b[0;34m=\u001b[0m \u001b[0mglobals\u001b[0m\u001b[0;34m(\u001b[0m\u001b[0;34m)\u001b[0m\u001b[0;34m[\u001b[0m\u001b[0;34m'sysode_nonlinear_%(no_of_equation)seq_order%(order)s'\u001b[0m \u001b[0;34m%\u001b[0m \u001b[0mmatch\u001b[0m\u001b[0;34m]\u001b[0m\u001b[0;34m\u001b[0m\u001b[0m\n\u001b[0;32m--> 618\u001b[0;31m             \u001b[0msols\u001b[0m \u001b[0;34m=\u001b[0m \u001b[0msolvefunc\u001b[0m\u001b[0;34m(\u001b[0m\u001b[0mmatch\u001b[0m\u001b[0;34m)\u001b[0m\u001b[0;34m\u001b[0m\u001b[0m\n\u001b[0m\u001b[1;32m    619\u001b[0m             \u001b[0;32mif\u001b[0m \u001b[0mics\u001b[0m\u001b[0;34m:\u001b[0m\u001b[0;34m\u001b[0m\u001b[0m\n\u001b[1;32m    620\u001b[0m                 \u001b[0mconstants\u001b[0m \u001b[0;34m=\u001b[0m \u001b[0mTuple\u001b[0m\u001b[0;34m(\u001b[0m\u001b[0;34m*\u001b[0m\u001b[0msols\u001b[0m\u001b[0;34m)\u001b[0m\u001b[0;34m.\u001b[0m\u001b[0mfree_symbols\u001b[0m \u001b[0;34m-\u001b[0m \u001b[0mTuple\u001b[0m\u001b[0;34m(\u001b[0m\u001b[0;34m*\u001b[0m\u001b[0meq\u001b[0m\u001b[0;34m)\u001b[0m\u001b[0;34m.\u001b[0m\u001b[0mfree_symbols\u001b[0m\u001b[0;34m\u001b[0m\u001b[0m\n",
      "\u001b[0;32m/usr/local/lib/python3.7/site-packages/sympy/solvers/ode.py\u001b[0m in \u001b[0;36msysode_nonlinear_2eq_order1\u001b[0;34m(match_)\u001b[0m\n\u001b[1;32m   7927\u001b[0m         \u001b[0msol\u001b[0m \u001b[0;34m=\u001b[0m \u001b[0m_nonlinear_2eq_order1_type2\u001b[0m\u001b[0;34m(\u001b[0m\u001b[0mx\u001b[0m\u001b[0;34m,\u001b[0m \u001b[0my\u001b[0m\u001b[0;34m,\u001b[0m \u001b[0mt\u001b[0m\u001b[0;34m,\u001b[0m \u001b[0meq\u001b[0m\u001b[0;34m)\u001b[0m\u001b[0;34m\u001b[0m\u001b[0m\n\u001b[1;32m   7928\u001b[0m     \u001b[0;32melif\u001b[0m \u001b[0mmatch_\u001b[0m\u001b[0;34m[\u001b[0m\u001b[0;34m'type_of_equation'\u001b[0m\u001b[0;34m]\u001b[0m \u001b[0;34m==\u001b[0m \u001b[0;34m'type3'\u001b[0m\u001b[0;34m:\u001b[0m\u001b[0;34m\u001b[0m\u001b[0m\n\u001b[0;32m-> 7929\u001b[0;31m         \u001b[0msol\u001b[0m \u001b[0;34m=\u001b[0m \u001b[0m_nonlinear_2eq_order1_type3\u001b[0m\u001b[0;34m(\u001b[0m\u001b[0mx\u001b[0m\u001b[0;34m,\u001b[0m \u001b[0my\u001b[0m\u001b[0;34m,\u001b[0m \u001b[0mt\u001b[0m\u001b[0;34m,\u001b[0m \u001b[0meq\u001b[0m\u001b[0;34m)\u001b[0m\u001b[0;34m\u001b[0m\u001b[0m\n\u001b[0m\u001b[1;32m   7930\u001b[0m     \u001b[0;32melif\u001b[0m \u001b[0mmatch_\u001b[0m\u001b[0;34m[\u001b[0m\u001b[0;34m'type_of_equation'\u001b[0m\u001b[0;34m]\u001b[0m \u001b[0;34m==\u001b[0m \u001b[0;34m'type4'\u001b[0m\u001b[0;34m:\u001b[0m\u001b[0;34m\u001b[0m\u001b[0m\n\u001b[1;32m   7931\u001b[0m         \u001b[0msol\u001b[0m \u001b[0;34m=\u001b[0m \u001b[0m_nonlinear_2eq_order1_type4\u001b[0m\u001b[0;34m(\u001b[0m\u001b[0mx\u001b[0m\u001b[0;34m,\u001b[0m \u001b[0my\u001b[0m\u001b[0;34m,\u001b[0m \u001b[0mt\u001b[0m\u001b[0;34m,\u001b[0m \u001b[0meq\u001b[0m\u001b[0;34m)\u001b[0m\u001b[0;34m\u001b[0m\u001b[0m\n",
      "\u001b[0;32m/usr/local/lib/python3.7/site-packages/sympy/solvers/ode.py\u001b[0m in \u001b[0;36m_nonlinear_2eq_order1_type3\u001b[0;34m(x, y, t, eq)\u001b[0m\n\u001b[1;32m   8050\u001b[0m     \u001b[0mG\u001b[0m \u001b[0;34m=\u001b[0m \u001b[0mr2\u001b[0m\u001b[0;34m[\u001b[0m\u001b[0mg\u001b[0m\u001b[0;34m]\u001b[0m\u001b[0;34m.\u001b[0m\u001b[0msubs\u001b[0m\u001b[0;34m(\u001b[0m\u001b[0mx\u001b[0m\u001b[0;34m(\u001b[0m\u001b[0mt\u001b[0m\u001b[0;34m)\u001b[0m\u001b[0;34m,\u001b[0m \u001b[0mu\u001b[0m\u001b[0;34m)\u001b[0m\u001b[0;34m.\u001b[0m\u001b[0msubs\u001b[0m\u001b[0;34m(\u001b[0m\u001b[0my\u001b[0m\u001b[0;34m(\u001b[0m\u001b[0mt\u001b[0m\u001b[0;34m)\u001b[0m\u001b[0;34m,\u001b[0m \u001b[0mv\u001b[0m\u001b[0;34m(\u001b[0m\u001b[0mu\u001b[0m\u001b[0;34m)\u001b[0m\u001b[0;34m)\u001b[0m\u001b[0;34m\u001b[0m\u001b[0m\n\u001b[1;32m   8051\u001b[0m     \u001b[0msol2r\u001b[0m \u001b[0;34m=\u001b[0m \u001b[0mdsolve\u001b[0m\u001b[0;34m(\u001b[0m\u001b[0mEq\u001b[0m\u001b[0;34m(\u001b[0m\u001b[0mdiff\u001b[0m\u001b[0;34m(\u001b[0m\u001b[0mv\u001b[0m\u001b[0;34m(\u001b[0m\u001b[0mu\u001b[0m\u001b[0;34m)\u001b[0m\u001b[0;34m,\u001b[0m \u001b[0mu\u001b[0m\u001b[0;34m)\u001b[0m\u001b[0;34m,\u001b[0m \u001b[0mG\u001b[0m\u001b[0;34m/\u001b[0m\u001b[0mF\u001b[0m\u001b[0;34m)\u001b[0m\u001b[0;34m)\u001b[0m\u001b[0;34m\u001b[0m\u001b[0m\n\u001b[0;32m-> 8052\u001b[0;31m     \u001b[0;32mfor\u001b[0m \u001b[0msol2s\u001b[0m \u001b[0;32min\u001b[0m \u001b[0msol2r\u001b[0m\u001b[0;34m:\u001b[0m\u001b[0;34m\u001b[0m\u001b[0m\n\u001b[0m\u001b[1;32m   8053\u001b[0m         \u001b[0msol1\u001b[0m \u001b[0;34m=\u001b[0m \u001b[0msolve\u001b[0m\u001b[0;34m(\u001b[0m\u001b[0mIntegral\u001b[0m\u001b[0;34m(\u001b[0m\u001b[0;36m1\u001b[0m\u001b[0;34m/\u001b[0m\u001b[0mF\u001b[0m\u001b[0;34m.\u001b[0m\u001b[0msubs\u001b[0m\u001b[0;34m(\u001b[0m\u001b[0mv\u001b[0m\u001b[0;34m(\u001b[0m\u001b[0mu\u001b[0m\u001b[0;34m)\u001b[0m\u001b[0;34m,\u001b[0m \u001b[0msol2s\u001b[0m\u001b[0;34m.\u001b[0m\u001b[0mrhs\u001b[0m\u001b[0;34m)\u001b[0m\u001b[0;34m,\u001b[0m \u001b[0mu\u001b[0m\u001b[0;34m)\u001b[0m\u001b[0;34m.\u001b[0m\u001b[0mdoit\u001b[0m\u001b[0;34m(\u001b[0m\u001b[0;34m)\u001b[0m \u001b[0;34m-\u001b[0m \u001b[0mt\u001b[0m \u001b[0;34m-\u001b[0m \u001b[0mC2\u001b[0m\u001b[0;34m,\u001b[0m \u001b[0mu\u001b[0m\u001b[0;34m)\u001b[0m\u001b[0;34m\u001b[0m\u001b[0m\n\u001b[1;32m   8054\u001b[0m     \u001b[0msol\u001b[0m \u001b[0;34m=\u001b[0m \u001b[0;34m[\u001b[0m\u001b[0;34m]\u001b[0m\u001b[0;34m\u001b[0m\u001b[0m\n",
      "\u001b[0;31mTypeError\u001b[0m: 'Equality' object is not iterable"
     ]
    }
   ],
   "source": [
    "eq = (Eq(uC.diff(t),RHS_mean),Eq(uC_2.diff(t),RHS_2nd))"
   ]
  },
  {
   "cell_type": "code",
   "execution_count": null,
   "metadata": {},
   "outputs": [],
   "source": []
  },
  {
   "cell_type": "code",
   "execution_count": 153,
   "metadata": {},
   "outputs": [],
   "source": [
    "#Var\n",
    "vC = Function(\"Var(C)\")(t)\n",
    "LHS = vC.diff(t)\n",
    "RHS_var = (sr**2 * RHS.diff(r)**2 + sa**2 * RHS.diff(a)**2 + sp**2 * RHS.diff(p)**2).subs({C:uC})\n",
    "# dsolve(Eq(LHS,RHS_var.subs({uC:f.args[1]})))\n"
   ]
  },
  {
   "cell_type": "code",
   "execution_count": 405,
   "metadata": {},
   "outputs": [
    {
     "data": {
      "image/png": "[encoded data removed]",
      "text/latex": [
       "$$\\left(\\mu_r - \\mu_{\\psi} \\mu_{C}{\\left (t \\right )} - \\mu_{a} \\mu_{C}{\\left (t \\right )}\\right) \\mu_{C}{\\left (t \\right )}$$"
      ],
      "text/plain": [
       "(\\muᵣ - \\mu_{\\psi}⋅\\mu_C(t) - \\mu_{a}⋅\\mu_C(t))⋅\\mu_C(t)"
      ]
     },
     "execution_count": 405,
     "metadata": {},
     "output_type": "execute_result"
    }
   ],
   "source": []
  },
  {
   "cell_type": "code",
   "execution_count": null,
   "metadata": {},
   "outputs": [],
   "source": []
  },
  {
   "cell_type": "code",
   "execution_count": 188,
   "metadata": {},
   "outputs": [
    {
     "data": {
      "image/png": "[encoded data removed]",
      "text/latex": [
       "$$C{\\left (t \\right )} = \\frac{e^{- \\int \\left(\\psi \\mu_{C}{\\left (t \\right )} - r\\right)\\, dt}}{C_{1} + \\int \\left(e^{- \\int \\left(- r\\right)\\, dt}\\right) e^{- \\int \\psi \\mu_{C}{\\left (t \\right )}\\, dt}\\, dt}$$"
      ],
      "text/plain": [
       "                ⌠                             \n",
       "               -⎮ (ψ⋅\\mu_{C}(t) - r) dt       \n",
       "                ⌡                             \n",
       "              ℯ                               \n",
       "C(t) = ───────────────────────────────────────\n",
       "            ⌠                                 \n",
       "            ⎮   ⌠         ⌠                   \n",
       "            ⎮  -⎮ -r dt  -⎮ ψ⋅\\mu_{C}(t) dt   \n",
       "            ⎮   ⌡         ⌡                   \n",
       "       C₁ + ⎮ ℯ        ⋅ℯ                   dt\n",
       "            ⌡                                 "
      ]
     },
     "execution_count": 188,
     "metadata": {},
     "output_type": "execute_result"
    }
   ],
   "source": [
    "LHS = C.diff(t)\n",
    "sol = dsolve(Eq(LHS,RHS))\n",
    "sol"
   ]
  },
  {
   "cell_type": "code",
   "execution_count": 193,
   "metadata": {},
   "outputs": [
    {
     "data": {
      "image/png": "[encoded data removed]",
      "text/latex": [
       "$$\\left [ \\frac{C{\\left (0 \\right )} e^{- \\int \\left(\\psi \\mu_{C}{\\left (t \\right )} - r\\right)\\, dt}}{C{\\left (0 \\right )} \\int \\left(e^{- \\int \\left(- r\\right)\\, dt}\\right) e^{- \\int \\psi \\mu_{C}{\\left (t \\right )}\\, dt}\\, dt - C{\\left (0 \\right )} \\int^{0} e^{- \\int \\left(- r\\right)\\, dt - \\int \\psi \\mu_{C}{\\left (t \\right )}\\, dt}\\, dt + 1}\\right ]$$"
      ],
      "text/plain": [
       "⎡                                   ⌠                                         \n",
       "⎢                                  -⎮ (ψ⋅\\mu_{C}(t) - r) dt                   \n",
       "⎢                                   ⌡                                         \n",
       "⎢                            C(0)⋅ℯ                                           \n",
       "⎢─────────────────────────────────────────────────────────────────────────────\n",
       "⎢                                               0                             \n",
       "⎢     ⌠                                         ⌠                             \n",
       "⎢     ⎮   ⌠         ⌠                           ⎮    ⌠         ⌠              \n",
       "⎢     ⎮  -⎮ -r dt  -⎮ ψ⋅\\mu_{C}(t) dt           ⎮  - ⎮ -r dt - ⎮ ψ⋅\\mu_{C}(t) \n",
       "⎢     ⎮   ⌡         ⌡                           ⎮    ⌡         ⌡              \n",
       "⎢C(0)⋅⎮ ℯ        ⋅ℯ                   dt - C(0)⋅⎮ ℯ                           \n",
       "⎢     ⌡                                         ⌡                             \n",
       "⎣                                                                             \n",
       "\n",
       "         ⎤\n",
       "         ⎥\n",
       "         ⎥\n",
       "         ⎥\n",
       "─────────⎥\n",
       "         ⎥\n",
       "         ⎥\n",
       "         ⎥\n",
       "dt       ⎥\n",
       "         ⎥\n",
       "   dt + 1⎥\n",
       "         ⎥\n",
       "         ⎦"
      ]
     },
     "execution_count": 193,
     "metadata": {},
     "output_type": "execute_result"
    }
   ],
   "source": [
    "C1_sol = solve(sol.subs({t:0}),C1)[0]\n",
    "solve(sol.subs({C1:C1_sol,C0:uC.subs({t:0}),C:uC}),uC)"
   ]
  },
  {
   "cell_type": "code",
   "execution_count": 181,
   "metadata": {},
   "outputs": [],
   "source": [
    "sol_real = simplify(sol.subs({C1:C1_sol}))"
   ]
  },
  {
   "cell_type": "code",
   "execution_count": 59,
   "metadata": {},
   "outputs": [
    {
     "data": {
      "image/png": "[encoded data removed]",
      "text/latex": [
       "$$C{\\left (t \\right )}$$"
      ],
      "text/plain": [
       "C(t)"
      ]
     },
     "execution_count": 59,
     "metadata": {},
     "output_type": "execute_result"
    }
   ],
   "source": [
    "f = dsolve(Eq(C.diff(t),uC*C))\n",
    "f.args[1].subs({C1:solve(f,C1)[0]})"
   ]
  },
  {
   "cell_type": "code",
   "execution_count": 63,
   "metadata": {},
   "outputs": [
    {
     "data": {
      "image/png": "[encoded data removed]",
      "text/latex": [
       "$$C{\\left (t \\right )} = C{\\left (0 \\right )} \\left(e^{\\int \\mu_{C}{\\left (t \\right )}\\, dt}\\right) e^{- \\int^{0} \\mu_{C}{\\left (t \\right )}\\, dt}$$"
      ],
      "text/plain": [
       "                             0            \n",
       "                             ⌠            \n",
       "             ⌠              -⎮ \\mu_C(t) dt\n",
       "             ⎮ \\mu_C(t) dt   ⌡            \n",
       "             ⌡                            \n",
       "C(t) = C(0)⋅ℯ             ⋅ℯ              "
      ]
     },
     "execution_count": 63,
     "metadata": {},
     "output_type": "execute_result"
    }
   ],
   "source": [
    "g = f.subs({C1:solve(f.subs({t:0}),C1)[0]})\n",
    "g"
   ]
  },
  {
   "cell_type": "code",
   "execution_count": 73,
   "metadata": {},
   "outputs": [
    {
     "data": {
      "image/png": "[encoded data removed]",
      "text/latex": [
       "$$C{\\left (0 \\right )} \\left(e^{\\int e^{t}\\, dt}\\right) e^{- \\int^{0} e^{t}\\, dt}$$"
      ],
      "text/plain": [
       "                0      \n",
       "                ⌠      \n",
       "      ⌠         ⎮  t   \n",
       "      ⎮  t     -⎮ ℯ  dt\n",
       "      ⎮ ℯ  dt   ⌡      \n",
       "      ⌡                \n",
       "C(0)⋅ℯ       ⋅ℯ        "
      ]
     },
     "execution_count": 73,
     "metadata": {},
     "output_type": "execute_result"
    }
   ],
   "source": [
    "g.subs({uC:exp(t)}).args[1]"
   ]
  },
  {
   "cell_type": "code",
   "execution_count": 76,
   "metadata": {},
   "outputs": [
    {
     "data": {
      "image/png": "[encoded data removed]",
      "text/latex": [
       "$$e^{t}$$"
      ],
      "text/plain": [
       " t\n",
       "ℯ "
      ]
     },
     "execution_count": 76,
     "metadata": {},
     "output_type": "execute_result"
    }
   ],
   "source": [
    "integrate(exp(t),t)"
   ]
  },
  {
   "cell_type": "code",
   "execution_count": 43,
   "metadata": {},
   "outputs": [
    {
     "data": {
      "image/png": "[encoded data removed]",
      "text/latex": [
       "$$\\frac{d}{d t} C{\\left (t \\right )} = C{\\left (t \\right )} \\mu_{C}{\\left (t \\right )}$$"
      ],
      "text/plain": [
       "d                       \n",
       "──(C(t)) = C(t)⋅\\mu_C(t)\n",
       "dt                      "
      ]
     },
     "execution_count": 43,
     "metadata": {},
     "output_type": "execute_result"
    }
   ],
   "source": [
    "f = uC*C\n",
    "Eq(C.diff(t),f)"
   ]
  },
  {
   "cell_type": "code",
   "execution_count": 47,
   "metadata": {},
   "outputs": [
    {
     "data": {
      "image/png": "[encoded data removed]",
      "text/latex": [
       "$$\\int \\mu_{C}{\\left (t \\right )} \\int C{\\left (t \\right )} \\mu_{C}{\\left (t \\right )}\\, dt\\, dt$$"
      ],
      "text/plain": [
       "⌠                               \n",
       "⎮          ⌠                    \n",
       "⎮ \\mu_C(t)⋅⎮ C(t)⋅\\mu_C(t) dt dt\n",
       "⎮          ⌡                    \n",
       "⌡                               "
      ]
     },
     "execution_count": 47,
     "metadata": {},
     "output_type": "execute_result"
    }
   ],
   "source": []
  },
  {
   "cell_type": "code",
   "execution_count": null,
   "metadata": {},
   "outputs": [],
   "source": []
  },
  {
   "cell_type": "markdown",
   "metadata": {},
   "source": [
    "%%javascript\n",
    "MathJax.Hub.Config({\n",
    "    TeX: { equationNumbers: { autoNumber: \"AMS\" } }\n",
    "});\n",
    "\n",
    "# Liebniz's Rule\n",
    "We can obtain expresions for the change in moments over time by using differention under the integral sign. \n",
    "\n",
    "If we have a system described by:\n",
    "$$\n",
    "\\frac{dC}{dt} = f(C(t),\\theta)\n",
    "$$\n",
    "\n",
    "where $\\theta$ is a random variable with probabilty distribution function $p_{\\theta}(\\theta)$. We want to obtain the change in the expectation of this value which is given by:\n",
    "\n",
    "$$\n",
    "\\frac{dE[C(t)]}{dt} = \\frac{d}{dt} \\int C(t) p_C(C(t)) dC(t)\n",
    "$$\n",
    "\n",
    "We can express the $E[C(t)]$ in terms of the parameter $\\theta$ by recalling that\n",
    "\n",
    "$$\n",
    "E[g(x)] = \\int g(x) p_X(x) dx \\\\\n",
    "$$\n",
    "\n",
    "and rearanging the first equation above\n",
    "\n",
    "$$\n",
    "g(\\theta) = \\int f(C(t),\\theta) dt = C(t)\n",
    "$$\n",
    "\n",
    "which if we combine gives us\n",
    "\n",
    "\\begin{align}\n",
    "\\frac{dE[C(t)]}{dt} &= \\frac{d}{dt} \\int p_{\\theta}(\\theta) g(\\theta) \\ d\\theta \\\\\n",
    "                    &= \\frac{d}{dt} \\int p_{\\theta}(\\theta) \\int f(C(t),\\theta) \\ dt \\ d\\theta \\\\\n",
    "                    &= \\int p_{\\theta}(\\theta) f(C(t),\\theta) d\\theta \\\\\n",
    "                    &= E[f(C(t),\\theta)]\n",
    "\\end{align}\n",
    "\n",
    "So the change in the mean is given by the expextation across the parameters of the growth equation."
   ]
  },
  {
   "cell_type": "code",
   "execution_count": 57,
   "metadata": {},
   "outputs": [
    {
     "ename": "ValueError",
     "evalue": "subs accepts either 1 or 2 arguments",
     "output_type": "error",
     "traceback": [
      "\u001b[0;31m---------------------------------------------------------------------------\u001b[0m",
      "\u001b[0;31mValueError\u001b[0m                                Traceback (most recent call last)",
      "\u001b[0;32m<ipython-input-57-fec703c11ecf>\u001b[0m in \u001b[0;36m<module>\u001b[0;34m\u001b[0m\n\u001b[0;32m----> 1\u001b[0;31m \u001b[0mRHS\u001b[0m\u001b[0;34m.\u001b[0m\u001b[0msubs\u001b[0m\u001b[0;34m(\u001b[0m\u001b[0;34m)\u001b[0m\u001b[0;34m\u001b[0m\u001b[0m\n\u001b[0m",
      "\u001b[0;32m/usr/local/lib/python3.7/site-packages/sympy/core/basic.py\u001b[0m in \u001b[0;36msubs\u001b[0;34m(self, *args, **kwargs)\u001b[0m\n\u001b[1;32m    869\u001b[0m             \u001b[0msequence\u001b[0m \u001b[0;34m=\u001b[0m \u001b[0;34m[\u001b[0m\u001b[0margs\u001b[0m\u001b[0;34m]\u001b[0m\u001b[0;34m\u001b[0m\u001b[0m\n\u001b[1;32m    870\u001b[0m         \u001b[0;32melse\u001b[0m\u001b[0;34m:\u001b[0m\u001b[0;34m\u001b[0m\u001b[0m\n\u001b[0;32m--> 871\u001b[0;31m             \u001b[0;32mraise\u001b[0m \u001b[0mValueError\u001b[0m\u001b[0;34m(\u001b[0m\u001b[0;34m\"subs accepts either 1 or 2 arguments\"\u001b[0m\u001b[0;34m)\u001b[0m\u001b[0;34m\u001b[0m\u001b[0m\n\u001b[0m\u001b[1;32m    872\u001b[0m \u001b[0;34m\u001b[0m\u001b[0m\n\u001b[1;32m    873\u001b[0m         \u001b[0msequence\u001b[0m \u001b[0;34m=\u001b[0m \u001b[0mlist\u001b[0m\u001b[0;34m(\u001b[0m\u001b[0msequence\u001b[0m\u001b[0;34m)\u001b[0m\u001b[0;34m\u001b[0m\u001b[0m\n",
      "\u001b[0;31mValueError\u001b[0m: subs accepts either 1 or 2 arguments"
     ]
    }
   ],
   "source": [
    "RHS.subs()"
   ]
  },
  {
   "cell_type": "code",
   "execution_count": 58,
   "metadata": {},
   "outputs": [
    {
     "data": {
      "image/png": "[encoded data removed]",
      "text/latex": [
       "$$\\int f{\\left (C{\\left (t \\right )},\\theta \\right )} p{\\left (\\theta \\right )}\\, d\\theta$$"
      ],
      "text/plain": [
       "⌠                   \n",
       "⎮ f(C(t), θ)⋅p(θ) dθ\n",
       "⌡                   "
      ]
     },
     "execution_count": 58,
     "metadata": {},
     "output_type": "execute_result"
    }
   ],
   "source": [
    "#Testing liebniz rule\n",
    "#1st moment\n",
    "#parameters r and t\n",
    "O,t = var(\"theta,t\")\n",
    "#State variable C\n",
    "C = Function(\"C\")(t)\n",
    "#diff function r -> dC\n",
    "f = Function(\"f\")(C,O)\n",
    "g = Function(\"g\")(O)\n",
    "#probabilty distribution\n",
    "pC = Function(\"p\")(C)\n",
    "p = Function(\"p\")(O)\n",
    "\n",
    "\n",
    "duC = diff(integrate(integrate(f,t)*p,O),t)\n",
    "duC"
   ]
  },
  {
   "cell_type": "code",
   "execution_count": 38,
   "metadata": {},
   "outputs": [
    {
     "data": {
      "image/png": "[encoded data removed]",
      "text/latex": [
       "$$\\int f{\\left (C{\\left (t \\right )},\\theta \\right )}\\, dt$$"
      ],
      "text/plain": [
       "⌠              \n",
       "⎮ f(C(t), θ) dt\n",
       "⌡              "
      ]
     },
     "execution_count": 38,
     "metadata": {},
     "output_type": "execute_result"
    }
   ],
   "source": [
    "integrate(f,t)"
   ]
  },
  {
   "cell_type": "code",
   "execution_count": 43,
   "metadata": {},
   "outputs": [
    {
     "data": {
      "image/png": "[encoded data removed]",
      "text/latex": [
       "$$r \\int C{\\left (t \\right )}\\, dt$$"
      ],
      "text/plain": [
       "  ⌠        \n",
       "r⋅⎮ C(t) dt\n",
       "  ⌡        "
      ]
     },
     "execution_count": 43,
     "metadata": {},
     "output_type": "execute_result"
    }
   ],
   "source": [
    "integrate(r*C,t)"
   ]
  },
  {
   "cell_type": "code",
   "execution_count": 595,
   "metadata": {},
   "outputs": [
    {
     "data": {
      "image/png": "[encoded data removed]",
      "text/latex": [
       "$$\\int C{\\left (t \\right )} f{\\left (C{\\left (t \\right )},\\theta \\right )} p{\\left (C{\\left (t \\right )},\\theta \\right )}\\, d\\theta$$"
      ],
      "text/plain": [
       "⌠                              \n",
       "⎮ C(t)⋅f(C(t), θ)⋅p(C(t), θ) dθ\n",
       "⌡                              "
      ]
     },
     "execution_count": 595,
     "metadata": {},
     "output_type": "execute_result"
    }
   ],
   "source": [
    "pCO = Function(\"p\")(C,O)\n",
    "duC.subs({p:integrate(pCO,C)})"
   ]
  },
  {
   "cell_type": "code",
   "execution_count": 520,
   "metadata": {},
   "outputs": [
    {
     "data": {
      "image/png": "[encoded data removed]",
      "text/latex": [
       "$$2 \\int C{\\left (t \\right )} f{\\left (C{\\left (t \\right )},\\theta \\right )} p{\\left (\\theta \\right )}\\, d\\theta$$"
      ],
      "text/plain": [
       "  ⌠                        \n",
       "2⋅⎮ C(t)⋅f(C(t), θ)⋅p(θ) dθ\n",
       "  ⌡                        "
      ]
     },
     "execution_count": 520,
     "metadata": {},
     "output_type": "execute_result"
    }
   ],
   "source": [
    "#2nd moment\n",
    "g = integrate(diff(C**2,t).subs({C.diff(t):f}),t)\n",
    "duC2 = diff(integrate(g*p,O),t)\n",
    "duC2"
   ]
  },
  {
   "cell_type": "code",
   "execution_count": 523,
   "metadata": {},
   "outputs": [
    {
     "data": {
      "image/png": "[encoded data removed]",
      "text/latex": [
       "$$\\frac{\\partial}{\\partial t} \\left(C{\\left (t \\right )} - \\int p{\\left (\\theta \\right )} \\int f{\\left (C{\\left (t \\right )},\\theta \\right )}\\, dt\\, d\\theta\\right)^{2}$$"
      ],
      "text/plain": [
       "  ⎛                                  2⎞\n",
       "  ⎜⎛       ⌠                        ⎞ ⎟\n",
       "∂ ⎜⎜       ⎮      ⌠                 ⎟ ⎟\n",
       "──⎜⎜C(t) - ⎮ p(θ)⋅⎮ f(C(t), θ) dt dθ⎟ ⎟\n",
       "∂t⎜⎜       ⎮      ⌡                 ⎟ ⎟\n",
       "  ⎝⎝       ⌡                        ⎠ ⎠"
      ]
     },
     "execution_count": 523,
     "metadata": {},
     "output_type": "execute_result"
    }
   ],
   "source": [
    "Derivative((C-integrate(integrate(f,t)*p,O))**2,t)"
   ]
  },
  {
   "cell_type": "code",
   "execution_count": 497,
   "metadata": {},
   "outputs": [
    {
     "data": {
      "image/png": "[encoded data removed]",
      "text/latex": [
       "$$\\left(C{\\left (t \\right )} - \\mu_{C}{\\left (t \\right )}\\right) \\left(2 \\frac{d}{d t} C{\\left (t \\right )} - 2 \\frac{d}{d t} \\mu_{C}{\\left (t \\right )}\\right)$$"
      ],
      "text/plain": [
       "                  ⎛  d            d           ⎞\n",
       "(C(t) - \\mu_C(t))⋅⎜2⋅──(C(t)) - 2⋅──(\\mu_C(t))⎟\n",
       "                  ⎝  dt           dt          ⎠"
      ]
     },
     "execution_count": 497,
     "metadata": {},
     "output_type": "execute_result"
    }
   ],
   "source": [
    "g = Function('g')(C,O)\n",
    "uC2 = Function(\"\\mu_{C_2}\")(t)\n",
    "v = (C - uC)**2\n",
    "LHS = diff(v,t)\n",
    "LHS"
   ]
  },
  {
   "cell_type": "code",
   "execution_count": 496,
   "metadata": {},
   "outputs": [
    {
     "data": {
      "image/png": "[encoded data removed]",
      "text/latex": [
       "$$\\int \\left(C{\\left (t \\right )} - \\mu_{C}{\\left (t \\right )}\\right)^{2} p{\\left (C{\\left (t \\right )} \\right )}\\, dC{\\left (t \\right )}$$"
      ],
      "text/plain": [
       "⌠                                   \n",
       "⎮                  2                \n",
       "⎮ (C(t) - \\mu_C(t)) ⋅p(C(t)) d(C(t))\n",
       "⌡                                   "
      ]
     },
     "execution_count": 496,
     "metadata": {},
     "output_type": "execute_result"
    }
   ],
   "source": [
    "Integral(v*pC,C)"
   ]
  },
  {
   "cell_type": "code",
   "execution_count": 385,
   "metadata": {},
   "outputs": [
    {
     "data": {
      "image/png": "[encoded data removed]",
      "text/latex": [
       "$$\\int 2 C{\\left (t \\right )} f{\\left (C{\\left (t \\right )},r \\right )} p{\\left (r \\right )}\\, dr$$"
      ],
      "text/plain": [
       "⌠                          \n",
       "⎮ 2⋅C(t)⋅f(C(t), r)⋅p(r) dr\n",
       "⌡                          "
      ]
     },
     "execution_count": 385,
     "metadata": {},
     "output_type": "execute_result"
    }
   ],
   "source": [
    "#second moment\n",
    "pC = Function(\"p_C\")(C)\n",
    "\n",
    "diff(Integral(p*Integral(2*C*f,t),r),t)"
   ]
  },
  {
   "cell_type": "code",
   "execution_count": 395,
   "metadata": {},
   "outputs": [
    {
     "data": {
      "image/png": "[encoded data removed]",
      "text/latex": [
       "$$\\int p{\\left (r \\right )} \\left(\\frac{d}{d t} C{\\left (t \\right )}\\right)^{2}\\, dC{\\left (t \\right )}$$"
      ],
      "text/plain": [
       "⌠                         \n",
       "⎮                2        \n",
       "⎮      ⎛d       ⎞         \n",
       "⎮ p(r)⋅⎜──(C(t))⎟  d(C(t))\n",
       "⎮      ⎝dt      ⎠         \n",
       "⌡                         "
      ]
     },
     "execution_count": 395,
     "metadata": {},
     "output_type": "execute_result"
    }
   ],
   "source": [
    "Integral(C.diff(t)**2 * p,C)"
   ]
  },
  {
   "cell_type": "code",
   "execution_count": 354,
   "metadata": {},
   "outputs": [
    {
     "data": {
      "image/png": "[encoded data removed]",
      "text/latex": [
       "$$2 C{\\left (t \\right )} \\frac{d}{d t} C{\\left (t \\right )}$$"
      ],
      "text/plain": [
       "       d       \n",
       "2⋅C(t)⋅──(C(t))\n",
       "       dt      "
      ]
     },
     "execution_count": 354,
     "metadata": {},
     "output_type": "execute_result"
    }
   ],
   "source": [
    "(C**2).diff(t)"
   ]
  },
  {
   "cell_type": "code",
   "execution_count": 348,
   "metadata": {},
   "outputs": [
    {
     "data": {
      "image/png": "[encoded data removed]",
      "text/latex": [
       "$$2 \\int C{\\left (t \\right )} f{\\left (C{\\left (t \\right )},r \\right )}\\, dt$$"
      ],
      "text/plain": [
       "  ⌠                   \n",
       "2⋅⎮ C(t)⋅f(C(t), r) dt\n",
       "  ⌡                   "
      ]
     },
     "execution_count": 348,
     "metadata": {},
     "output_type": "execute_result"
    }
   ],
   "source": [
    "integrate(2*C*f,t)"
   ]
  },
  {
   "cell_type": "code",
   "execution_count": 238,
   "metadata": {},
   "outputs": [
    {
     "data": {
      "image/png": "[encoded data removed]",
      "text/latex": [
       "$$\\int \\left(f{\\left (\\mu_x,t \\right )} - f{\\left (x,t \\right )}\\right) \\left(2 \\frac{\\partial}{\\partial t} f{\\left (\\mu_x,t \\right )} - 2 \\frac{\\partial}{\\partial t} f{\\left (x,t \\right )}\\right) g{\\left (x \\right )}\\, dx$$"
      ],
      "text/plain": [
       "⌠                                                                  \n",
       "⎮                        ⎛  ∂                  ∂          ⎞        \n",
       "⎮ (f(\\muₓ, t) - f(x, t))⋅⎜2⋅──(f(\\muₓ, t)) - 2⋅──(f(x, t))⎟⋅g(x) dx\n",
       "⎮                        ⎝  ∂t                 ∂t         ⎠        \n",
       "⌡                                                                  "
      ]
     },
     "execution_count": 238,
     "metadata": {},
     "output_type": "execute_result"
    }
   ],
   "source": [
    "ux = var(\"\\mu_x\")\n",
    "Vx = integrate(g*(f - f.subs({x:ux}))**2,x)\n",
    "diff(Vx,t)"
   ]
  },
  {
   "cell_type": "code",
   "execution_count": 22,
   "metadata": {},
   "outputs": [],
   "source": [
    "C = Function(\"/mu_C\")(t)\n",
    "uC = Function(\"/mu_C\")(t)"
   ]
  }
 ],
 "metadata": {
  "kernelspec": {
   "display_name": "Python 3",
   "language": "python",
   "name": "python3"
  },
  "language_info": {
   "codemirror_mode": {
    "name": "ipython",
    "version": 3
   },
   "file_extension": ".py",
   "mimetype": "text/x-python",
   "name": "python",
   "nbconvert_exporter": "python",
   "pygments_lexer": "ipython3",
   "version": "3.7.0"
  },
  "toc": {
   "nav_menu": {},
   "number_sections": true,
   "sideBar": true,
   "skip_h1_title": false,
   "title_cell": "Table of Contents",
   "title_sidebar": "Contents",
   "toc_cell": false,
   "toc_position": {},
   "toc_section_display": true,
   "toc_window_display": false
  }
 },
 "nbformat": 4,
 "nbformat_minor": 2
}
