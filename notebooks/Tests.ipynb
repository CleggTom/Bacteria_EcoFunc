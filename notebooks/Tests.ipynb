{
 "cells": [
  {
   "cell_type": "code",
   "execution_count": 123,
   "metadata": {},
   "outputs": [],
   "source": [
    "#Load some modules etc\n",
    "%matplotlib inline\n",
    "import matplotlib.pyplot as plt\n",
    "from cycler import cycler\n",
    "\n",
    "from sympy import *\n",
    "import scipy as sc\n",
    "import numpy as np\n",
    "init_printing()"
   ]
  },
  {
   "cell_type": "code",
   "execution_count": 124,
   "metadata": {},
   "outputs": [
    {
     "data": {
      "image/png": "[encoded data removed]",
      "text/latex": [
       "$$C{\\left (t \\right )} = C{\\left (0 \\right )} e^{r t}$$"
      ],
      "text/plain": [
       "             r⋅t\n",
       "C(t) = C(0)⋅ℯ   "
      ]
     },
     "execution_count": 124,
     "metadata": {},
     "output_type": "execute_result"
    }
   ],
   "source": [
    "#Exponential growth\n",
    "t = var(\"t\")\n",
    "C = Function('C')(t)\n",
    "m,s,r = var(\"\\mu_r,\\sigma_r,r\")\n",
    "\n",
    "LHS = C.diff(t)\n",
    "RHS = C*r\n",
    "sol = dsolve(Eq(LHS,RHS))\n",
    "\n",
    "C0 = C.subs({t:0})\n",
    "C1 = sol.args[1].args[0]\n",
    "\n",
    "#at t = 0\n",
    "C1_sol = solve(sol.subs({t:0,C:C0}),C1)[0]\n",
    "sol.subs({C1:C1_sol})"
   ]
  },
  {
   "cell_type": "code",
   "execution_count": 125,
   "metadata": {},
   "outputs": [
    {
     "data": {
      "image/png": "[encoded data removed]",
      "text/latex": [
       "$$C{\\left (t \\right )} = \\frac{r C{\\left (0 \\right )} e^{r t}}{\\alpha C{\\left (0 \\right )} e^{r t} - \\alpha C{\\left (0 \\right )} + r}$$"
      ],
      "text/plain": [
       "                     r⋅t       \n",
       "             r⋅C(0)⋅ℯ          \n",
       "C(t) = ────────────────────────\n",
       "               r⋅t             \n",
       "       α⋅C(0)⋅ℯ    - α⋅C(0) + r"
      ]
     },
     "execution_count": 125,
     "metadata": {},
     "output_type": "execute_result"
    }
   ],
   "source": [
    "#with intraspecifc\n",
    "a = var(\"alpha\")\n",
    "\n",
    "LHS = C.diff(t)\n",
    "RHS = C*(r - a*C)\n",
    "sol = dsolve(Eq(LHS,RHS))\n",
    "C1_sol = solve(sol.subs({t:0}),C1)[0]\n",
    "f = simplify(sol.subs({C1:C1_sol}))\n",
    "f"
   ]
  },
  {
   "cell_type": "code",
   "execution_count": 126,
   "metadata": {},
   "outputs": [
    {
     "data": {
      "image/png": "[encoded data removed]",
      "text/latex": [
       "$$\\frac{\\mu_r C{\\left (0 \\right )} e^{\\mu_r t}}{\\mu_r + \\alpha C{\\left (0 \\right )} e^{\\mu_r t} - \\alpha C{\\left (0 \\right )}} + \\frac{\\sigma_r^{2} \\left(- \\frac{\\mu_r \\alpha t^{2} C{\\left (0 \\right )} e^{\\mu_r t}}{\\mu_r + \\alpha C{\\left (0 \\right )} e^{\\mu_r t} - \\alpha C{\\left (0 \\right )}} + \\mu_r t^{2} - \\frac{2 \\mu_r t \\left(\\alpha t C{\\left (0 \\right )} e^{\\mu_r t} + 1\\right)}{\\mu_r + \\alpha C{\\left (0 \\right )} e^{\\mu_r t} - \\alpha C{\\left (0 \\right )}} + \\frac{2 \\mu_r \\left(\\alpha t C{\\left (0 \\right )} e^{\\mu_r t} + 1\\right)^{2}}{\\left(\\mu_r + \\alpha C{\\left (0 \\right )} e^{\\mu_r t} - \\alpha C{\\left (0 \\right )}\\right)^{2}} + 2 t - \\frac{2 \\left(\\alpha t C{\\left (0 \\right )} e^{\\mu_r t} + 1\\right)}{\\mu_r + \\alpha C{\\left (0 \\right )} e^{\\mu_r t} - \\alpha C{\\left (0 \\right )}}\\right) C{\\left (0 \\right )} e^{\\mu_r t}}{2 \\left(\\mu_r + \\alpha C{\\left (0 \\right )} e^{\\mu_r t} - \\alpha C{\\left (0 \\right )}\\right)}$$"
      ],
      "text/plain": [
       "                                          ⎛                                   \n",
       "                                          ⎜              2       \\muᵣ⋅t       \n",
       "                                        2 ⎜      \\muᵣ⋅α⋅t ⋅C(0)⋅ℯ             \n",
       "                                 \\sigmaᵣ ⋅⎜- ────────────────────────────── + \n",
       "                                          ⎜                 \\muᵣ⋅t            \n",
       "                 \\muᵣ⋅t                   ⎜  \\muᵣ + α⋅C(0)⋅ℯ       - α⋅C(0)   \n",
       "      \\muᵣ⋅C(0)⋅ℯ                         ⎝                                   \n",
       "────────────────────────────── + ─────────────────────────────────────────────\n",
       "               \\muᵣ⋅t                                                         \n",
       "\\muᵣ + α⋅C(0)⋅ℯ       - α⋅C(0)                                                \n",
       "\n",
       "                                                                           2  \n",
       "                   ⎛          \\muᵣ⋅t    ⎞            ⎛          \\muᵣ⋅t    ⎞   \n",
       "      2   2⋅\\muᵣ⋅t⋅⎝α⋅t⋅C(0)⋅ℯ       + 1⎠     2⋅\\muᵣ⋅⎝α⋅t⋅C(0)⋅ℯ       + 1⎠   \n",
       "\\muᵣ⋅t  - ─────────────────────────────── + ───────────────────────────────── \n",
       "                          \\muᵣ⋅t                                            2 \n",
       "           \\muᵣ + α⋅C(0)⋅ℯ       - α⋅C(0)   ⎛               \\muᵣ⋅t         ⎞  \n",
       "                                            ⎝\\muᵣ + α⋅C(0)⋅ℯ       - α⋅C(0)⎠  \n",
       "──────────────────────────────────────────────────────────────────────────────\n",
       "                            ⎛               \\muᵣ⋅t         ⎞                  \n",
       "                          2⋅⎝\\muᵣ + α⋅C(0)⋅ℯ       - α⋅C(0)⎠                  \n",
       "\n",
       "                                      ⎞             \n",
       "             ⎛          \\muᵣ⋅t    ⎞   ⎟             \n",
       "           2⋅⎝α⋅t⋅C(0)⋅ℯ       + 1⎠   ⎟       \\muᵣ⋅t\n",
       "+ 2⋅t - ──────────────────────────────⎟⋅C(0)⋅ℯ      \n",
       "                       \\muᵣ⋅t         ⎟             \n",
       "        \\muᵣ + α⋅C(0)⋅ℯ       - α⋅C(0)⎟             \n",
       "                                      ⎠             \n",
       "────────────────────────────────────────────────────\n",
       "                                                    \n",
       "                                                    "
      ]
     },
     "execution_count": 126,
     "metadata": {},
     "output_type": "execute_result"
    }
   ],
   "source": [
    "mean = f.args[1].subs({r:m}) + (s**2)/2 * f.args[1].diff(r,r).subs({r:m})\n",
    "mean"
   ]
  },
  {
   "cell_type": "code",
   "execution_count": 127,
   "metadata": {},
   "outputs": [
    {
     "data": {
      "image/png": "[encoded data removed]",
      "text/latex": [
       "$$\\frac{\\sigma_r^{2} \\left(\\mu_r^{2} t - \\mu_r \\alpha t C{\\left (0 \\right )} + \\alpha C{\\left (0 \\right )} e^{\\mu_r t} - \\alpha C{\\left (0 \\right )}\\right)^{2} C^{2}{\\left (0 \\right )} e^{2 \\mu_r t}}{\\left(\\mu_r + \\alpha C{\\left (0 \\right )} e^{\\mu_r t} - \\alpha C{\\left (0 \\right )}\\right)^{4}}$$"
      ],
      "text/plain": [
       "                                                            2                \n",
       "       2 ⎛    2                             \\muᵣ⋅t         ⎞   2     2⋅\\muᵣ⋅t\n",
       "\\sigmaᵣ ⋅⎝\\muᵣ ⋅t - \\muᵣ⋅α⋅t⋅C(0) + α⋅C(0)⋅ℯ       - α⋅C(0)⎠ ⋅C (0)⋅ℯ        \n",
       "─────────────────────────────────────────────────────────────────────────────\n",
       "                                                      4                      \n",
       "                      ⎛               \\muᵣ⋅t         ⎞                       \n",
       "                      ⎝\\muᵣ + α⋅C(0)⋅ℯ       - α⋅C(0)⎠                       "
      ]
     },
     "execution_count": 127,
     "metadata": {},
     "output_type": "execute_result"
    }
   ],
   "source": [
    "varience = simplify(s**2 * (f.args[1].diff(r).subs({r:m}))**2)\n",
    "varience"
   ]
  },
  {
   "cell_type": "code",
   "execution_count": 148,
   "metadata": {},
   "outputs": [
    {
     "data": {
      "image/png": "[encoded data removed]",
      "text/latex": [
       "$$\\mu_{C}{\\left (t \\right )} = - \\frac{r \\mu_{C}{\\left (0 \\right )} e^{r t}}{\\alpha \\mu_{C}{\\left (0 \\right )} + \\psi \\mu_{C}{\\left (0 \\right )} - r - \\left(\\alpha + \\psi\\right) \\mu_{C}{\\left (0 \\right )} e^{r t}}$$"
      ],
      "text/plain": [
       "                                               r⋅t                    \n",
       "                                -r⋅\\mu_{C}(0)⋅ℯ                       \n",
       "\\mu_{C}(t) = ─────────────────────────────────────────────────────────\n",
       "                                                                   r⋅t\n",
       "             α⋅\\mu_{C}(0) + ψ⋅\\mu_{C}(0) - r - (α + ψ)⋅\\mu_{C}(0)⋅ℯ   "
      ]
     },
     "execution_count": 148,
     "metadata": {},
     "output_type": "execute_result"
    }
   ],
   "source": [
    "#with interspecifc (mean)\n",
    "p = var(\"psi\")\n",
    "uC = Function('\\mu_{C}')(t)\n",
    "LHS = uC.diff(t)\n",
    "RHS = uC*(r - a*uC - p*uC)\n",
    "sol = dsolve(Eq(LHS,RHS))\n",
    "C1_sol = solve(sol.subs({t:0}),C1)[0]\n",
    "f = simplify(sol.subs({C1:C1_sol}))\n",
    "f"
   ]
  },
  {
   "cell_type": "code",
   "execution_count": null,
   "metadata": {},
   "outputs": [],
   "source": [
    "g = f.args[1] - uC\n",
    "solve(g,uC)"
   ]
  },
  {
   "cell_type": "code",
   "execution_count": 65,
   "metadata": {},
   "outputs": [
    {
     "ename": "IndexError",
     "evalue": "list index out of range",
     "output_type": "error",
     "traceback": [
      "\u001b[0;31m---------------------------------------------------------------------------\u001b[0m",
      "\u001b[0;31mIndexError\u001b[0m                                Traceback (most recent call last)",
      "\u001b[0;32m<ipython-input-65-8e2c8607be69>\u001b[0m in \u001b[0;36m<module>\u001b[0;34m\u001b[0m\n\u001b[1;32m      3\u001b[0m \u001b[0msol\u001b[0m \u001b[0;34m=\u001b[0m \u001b[0mdsolve\u001b[0m\u001b[0;34m(\u001b[0m\u001b[0mEq\u001b[0m\u001b[0;34m(\u001b[0m\u001b[0mLHS\u001b[0m\u001b[0;34m,\u001b[0m\u001b[0mRHS\u001b[0m\u001b[0;34m)\u001b[0m\u001b[0;34m)\u001b[0m\u001b[0;34m\u001b[0m\u001b[0m\n\u001b[1;32m      4\u001b[0m \u001b[0mC1\u001b[0m \u001b[0;34m=\u001b[0m \u001b[0msol\u001b[0m\u001b[0;34m.\u001b[0m\u001b[0margs\u001b[0m\u001b[0;34m[\u001b[0m\u001b[0;36m1\u001b[0m\u001b[0;34m]\u001b[0m\u001b[0;34m.\u001b[0m\u001b[0margs\u001b[0m\u001b[0;34m[\u001b[0m\u001b[0;36m0\u001b[0m\u001b[0;34m]\u001b[0m\u001b[0;34m\u001b[0m\u001b[0m\n\u001b[0;32m----> 5\u001b[0;31m \u001b[0mC1_sol\u001b[0m \u001b[0;34m=\u001b[0m \u001b[0msolve\u001b[0m\u001b[0;34m(\u001b[0m\u001b[0msol\u001b[0m\u001b[0;34m.\u001b[0m\u001b[0msubs\u001b[0m\u001b[0;34m(\u001b[0m\u001b[0;34m{\u001b[0m\u001b[0mt\u001b[0m\u001b[0;34m:\u001b[0m\u001b[0;36m0\u001b[0m\u001b[0;34m}\u001b[0m\u001b[0;34m)\u001b[0m\u001b[0;34m,\u001b[0m\u001b[0mC1\u001b[0m\u001b[0;34m)\u001b[0m\u001b[0;34m[\u001b[0m\u001b[0;36m0\u001b[0m\u001b[0;34m]\u001b[0m\u001b[0;34m\u001b[0m\u001b[0m\n\u001b[0m\u001b[1;32m      6\u001b[0m \u001b[0mf\u001b[0m \u001b[0;34m=\u001b[0m \u001b[0msimplify\u001b[0m\u001b[0;34m(\u001b[0m\u001b[0msol\u001b[0m\u001b[0;34m.\u001b[0m\u001b[0msubs\u001b[0m\u001b[0;34m(\u001b[0m\u001b[0;34m{\u001b[0m\u001b[0mC1\u001b[0m\u001b[0;34m:\u001b[0m\u001b[0mC1_sol\u001b[0m\u001b[0;34m}\u001b[0m\u001b[0;34m)\u001b[0m\u001b[0;34m)\u001b[0m\u001b[0;34m\u001b[0m\u001b[0m\n\u001b[1;32m      7\u001b[0m \u001b[0mf\u001b[0m\u001b[0;34m\u001b[0m\u001b[0m\n",
      "\u001b[0;31mIndexError\u001b[0m: list index out of range"
     ]
    }
   ],
   "source": [
    "LHS = C.diff(t)\n",
    "RHS = C*(r - C - p*uC)\n",
    "sol = dsolve(Eq(LHS,RHS))\n",
    "C1 = sol.args[1].args[0]\n",
    "C1_sol = solve(sol.subs({t:0}),C1)[0]\n",
    "f = simplify(sol.subs({C1:C1_sol}))\n",
    "f"
   ]
  },
  {
   "cell_type": "code",
   "execution_count": 63,
   "metadata": {},
   "outputs": [
    {
     "data": {
      "image/png": "[encoded data removed]",
      "text/plain": [
       "<Figure size 432x288 with 1 Axes>"
      ]
     },
     "metadata": {},
     "output_type": "display_data"
    },
    {
     "data": {
      "text/plain": [
       "<sympy.plotting.plot.Plot at 0x1109b7588>"
      ]
     },
     "execution_count": 63,
     "metadata": {},
     "output_type": "execute_result"
    }
   ],
   "source": [
    "g = solve(f.args[1] - uC,uC)[0]\n",
    "plot(g.subs({p:1.0,C.subs({t:0}):1.0,r:10.0}),(t,0,10))"
   ]
  },
  {
   "cell_type": "code",
   "execution_count": 64,
   "metadata": {},
   "outputs": [
    {
     "data": {
      "image/png": "[encoded data removed]",
      "text/latex": [
       "$$\\frac{\\operatorname{LambertW}{\\left (\\psi t C{\\left (0 \\right )} e^{r t} \\right )}}{\\psi t}$$"
      ],
      "text/plain": [
       "        ⎛          r⋅t⎞\n",
       "LambertW⎝ψ⋅t⋅C(0)⋅ℯ   ⎠\n",
       "───────────────────────\n",
       "          ψ⋅t          "
      ]
     },
     "execution_count": 64,
     "metadata": {},
     "output_type": "execute_result"
    }
   ],
   "source": [
    "g"
   ]
  },
  {
   "cell_type": "code",
   "execution_count": null,
   "metadata": {},
   "outputs": [],
   "source": []
  }
 ],
 "metadata": {
  "kernelspec": {
   "display_name": "Python 3",
   "language": "python",
   "name": "python3"
  },
  "language_info": {
   "codemirror_mode": {
    "name": "ipython",
    "version": 3
   },
   "file_extension": ".py",
   "mimetype": "text/x-python",
   "name": "python",
   "nbconvert_exporter": "python",
   "pygments_lexer": "ipython3",
   "version": "3.7.0"
  },
  "toc": {
   "nav_menu": {},
   "number_sections": true,
   "sideBar": true,
   "skip_h1_title": false,
   "title_cell": "Table of Contents",
   "title_sidebar": "Contents",
   "toc_cell": false,
   "toc_position": {},
   "toc_section_display": true,
   "toc_window_display": false
  }
 },
 "nbformat": 4,
 "nbformat_minor": 2
}
