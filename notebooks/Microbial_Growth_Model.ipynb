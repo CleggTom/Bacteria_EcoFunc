{
 "cells": [
  {
   "cell_type": "code",
   "execution_count": 2,
   "metadata": {},
   "outputs": [],
   "source": [
    "#Load some modules etc\n",
    "%matplotlib inline\n",
    "import matplotlib.pyplot as plt\n",
    "from cycler import cycler\n",
    "\n",
    "from sympy import *\n",
    "import scipy as sc\n",
    "import numpy as np\n",
    "init_printing()"
   ]
  },
  {
   "cell_type": "markdown",
   "metadata": {},
   "source": [
    "# Introduction\n",
    "\n",
    "This notebook desribes the microbial growth model used in the bacterial flux experiments. For now I am developing this is a seperate notebook just to keep things simple. The general idea here is to develop a simple model that can describe the evolution of bacterial carbon biomass through time. This model will then be used to describe the temperature dependence of carbon biomass growth. This model will also be extended to include interactions between species which \n",
    "will affect growth rates and potentially their temperature dependence. "
   ]
  },
  {
   "cell_type": "markdown",
   "metadata": {},
   "source": [
    "# Bacterial Growth Model\n",
    "Much of the work here is inspired by the approach of Manzoni & Porporato ([2009](https://www.sciencedirect.com/science/article/pii/S0038071709000765)) who reviewed the various modeling approaches used to look at carbon and nitrogen mineralisation. Though they focused on models describing the action of soil bacteria, the general approaches they use are applicable to aquatic enviroments too (such as in our expereiment). In their paper the authours present a simple graphical model describing the flow of carbon through bacterial biomass which is recreated below:"
   ]
  },
  {
   "cell_type": "markdown",
   "metadata": {},
   "source": [
    "<img src=\"figures/growthmodel/growthmodel.png\" width = \"500px\">"
   ]
  },
  {
   "cell_type": "markdown",
   "metadata": {},
   "source": [
    "| Symbol        | Description                            | \n",
    "|---------------|----------------------------------------|\n",
    "| $C_E$         | Environmental carbon concentration     |\n",
    "| $C_B$         | Bacterial carbon biomass concentration |\n",
    "| $\\tilde{U}$   | Gross mass-specific carbon uptake      |\n",
    "| $\\tilde{R}_G$ | Mass-specific growth respiration       |\n",
    "| $\\tilde{R}_M$ | Mass-specific maintenance respiration  |"
   ]
  },
  {
   "cell_type": "markdown",
   "metadata": {},
   "source": [
    "Taking the model above we can write the change in microbial biomass over time as:\n",
    "\\begin{align}\n",
    "    \\frac{dC_B}{dt} = C_B (U - R_g - R_m)\n",
    "\\end{align}\n",
    "\n",
    "where $U$ represents the uptake of carbon from the enviroment and $R_g$ and $R_m$ represent the loss of carbon via growth and maintenance respiration respectively. "
   ]
  },
  {
   "cell_type": "markdown",
   "metadata": {},
   "source": [
    "## Uptake\n",
    "In this model uptake ($U$) represents the movement of carbon from the enviroment into bacterial cells. Given that we are interested in the exponential phase I assume here that the concentration of enviromental carbon is not limiting and that uptake is determined solely by the mechanics of the process.\n",
    "\n",
    "Put in stuff about mechanistic dependence of carbon uptake..."
   ]
  },
  {
   "cell_type": "markdown",
   "metadata": {},
   "source": [
    "##  Respiration\n",
    "\n",
    "Though respiration is commonly represented as a single value I seperate it here into two components, growth respiration and maintenance respiration. Growth respiration here represents the loss of carbon that occurs due to the energetic costs of growth and the inefficency of metabolising certain carbon sources ([Gommers et al. 1988](https://onlinelibrary.wiley.com/doi/abs/10.1002/bit.260320112)) whilst maintenance respiration represents the costs of processes such as protein and nucleic acid turnover, osmoregulation and motility ([Chapman & Grey 1986](https://www.sciencedirect.com/science/article/pii/0038071786900957)). In seperating these two components we are able to distinguish between the the types of respiratory losses that occur over different stages of growth. \n",
    "\n",
    "In this framework maintenance respiration is assumes to be constant as individual bacteria will always need to expend energy (and carbon) to maintain the processes detailed above. As such this respiratory cost is assumed to scale with biomass with the simplest relationship being a linear one (i.e. $R_m = C_B \\tilde{R}_m$ where the tilde indicates the constant mass-specific rate of maintenence respiration).\n",
    "\n",
    "Growth respiration is commonly assumed to scale with uptake rate and is usually assumed to be a constant proportion of uptake (i.e $R_g = (1-\\epsilon)U$ where $\\epsilon$ is the proportion of uptake allocated to growth, $\\frac{U - R_g}{U}$). Substituting this into the equation for bacterial biomass above gives:\n",
    "\n",
    "\\begin{align}\n",
    "        \\frac{dC_B}{dt} &= C_B (U - (1-\\epsilon)U - R_m) \\\\\n",
    "                        &= C_B (U - U + \\epsilon U - R_m) \\\\\n",
    "                        &= C_B (\\epsilon U - R_m)\n",
    "\\end{align}\n",
    "\n",
    "Thus as uptake changes the growth respiration varies linearly witha slope of $(1-\\epsilon)$. "
   ]
  },
  {
   "cell_type": "markdown",
   "metadata": {},
   "source": [
    "## Parameterising\n",
    "\n",
    "As mentioned before one of the key assumptions in the experiments we aim to use is that the bacterial populations are growing in exponential phase. This means that their uptake rate is constant over the period as carbon avalibility is not limiting (the only process stoping uptake is the mechanical limit). Thus we can ignore the dependence of growth respiration on uptake rate and combine the two respirations into a single term $R$. the model for biomass change then becomes:\n",
    "\n",
    "\\begin{align}\n",
    "    \\frac{dC_B}{dt} = C_B (U - R)\n",
    "\\end{align}\n",
    "\n",
    "where $R = R_g + R_M$. Given that we have measurements for growth rate ($\\frac{dC_B}{dt}$) and respiration ($R$) we can get the uptake rate from the experiments by simply adding the two together (i.e. $C_B U = \\frac{dC_B}{dt} + C_B R$). Note that this assumes that the carbon uptake and loss via respiration accounts for all fluxes in the population and that no loss occurs due to mortality or overflow ect.\n"
   ]
  },
  {
   "cell_type": "markdown",
   "metadata": {},
   "source": [
    "## Carbon biomass change\n",
    "\n",
    "Taking the model above we can express the mass-specific rate of change or carbon biomass in a population as:\n",
    "\n",
    "\\begin{align}\n",
    "    \\frac{1}{C}\\frac{dC}{dt} = U - R_g(U) - R_m\n",
    "\\end{align}\n",
    "\n",
    "That is the change in biomass is equal to the inflow of carbon via uptake $U$ minus the loss due to inefficiency of assimilation $R_g(U)$ and the loss due to maintence respiration $R_m$. \n",
    "\n",
    "In the simple case where we assume that growth respiration depends linearly on uptake (i.e. some constant proportion is assimliated) we can express this efficency as the ratio of carbon assimilated to the carbon uptake:\n",
    "\\begin{align}\n",
    "    \\epsilon = \\frac{U - R_g(U)}{U}\n",
    "\\end{align}\n",
    "\n",
    "Given that uptake is equal to the sum of the assimilated biomass and that lost to growth respiration (assuming that this respiration represents all carbon loss due to growth):\n",
    "\\begin{align}\n",
    "    U = U - R_g + R_g\n",
    "\\end{align}\n",
    "\n",
    "We can divide through by the $U$ to get:\n",
    "\n",
    "\\begin{align}\n",
    "    1 &= \\frac{U - R_g}{U} + \\frac{R_g}{U} \\\\\n",
    "    1 &= \\epsilon + \\frac{R_g}{U} \\\\\n",
    "    \\frac{R_g}{U} &= 1 - \\epsilon  \\\\\n",
    "    R_g &= (1 - \\epsilon)U\n",
    "\\end{align}\n",
    "\n",
    "substituting this into the equation for carbon biomass above:\n",
    "\n",
    "\\begin{align}\n",
    "    \\frac{1}{C}\\frac{dC}{dt} &= U - R_g(U) - R_m \\\\\n",
    "                             &= U - (1 - \\epsilon)U - R_m \\\\\n",
    "                             &= U - U + \\epsilon U - R_m \\\\\n",
    "                             &= \\epsilon U - R_m \\\\\n",
    "\\end{align}"
   ]
  },
  {
   "cell_type": "markdown",
   "metadata": {},
   "source": [
    "# Our experiments\n",
    "\n",
    "Though the assumptions above may provide more insight into the growth of bacteria in our experimental data we assume that populations are growing purely in exponential phase. In this case we assume that uptake is constant, not varying over the period as resources are effectively unlimited. In this case we can look back at the full model for carbon biomass growth:\n",
    "\n",
    "\\begin{align}\n",
    "    \\frac{1}{C}\\frac{dC}{dt} &= U - R_g(U) - R_m \\\\\n",
    "\\end{align}\n",
    "\n",
    "where if $U$ does not vary we can take $R_g$ to be constant (i.e. not varying with uptake rate). This means that the equation instead becomes:\n",
    "\n",
    "\\begin{align}\n",
    "    \\frac{1}{C}\\frac{dC}{dt} &= U - R_g - R_m \\\\\n",
    "\\end{align}\n",
    "\n",
    "As we have measures for growth rate $r$ and total respiratory flux (i.e. $ R = R_g - R_m$) we can write the equation as:\n",
    "\n",
    "\\begin{align}\n",
    "    \\frac{1}{C}\\frac{dC}{dt} &= U - R_g - R_m \\\\\n",
    "    r &= U - R\n",
    "\\end{align}\n",
    "\n",
    "where we need only sum growth and respiration to get total uptake. \n"
   ]
  },
  {
   "cell_type": "code",
   "execution_count": null,
   "metadata": {},
   "outputs": [],
   "source": []
  }
 ],
 "metadata": {
  "kernelspec": {
   "display_name": "Python 3",
   "language": "python",
   "name": "python3"
  },
  "language_info": {
   "codemirror_mode": {
    "name": "ipython",
    "version": 3
   },
   "file_extension": ".py",
   "mimetype": "text/x-python",
   "name": "python",
   "nbconvert_exporter": "python",
   "pygments_lexer": "ipython3",
   "version": "3.7.0"
  },
  "toc": {
   "nav_menu": {},
   "number_sections": true,
   "sideBar": true,
   "skip_h1_title": false,
   "title_cell": "Table of Contents",
   "title_sidebar": "Contents",
   "toc_cell": false,
   "toc_position": {},
   "toc_section_display": true,
   "toc_window_display": false
  }
 },
 "nbformat": 4,
 "nbformat_minor": 2
}
