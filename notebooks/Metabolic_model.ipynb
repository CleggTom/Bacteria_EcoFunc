{
 "cells": [
  {
   "cell_type": "markdown",
   "metadata": {},
   "source": [
    "# Introduction\n",
    "\n",
    "This notebook will detail the derviation and rationale for the using the metabolic model to model the temperature dependence of bacterial systems. I will:\n",
    "\n",
    "1. Derive the model structure for this metabolic model\n",
    "2. Explain why this model may be preferable to the LV framework previously used. (TO DO)\n",
    "3. Explain how temperature dependence can be incorporated into the framework. (TO DO)\n",
    "4. Discuss how we might parameterise the model "
   ]
  },
  {
   "cell_type": "markdown",
   "metadata": {},
   "source": [
    "# Deriving the metabolic model\n",
    "## A Basic Growth Model\n",
    "\n",
    "I start with the fundamental observation that the carbon biomass growth rate of the bacterial population $i$ is given by the gain of carbon $U_i$ minus the losses $D_i$:\n",
    "\n",
    "\\begin{align}\n",
    "    \\frac{1}{C_i}\\frac{dC_i}{dt} = U_i - D_i\n",
    "\\end{align}"
   ]
  },
  {
   "cell_type": "markdown",
   "metadata": {},
   "source": [
    "Given that the end goal of this endevor is to model the emergent total metabolism of the community we can seperate this loss term into carbon that is lost due to respiration $R_i$(i.e. as $\\text{CO}_2$), and carbon that is lost and released into the enviroment $L_i$ giving:\n",
    "\n",
    "\\begin{align}\n",
    "    \\frac{1}{C_i}\\frac{dC_i}{dt} = U_i - R_i - L_i\n",
    "\\end{align}"
   ]
  },
  {
   "cell_type": "markdown",
   "metadata": {},
   "source": [
    "Following the work of Manzoni & Porporato ([2009](https://www.sciencedirect.com/science/article/pii/S0038071709000765)), we can further partition these repiratory losses into those that reflect the cost of mainentence,$R_{m_i}$ and that which occurs as a result of growth $R_{g_i}$ such that $R_i = R_{m_i} + R_{g_i}$. \n",
    "\n",
    "\\begin{align}\n",
    "    \\frac{1}{C_i}\\frac{dC_i}{dt} = U_i - R_{g_i} - R_{m_i} - L_i\n",
    "\\end{align}"
   ]
  },
  {
   "cell_type": "markdown",
   "metadata": {},
   "source": [
    "Growth respiration here represents the loss of carbon that occurs due inefficency of metabolising certain carbon sources ([Gommers et al. 1988](https://onlinelibrary.wiley.com/doi/abs/10.1002/bit.260320112)) whilst maintenance respiration represents the costs of processes such as protein and nucleic acid turnover, osmoregulation and motility ([Chapman & Grey 1986](https://www.sciencedirect.com/science/article/pii/0038071786900957)). I seperate these two types of respiration as it allows the links to the processes that these types of respiration depended on to be expressed fully\n",
    "\n",
    "As growth respiration is associated with assimilating carbon uptake into biomass it should be related to the magnitude of uptake (i.e. $R_{g_i} = f(U_i)$). This relationship is most commonly assumed to be linear with a fixed proportion of uptake being lost via growth respiration, $R_{g_i} = p_{R_g} U_i$. I assume here that maintenence respiration, the other source of carbon loss, is constant with regards to uptake, with the total carbon loss from maintenence being proportional to the amount of biomass. Including this in the total growth model above gives:\n",
    "\n",
    "\\begin{align}\n",
    "    \\frac{1}{C_i}\\frac{dC_i}{dt} = U_i - p_{R_g} U_i - R_{m_i} - L_i\n",
    "\\end{align}"
   ]
  },
  {
   "cell_type": "markdown",
   "metadata": {},
   "source": [
    "Similarly we can link the non-respiratory loss of carbon $L_i$ to the processes occuring within the cell. As this loss term is mostly due to the inefficency of metabolising carbon uptake (with the contribtion of processes such as cell mortality being negligble) we can also link it to carbon uptake, assuming a fixed proportion is lost via this route $L_i = p_{L} U_i$:\n",
    "\n",
    "\\begin{align}\n",
    "    \\frac{1}{C_i}\\frac{dC_i}{dt} &= U_i - p_{R_g} U_i - R_{m_i} - p_L U_i \\\\\n",
    "                                 &= U_i (1 - p_{R_g} - p_L) - R_{m_i}\\\\\n",
    "\\end{align}"
   ]
  },
  {
   "cell_type": "markdown",
   "metadata": {},
   "source": [
    "## Multiple Carbon Sources\n",
    "The equation above represents the growth of a population with respect to some arbitrary rate of carbon uptake $U_i$. Real populations can be resource limited (leading to a dependence of uptake on resource avaliblity) and will feed across multiple carbon sources. Thus, we can represent the uptake of carbon by species $i$ across $M$ carbon sources ($S_j$) as:\n",
    "\n",
    "\\begin{align}\n",
    "U_i = \\sum_{j=1}^M u_{ij} S_j\n",
    "\\end{align}\n",
    "\n",
    " Where $u_{ij}$  represents the per biomass uptake rate of resource $j$ by species $i$. Note that this rate is described by the first order term here but could follow a more complex function of resource avalibility."
   ]
  },
  {
   "cell_type": "markdown",
   "metadata": {},
   "source": [
    "As the rates of growth respiration $R_g$ and the loss of carbon to the enviroment $L_i$ are dependent on uptake we can assume that their values will vary across the $M$ carbon sources. We can indicate this by including the $j$ index, letting us rewite the growth equation as:\n",
    "\n",
    "\\begin{align}\n",
    "    \\frac{1}{C_i}\\frac{dC_i}{dt} = (\\sum_{j=1}^M u_{ij} S_j  (1 - {p_{R_g}}_j - {p_L}_j)) - R_{m_i}\n",
    "\\end{align}\n"
   ]
  },
  {
   "cell_type": "markdown",
   "metadata": {},
   "source": [
    "We can further expand this by considering that the loss of carbon to the enviroment will actually occur via the release of carbon in multiple forms (due to the breakdown of more complex compunds) and can be expressed as sum of losses across $M$ carbon compounds $P_{L_j} = \\sum_{k=1}^{M} l_{jk}$ where entries of the matrix $l_{jk}$ represent the proportion of uptake of resource $j$ that is released as resource $k$. This release allows the cross-feeding interactions that characterise microbial systems to be represented in the dynamics and results in the final growth model for population $i$:\n",
    "\n",
    "\\begin{align}\n",
    "    \\frac{1}{C_i}\\frac{dC_i}{dt} = (\\sum_{j=1}^M u_{ij} S_j  (1 - {p_{R_g}}_j - \\sum_{k=1}^{M} l_{jk})) - R_{m_i}\n",
    "\\end{align}"
   ]
  },
  {
   "cell_type": "markdown",
   "metadata": {},
   "source": [
    "## Resource Model\n",
    "\n",
    "Now we have derived an equation describing the growth of a bacterial species, we need to write the set of equations describing resource dyanmics. These equations follow fairly naturally from the popualtion dynamics when enforcing mass conservation. As with carbon biomass the amount of resource $j$ in the enviroment must be determined by the rate at which it enters ($I$) minus the rate at which it leaves ($L$):\n",
    "\n",
    "\\begin{align}\n",
    "    \\frac{dS_j}{dt} = I_j - L_j\n",
    "\\end{align}"
   ]
  },
  {
   "cell_type": "markdown",
   "metadata": {},
   "source": [
    "The change in carbon resource avaliblity can be attributed either to abiotic processes (which we represent here through the constant term $\\rho_j$) or through the activity of the bacterial community which takes up resource $j$ at the rate $U_j$ and releases it (via the inefficency of uptake) through the $L_j$ term:\n",
    "\n",
    "\\begin{align}\n",
    "    \\frac{dS_j}{dt} = \\rho_j - U_j + L_j\n",
    "\\end{align}"
   ]
  },
  {
   "cell_type": "markdown",
   "metadata": {},
   "source": [
    "We can get the rates of uptake and release by the community by summing across all $N$ species in the community and across all $M$ resources which they release as a result of the $L_j$ term:\n",
    "\n",
    "\\begin{align}\n",
    "    \\frac{dS_j}{dt} = \\rho_j - \n",
    "                      \\sum_{i = 1}^{N} \\left( S_j C_i u_{ij}  - \\sum_{k = 1}^{N} C_i S_k u_{ik} l_{kj} \\right)\n",
    "\\end{align}"
   ]
  },
  {
   "cell_type": "markdown",
   "metadata": {},
   "source": [
    "So overall the change in enviromental carbon in the form of resource $j$ is equal to the intrinsic rate of change ($\\rho_j$) minus the net effect of each bacterial population. This net effect is made up of the uptake (the first term) and the release via the inefficent uptake of other carbon sources (the last)."
   ]
  },
  {
   "cell_type": "markdown",
   "metadata": {},
   "source": [
    "# Why The metabolic Model?"
   ]
  },
  {
   "cell_type": "markdown",
   "metadata": {},
   "source": [
    "# Temperature Dependence"
   ]
  },
  {
   "cell_type": "markdown",
   "metadata": {},
   "source": [
    "# Parameters"
   ]
  },
  {
   "cell_type": "markdown",
   "metadata": {},
   "source": [
    "So there are 4 main parameters that we need for this model:\n",
    "1. Uptake matrix\n",
    "2. Maintenece Respriaton\n",
    "3. Growth Respiration\n",
    "4. Carbon transition matrix\n",
    "\n",
    "But how do we get estimates for these?"
   ]
  },
  {
   "cell_type": "markdown",
   "metadata": {},
   "source": [
    "## Uptake\n",
    "\n",
    "So we cannot really obtain estimates of uptake directly but we can may be able to use Tom's data to get estimates of the magnitude relative to total respiration?\n",
    "\n",
    "In terms of structure of the matrix we can vary the nestedness of the interactions (changing the strength of interaction in the community).\n",
    "\n",
    "Temperature should directly affect uptake as it is related to the activity of enzymes and the transport of compounds across the cell wall, at a minimum the rate of passive diffusion should increase. It's hard to know how to parameterise this individually though... There is some evidence that microbes switch metabolic pathways with temperature, this can be represented though the alteration of the relative uptake rates. "
   ]
  },
  {
   "cell_type": "markdown",
   "metadata": {},
   "source": [
    "## Maintainence Respiration\n",
    "\n",
    "There is a fairly large body of work considering the importance of microbial maintenence respiration with various models and experiments aiming to understand its dynamics.\n",
    "\n",
    "We may be able to estimate the amount of respiration that originates from this process in relation to the total respiration of a given population by using these papers. For example [Price & Sowers (2004)](https://www.ncbi.nlm.nih.gov/pmc/articles/PMC384798/) estimate the ratio of metabolic rates for bacteria in growth and maintence phases to be $10^3 : 1$. We need to look at more papers for this as this ratio seems very high.\n",
    "\n",
    "The same paper also looks at the temperature dependence of metabolism across these two phases, finding no difference. This could be very helpful as it indicates that the total respiratory temperature dependence should be equal to the temperature dependence of each part individually..."
   ]
  },
  {
   "cell_type": "markdown",
   "metadata": {},
   "source": [
    "## Growth respiration\n",
    "\n",
    "As it stands in the model, growth respiration is the fixed proportion of each carbon source that is lost as $CO_2$ when it is metabolised. Thus, it takes the form of a vector with length $M$. In theory we can set a limit to the values in this vector based on the fact that the metabolism of many carbon sources will not allow total conversion of carbon mass. This should hold true for more complex carbon compunds though the proportion respired should increase as the molecules get more simple (i.e. i imagine the consumption of something simple like glucose should be relatively straightforward and efficent). \n",
    "\n",
    "This point is backed up by the work of [Gommers et al. (1988)](https://onlinelibrary.wiley.com/doi/abs/10.1002/bit.260320112) who estimate that around $12\\%-29\\%$ of substrate is released as $CO_2$ during metabolism (A nice range to work with?).\n",
    "\n",
    "In terms of temperature dependence the proportion of carbon respired per unit input should not change with temperature (i.e. $p_{R_g}$ above) though the supply of material to metabolise (via the uptake term) will. "
   ]
  },
  {
   "cell_type": "markdown",
   "metadata": {},
   "source": [
    "## $l$ - the transition matrix\n",
    "\n",
    "Though this matrix is impossible to directly parameterise we can make some assumptions about its structure.\n",
    "\n",
    "Firstly we can assume that its entries are independent of temperature. As this parameter represents the conversion of the uptake of one form of carbon into others it will be constrained by the biochemical pathways that are used in the metabolism of the carbon source. Thus, unless the metabolic pathways change themselves (which there acually is some evidence for ): ) the entries of $l$ will remain the same.\n",
    "\n",
    "We can also make some assumptions about the strucuture of $l$. As the transistions between carbon sources represent biochemical reactions we can assume some kind of directionality in the reactions as complex compunds are broken down into more simple ones. This can be interperated in terms of the entropy production in these reactions."
   ]
  }
 ],
 "metadata": {
  "kernelspec": {
   "display_name": "Python 3",
   "language": "python",
   "name": "python3"
  },
  "language_info": {
   "codemirror_mode": {
    "name": "ipython",
    "version": 3
   },
   "file_extension": ".py",
   "mimetype": "text/x-python",
   "name": "python",
   "nbconvert_exporter": "python",
   "pygments_lexer": "ipython3",
   "version": "3.7.0"
  },
  "toc": {
   "nav_menu": {},
   "number_sections": true,
   "sideBar": true,
   "skip_h1_title": false,
   "title_cell": "Table of Contents",
   "title_sidebar": "Contents",
   "toc_cell": false,
   "toc_position": {},
   "toc_section_display": true,
   "toc_window_display": false
  }
 },
 "nbformat": 4,
 "nbformat_minor": 2
}
