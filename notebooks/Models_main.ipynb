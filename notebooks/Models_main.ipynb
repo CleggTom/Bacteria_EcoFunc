{
 "cells": [
  {
   "cell_type": "code",
   "execution_count": 1,
   "metadata": {
    "nbpresent": {
     "id": "31629f23-d4f1-43fe-b673-101a1eb02202"
    }
   },
   "outputs": [],
   "source": [
    "#Load some modules etc\n",
    "%matplotlib inline\n",
    "import matplotlib.pyplot as plt\n",
    "from cycler import cycler\n",
    "\n",
    "from sympy import *\n",
    "import scipy as sc\n",
    "import numpy as np\n",
    "init_printing()"
   ]
  },
  {
   "cell_type": "markdown",
   "metadata": {
    "nbpresent": {
     "id": "434b9656-6242-4da1-8f63-cae85073a892"
    }
   },
   "source": [
    "# Introduction\n",
    "\n",
    "In this notebook I run through the theory asociated with the microbial competition experiments done by Gab and Paqui. The basic idea is to develop a model which describes the temperature dependence of respiratory flux in communities with interacting species. This requires the model to not only describe the temperature dependence of metabolism itself (as classic MTE does) but also the change in flux that occurs due to the temperature dependence of species interactions. \n",
    "\n",
    "First I show how the temperature dependence of total respiratory flux of a population can be approximated assuming a temperature dependence of growth rate. I then describe growth in communities in multiple non-interacting species before moving to communities with species interactions. Like the expermental work I focus mainly on the exponential growth phase here though I do consider the effects of density dependence below. "
   ]
  },
  {
   "cell_type": "markdown",
   "metadata": {
    "nbpresent": {
     "id": "3ec0d8b6-d25e-4622-abcf-07cbc7b2a3e1"
    }
   },
   "source": [
    "# Single Species model\n",
    "\n",
    "First I will show how the temperature dependence of total respiratory flux of a population can be derived from the temperature dependence of its mass-specific respiration and carbon biomass growth. The total respiratory flux of carbon for a single species popualtion $i$ is equal to it's mass specific flux times its biomass\n",
    "\n",
    "\\begin{align}\n",
    "    R_i = C_i \\tilde{R}_i\n",
    "\\end{align}\n",
    "\n",
    "where $R_i$ is the total respiratory flux of species $i$, $C_i$ the carbon biomass and $\\tilde{R}$ the mass-specific respiratory flux. In order to determine the temperature dependence of total flux we need to work out the temperature dependence of both the biomass and mass-specific respiration. "
   ]
  },
  {
   "cell_type": "markdown",
   "metadata": {
    "nbpresent": {
     "id": "edf1bea6-cb23-410e-a1b8-209b03c96457"
    }
   },
   "source": [
    "## Temperature dependence of respiration\n",
    "\n",
    "Obtaining the temperature dependence of respiration ($\\tilde{R}_i$) is easy as we can simply use the Arrhenius equation to represent the respiratory rate:\n",
    "\n",
    "\\begin{align}\n",
    "    \\tilde{R}_i(T) = \\tilde{R_i}_0 e^{-E_\\tilde{R_i} (T_r - T_{ra})}\n",
    "\\end{align}\n",
    "\n",
    "where $\\tilde{R}_i(T)$ is the respiration at temperature $T$, $\\tilde{R}_{i_0}$ is respiration at some reference temperature, $E_{\\tilde{R}_i}$ is the the tempeature sensitivty of respiration and $T_r$ and $T_{ra}$ are the Boltzmann corrected temperature and reference temperature respectively ($T \\to\\frac{1}{kT}$). Thus the equation for total flux becomes:\n",
    "\n",
    "\\begin{align}\n",
    "    R_i = C_i \\tilde{R_i}_0 e^{-E_\\tilde{R_i} (T_r - T_{ra})}\n",
    "\\end{align}"
   ]
  },
  {
   "cell_type": "markdown",
   "metadata": {
    "nbpresent": {
     "id": "55a0bb7e-c07a-4d51-91e3-a537230ac45d"
    }
   },
   "source": [
    "## Temperature dependence of biomass\n",
    "\n",
    "Obtaining the temperature dependence of carbon biomass is more difficult as biomass is not directly dependent on temperature. Instead temperature affects the rate of biomass change in the population meaning that its effects are time dependent. Thus, we must also account for time when looking at the temperature dependence of biomass. I start with a basic model of bacterial growth similar to that presented in Manzoni & Porporato ([2009](https://www.sciencedirect.com/science/article/pii/S0038071709000765)):"
   ]
  },
  {
   "cell_type": "markdown",
   "metadata": {
    "nbpresent": {
     "id": "e1a76e90-1935-4f00-a23c-cce84b76606b"
    }
   },
   "source": [
    "<img src=\"figures/growthmodel/growthmodel.png\" width = \"500px\">"
   ]
  },
  {
   "cell_type": "markdown",
   "metadata": {
    "nbpresent": {
     "id": "5ebd4084-aee2-44b5-a9cf-3f94f28938ec"
    }
   },
   "source": [
    "| Symbol        | Description                            | \n",
    "|---------------|----------------------------------------|\n",
    "| $C_E$         | Environmental carbon concentration     |\n",
    "| $C_i$         | Bacterial carbon biomass concentration |\n",
    "| $\\tilde{U}$   | Gross mass-specific carbon uptake      |\n",
    "| $\\tilde{R}_G$ | Mass-specific growth respiration       |\n",
    "| $\\tilde{R}_M$ | Mass-specific maintenance respiration  |"
   ]
  },
  {
   "cell_type": "markdown",
   "metadata": {
    "nbpresent": {
     "id": "2a681091-cfde-46df-8973-64e53877ddb5"
    }
   },
   "source": [
    "Here carbon is taken up from the enviroment $C_E$ through carbon uptake $U$ of which some is lost via growth respiration $R_g$. Carbon is also lost from bacterial biomass $C_i$ via maintenance respiration $R_m$. We can write the total equation for bacterial biomass as:\n",
    "\n",
    "\\begin{align}\n",
    "    \\frac{1}{C_i} \\frac{dC_i}{dt} = \\tilde{U}_i - \\tilde{R}_{g_i} - \\tilde{R}_{m_i}\n",
    "\\end{align}\n",
    "\n",
    "where the tilde notation again represents that these are mass-specific rates. Note that I assume that all carbon loss by bacteria occurs via respiration, with the loss occuring due to mortality and overflow (which is the loss of excess carbon due to stoichiometric constraints) being negligible. This model represents the simple exponential growth phase where resources are not limiting. "
   ]
  },
  {
   "cell_type": "markdown",
   "metadata": {
    "nbpresent": {
     "id": "82f0216a-a3e8-4e9f-8bd8-9bb85587104c"
    }
   },
   "source": [
    "### Uptake\n",
    "\n",
    "In the model above uptake is represented as a single term $U$. Given that we are interested here in growth during the exponential phase I assume here that enviromental carbon is not limiting and that this uptake scales only with microbial biomass (i.e. $U = C_s \\tilde{U}$). Thus, this mass-specific term represents the rate of uptake limited only by the mechanics of carbon uptake. This limitation can be thought of in two ways with uptake being controled either by the diffusion of carbon across the cell membrane (i.e [Aksnes & Egge (1991)](https://www.int-res.com/articles/meps/70/m070p065.pdf)) or by the avalibility of extracellular enzymes to break down carbon substrates (as discussed in Manzoni & Porporato [(2009)](https://www.sciencedirect.com/science/article/pii/S0038071709000765)).\n",
    "\n",
    "#### Diffusion limitation\n",
    "\n",
    "#### Enzyme limitation\n",
    "\n",
    "In the enzyme limited frame work we assume that the uptake of carbon is limited by the ability of bacteria to decompose external carbon substrates. This process is catalysed by enzymes and can be described by Michaelis–Menten kinetics:\n",
    "\n",
    "\\begin{align}\n",
    "    \\tilde{U} = \\tilde{U}_{max} \\frac{C_E}{C_E + K_s}\n",
    "\\end{align}\n",
    "\n",
    "where $\\tilde{U}_{max}$ is the mass-specific maximum uptake rate which may be limted by factors other than substrate avaliblity (e.g. the diffusion limitation discussed above), $C_E$ is the mass of enviromental carbon and $K_s$ is the half saturation constant at which uptake is 50%. In the exponential phase we assume that carbon is not limiting such that $C_E \\to \\infty$ meaning that the value of $\\frac{C_E}{C_E + K_s} \\to 1$ and $\\tilde{U} = \\tilde{U}_{max}$. \n",
    "\n",
    "This process may be altered by temperature as the rates of reaction increase, altering the value of $K_s$.\n"
   ]
  },
  {
   "cell_type": "markdown",
   "metadata": {
    "nbpresent": {
     "id": "54d0c208-0986-4234-a1ce-740dc4bc4e78"
    }
   },
   "source": [
    "### Respiration\n",
    "\n",
    "Respiration here is represented in two terms $R_g$ and $R_m$ which occur due to growth and maintenence respectively. Growth respiration here represents the loss of carbon that occurs due to the energetic costs of growth and the inefficency of metabolising certain carbon sources ([Gommers et al. 1988](https://onlinelibrary.wiley.com/doi/abs/10.1002/bit.260320112)) whilst maintenance respiration represents the costs of processes such as protein and nucleic acid turnover, osmoregulation and motility ([Chapman & Grey 1986](https://www.sciencedirect.com/science/article/pii/0038071786900957)). I seperate these two types of respiration as it allows the different processes that lead to these carbon losses to be expressed fully across different states of bacterial growth. \n",
    "\n",
    "As growth respiration is associated with assimilating carbon uptake into biomass it should be related to the magnitude of uptake (i.e. $R_g = f(U)$). This relationship is most commonly assumed to be linear with a fixed proportion of uptake being lost via growth respiration, $R_g = p U$. The remainder of carbon uptake is then used for biomass growth ($\\epsilon U$ where $\\epsilon = 1 - p$). I assume here that maintenence respiration, the other source of carbon loss is constant, with the total carbon loss from maintenence being proportional to the amount of biomass (i.e. $R_m = C_s \\tilde{R}_m$)."
   ]
  },
  {
   "cell_type": "markdown",
   "metadata": {
    "nbpresent": {
     "id": "aae2733a-fa8d-42cb-ba19-960ddcae1149"
    }
   },
   "source": [
    "### Exponential model\n",
    "\n",
    "Combining the observations above we can substitute growth respiration into the microbial growth model:\n",
    "\n",
    "\\begin{align}\n",
    "    \\frac{1}{C_s} \\frac{dC_s}{dt} &= \\tilde{U}_s - \\tilde{R}_g -\\tilde{R}_m \\\\\n",
    "    &= \\tilde{U}_s - (1-\\epsilon)\\tilde{U} -\\tilde{R}_m \\\\\n",
    "    &= \\epsilon \\tilde{U} -\\tilde{R}_m\n",
    "\\end{align}\n",
    "\n",
    "where the $\\epsilon$ term accounts for the changing growth respiration as the rate of uptake changes."
   ]
  },
  {
   "cell_type": "markdown",
   "metadata": {
    "nbpresent": {
     "id": "b2263c2b-699c-4a4c-b6c5-9d7840d39db4"
    }
   },
   "source": [
    "\n",
    "### Experimental model\n",
    "\n",
    "Though the model above represents the total model of bacteria growth it may be simplified further considering the experiments that have been conducted. In our experiments we are interested only in the exponential growth phase where carbon is not limiting and growth rates are at their maximum. As the rate of growth is theoretically constant over this period we can assume that the rate of uptake is constant too. As such the rate of growth respiration should be constant. Given this we can ignore the relationship between growth rate and uptake and instead revert to the earlier model: \n",
    "\\begin{align}\n",
    "    \\frac{1}{C_s} \\frac{dC_s}{dt} &= \\tilde{U}_s - \\tilde{R}_g -\\tilde{R}_m\n",
    "\\end{align}\n",
    "\n",
    "Where we can simplify the respiration term to $\\tilde{R} = \\tilde{R}_g +\\tilde{R}_m$ giving:\n",
    "\n",
    "\\begin{align}\n",
    "    \\frac{1}{C_s} \\frac{dC_s}{dt} &= \\tilde{U}_s - \\tilde{R}\n",
    "\\end{align}\n",
    "\n",
    "Of course this model becomes invalid once the value of $\\tilde{U}$ changes and we need to account for the change in respiration growth. "
   ]
  },
  {
   "cell_type": "markdown",
   "metadata": {
    "nbpresent": {
     "id": "026f33d4-c896-4268-9db3-2904df3b7e7c"
    }
   },
   "source": [
    "### A time dependent solution\n",
    "For a single population we can use seperation of variables to get the general solution of this equation (i.e. the biomass of the population at time $t$):\n",
    "\n",
    "\\begin{align}\n",
    "    C(t) &= C_0 e^{t (\\tilde{U} - \\tilde{R}) } \\\\\n",
    "         &= C_0 e^{t  \\tilde{U}} e^{- t \\tilde{R}}\n",
    "\\end{align}\n",
    "\n",
    "To get the temperature dependence of this process we need only substitute the Boltzmann equation for the $\\tilde{U}$ and $\\tilde{R}$ terms which gives:\n",
    "\n",
    "\\begin{align}\n",
    "    C(t,T) = C_0 e^{t \\tilde{U}_0 e^{-E_{\\tilde{U}} (T_r - T_{ra})}} e^{- t  \\tilde{R_m}_0 e^{-E_{\\tilde{R_m}} (T_r - T_{ra})}}\n",
    "\\end{align}\n",
    "\n",
    "In this form it is not possible to get an expression for the temperature dependence of growth (a single coefficent of $(T_r-T_{ra})$) due to the double exponentials. We can take the log and use a taylor expansion around the point $T_r = T_{ra}$ to get around this:"
   ]
  },
  {
   "cell_type": "code",
   "execution_count": 2,
   "metadata": {
    "nbpresent": {
     "id": "f7cdbc4c-5844-47ec-bc32-2eec4eed6b35"
    }
   },
   "outputs": [
    {
     "data": {
      "image/png": "[encoded data removed]",
      "text/latex": [
       "$$C_{0} e^{\\frac{t \\left(- \\left(R_{0} - u_{0}\\right)^{2} + \\left(T_{r} - T_{ra}\\right) \\left(E_{R} R_{0}^{2} - E_{R} R_{0} u_{0} - E_{u} R_{0} u_{0} + E_{u} u_{0}^{2}\\right)\\right)}{R_{0} - u_{0}}}$$"
      ],
      "text/plain": [
       "      ⎛           2              ⎛      2                               2⎞⎞\n",
       "    t⋅⎝- (R₀ - u₀)  + (Tᵣ - Tᵣₐ)⋅⎝E_R⋅R₀  - E_R⋅R₀⋅u₀ - Eᵤ⋅R₀⋅u₀ + Eᵤ⋅u₀ ⎠⎠\n",
       "    ───────────────────────────────────────────────────────────────────────\n",
       "                                    R₀ - u₀                                \n",
       "C₀⋅ℯ                                                                       "
      ]
     },
     "execution_count": 2,
     "metadata": {},
     "output_type": "execute_result"
    }
   ],
   "source": [
    "t,e,u_0,E_u,R_0,E_R,C_0,T_r,T_ra = var(\"t,\\epsilon,u_0,E_u,R_0,E_R,C_0,T_r,T_ra\")\n",
    "\n",
    "gr = u_0 * exp(-E_u * (T_r - T_ra))\n",
    "re = R_0 * exp(-E_R * (T_r - T_ra))\n",
    "\n",
    "r_approx = exp(log(gr - re).series(T_r,T_ra,2).removeO())\n",
    "\n",
    "C = C_0 * exp( t * (r_approx))\n",
    "C_approx = exp(log(C).series(T_r,T_ra,2).removeO())\n",
    "C_approx.simplify()"
   ]
  },
  {
   "cell_type": "code",
   "execution_count": 3,
   "metadata": {},
   "outputs": [
    {
     "data": {
      "image/png": "[encoded data removed]",
      "text/latex": [
       "$$t \\left(E_{R} R_{0} - E_{u} u_{0}\\right)$$"
      ],
      "text/plain": [
       "t⋅(E_R⋅R₀ - Eᵤ⋅u₀)"
      ]
     },
     "execution_count": 3,
     "metadata": {},
     "output_type": "execute_result"
    }
   ],
   "source": [
    "f = (E_R*R_0*R_0*t - E_R*R_0*u_0*t + E_u*u_0*u_0*t - E_u*u_0*R_0*t)/(R_0 - u_0)\n",
    "f.simplify()"
   ]
  },
  {
   "cell_type": "markdown",
   "metadata": {
    "nbpresent": {
     "id": "690a6105-b9ce-462e-836e-65c219b6d089"
    }
   },
   "source": [
    "Thus the temperature dependence of biomass is approximately: \n",
    "\n",
    "\\begin{align}\n",
    "    E_C \\approx E_{\\tilde{R}} \\tilde{R}_0 t - E_{\\tilde{U}} \\tilde{U}_0 t\n",
    "\\end{align}"
   ]
  },
  {
   "cell_type": "markdown",
   "metadata": {
    "nbpresent": {
     "id": "d571e73e-234f-41e4-869c-8e0953c9eec4"
    }
   },
   "source": [
    "#### Approximation Quality\n",
    "\n",
    "We can evaluate the validity of this approximation numerically by looking at the difference between the exact solution and the approximation. Here I select a single parameterisation of the model and show the difference graphically:"
   ]
  },
  {
   "cell_type": "code",
   "execution_count": 4,
   "metadata": {
    "nbpresent": {
     "id": "4589cb12-1174-489a-9976-b7639e4ab3a4"
    }
   },
   "outputs": [
    {
     "data": {
      "text/plain": [
       "[<matplotlib.lines.Line2D at 0x11878c518>]"
      ]
     },
     "execution_count": 4,
     "metadata": {},
     "output_type": "execute_result"
    },
    {
     "data": {
      "image/png": "[encoded data removed]",
      "text/plain": [
       "<Figure size 936x360 with 2 Axes>"
      ]
     },
     "metadata": {},
     "output_type": "display_data"
    }
   ],
   "source": [
    "#define k\n",
    "k = 8.6173303e-5\n",
    "T = var(\"T\")\n",
    "\n",
    "C_real_p = log(C.subs({R_0:0.5,E_R:0.95,u_0:5.0,E_u:0.15,T_ra:1/(k*283.0),T_r:(1/(k*T)),t:1,C_0:1}))\n",
    "C_approx_p = log(C_approx.subs({R_0:0.5,E_R:0.95,u_0:5.0,E_u:0.15,T_ra:1/(k*283.0),T_r:(1/(k*T)),t:1,C_0:1}))\n",
    "\n",
    "C_app = lambdify(T,C_approx_p)\n",
    "C_real = lambdify(T,C_real_p)\n",
    "\n",
    "T_vec = 273.15 + np.arange(0, 30, 0.1)\n",
    "\n",
    "fig = plt.figure(1,figsize=(13,5))\n",
    "\n",
    "ax = fig.add_subplot(121)\n",
    "ax.plot(T_vec,C_real(T_vec),label='Real')\n",
    "ax.plot(T_vec,C_app(T_vec),label='Approximation')\n",
    "ax.legend(loc='upper center')\n",
    "\n",
    "ax = fig.add_subplot(122)\n",
    "ax.plot(C_real(T_vec) - C_app(T_vec))\n"
   ]
  },
  {
   "cell_type": "markdown",
   "metadata": {
    "nbpresent": {
     "id": "f50982e1-2199-4811-9fd2-929b22debef4"
    }
   },
   "source": [
    "So the approximation appears to be good as long as the temperatures are low as we are ignoring the double exponential. This suits us as the use of the boltzmann means we ignore the decline in metabolic rate that occurs at higher temps. "
   ]
  },
  {
   "cell_type": "markdown",
   "metadata": {
    "nbpresent": {
     "id": "c5478f65-dff6-4016-b686-464f4214e3c8"
    }
   },
   "source": [
    "### Flux temperature dependence"
   ]
  },
  {
   "cell_type": "markdown",
   "metadata": {
    "nbpresent": {
     "id": "58a93448-6b49-4ecc-8d64-c7976909ae83"
    }
   },
   "source": [
    "Combining the approximation above with the temperature dependence of respiration we can rewrite the equation for total respiration as:\n",
    "\n",
    "\\begin{align}\n",
    "    R_i \\approx C_0 e^{-\\tilde{R}_{0_i} t + \\tilde{U}_{0_i} t +\n",
    "                (E_{\\tilde{R}_i} \\tilde{R}_{0_i} t -\n",
    "                 E_{U_i} \\tilde{U}_{0_i} t)(T_r - T_{ra})} \n",
    "    \\tilde{R}_{0_i} e^{-E_{\\tilde{R}_i} (T_r - T_{ra})}\n",
    "\\end{align}\n",
    "\n",
    "which means we can get the coefficent of $(T_r - T_{ra})$ for total respiration:\n",
    "\n",
    "\\begin{align}\n",
    "    E_{R_i} &\\approx -E_{\\tilde{R}_i} + E_{\\tilde{R}_i} \\tilde{R}_{0_i}  t - E_{U_i} \\tilde{U_i}_0 t\\\\\n",
    "\\end{align}\n",
    "\n",
    "Looking at this equation we can see several interesting features of the model:\n",
    "\n",
    "- Increasing the sensitivity of $E_\\tilde{R_i}$ will not always increase the sensitvity of total respiration due it it's negative effects on growth rates (Increasing the value of $E_{\\tilde{R}_i}$ will only increase $E_{R_i}$ if $\\tilde{R}_{0_i}  t > 1$).\n",
    "\n",
    "- Increasing the time ($t$) will increase the temperature sensitvity of total respiration (due to increase in biomass) but only if $E_{\\tilde{R}_i} \\tilde{R}_{0_i} < E_{U_i} U_{0_i}$"
   ]
  },
  {
   "cell_type": "markdown",
   "metadata": {},
   "source": [
    "We can also combine the other parameters into a single normalisation constant:\n",
    "\n",
    "\\begin{align}\n",
    "    R_{0_i} = C_{0_i} \\tilde{R}_{0_i} e^{\\tilde{U}_{0_i} t - \\tilde{R}_{0_i} t}\n",
    "\\end{align}\n",
    "\n",
    "allowing us to represent the population flux more simply as:\n",
    "\n",
    "\\begin{align}\n",
    "   R_i =  R_{0_i} e^{E_{R_i}(T_r - T_{ra})} \n",
    "\\end{align}"
   ]
  },
  {
   "cell_type": "markdown",
   "metadata": {},
   "source": [
    "# Density dependence\n",
    "\n",
    "The model above and it's derivation focus on the exponential growth for a single population. In reality there is likely to be density dependence as the biomass of these populations grow. These effects may be temperature dependent along with the growth parameters discussed above and thus will affect the respiration in the system. The growth model presented above:\n",
    "\n",
    "\\begin{align}\n",
    "    \\frac{dC_i}{dt} = C_i (\\tilde{U}_i - \\tilde{R}_i)\n",
    "\\end{align}\n",
    "\n",
    "can be altered to include density dependence by adding either a phenomological intra-specific term or through explicit modeling of the shared resource pool. \n",
    "\n",
    "## Logistic equation\n",
    "\n",
    "In the phenomological framework we need only add a single term to the model above to get the desired behaviour:\n",
    "\n",
    "\\begin{align}\n",
    "    \\frac{dC_i}{dt} = C_i (\\tilde{U}_i - \\tilde{R}_i - \\alpha_{ii} C_i)\n",
    "\\end{align}\n",
    "\n",
    "where $\\alpha_{ii}$ is the intraspecifc interference and can be though of as the inverse of carrying capacity in classic logistic growth (i.e $\\alpha_{ii} = \\frac{1}{K}$)\n",
    "\n",
    "## Equilibrium\n",
    "\n",
    "We can solve the differential above at equilibrium by setting $\\frac{dC_i}{dt} = 0$ which gives:\n",
    "\n",
    "\\begin{align}\n",
    "    \\hat{C}_i =  \\frac{\\tilde{U}_i - \\tilde{R}_i}{\\alpha_{ii}}\n",
    "\\end{align}\n",
    "\n",
    "Including the temperature dependence of these rates/parameters gives:\n",
    "\n",
    "\\begin{align}\n",
    "    \\hat{C}_i &=  \\frac{\\tilde{U}_0 e^{-E_U (T_r - T_{ra})}}{\\alpha_{ii_0} e^{-E_{\\alpha_{ii}} (T_r - T_{ra})}} -\n",
    "                 \\frac{\\tilde{R}_0 e^{-E_R (T_r - T_{ra})}}{\\alpha_{ii_0} e^{-E_{\\alpha_{ii}} (T_r - T_{ra})}} \\\\\n",
    "                 \\\\\n",
    "              &= \\frac{\\tilde{U}_0}{\\alpha_{ii_0}} e^{E_{\\alpha_{ii}}-E_U (T_r - T_{ra})} - \n",
    "                  \\frac{\\tilde{R}_0}{\\alpha_{ii_0}} e^{E_{\\alpha_{ii}}-E_R (T_r - T_{ra})}\n",
    "\\end{align}\n",
    "\n",
    "So the temperature sensivity of equilibrial biomass is reduced by the sensitvity of intraspecific interference. Note that this form assumes a monotonically increasing strenghth of intraspecific interactions with temperature. In the opposite case where temperature reduces the strength of intraspecfic interactions (i.e. $E_{\\alpha_{ii}} < 0$) interactions will actually increase the strength of temperature dependence. Overall this means that the equilibrial biomass scales inversely with intraspecific temperature dependence:\n",
    "\\begin{align}\n",
    "  \\hat{C}_i \t\\propto  e^{E_{\\alpha_{ii}} (T_r - T_{ra})}\n",
    "\\end{align}\n",
    "\n",
    "It is also worth noting that as long as the value of $\\alpha_{ii}$ remains positive the equilibrial biomass will be above zero when $U-R > 0$"
   ]
  },
  {
   "cell_type": "markdown",
   "metadata": {},
   "source": [
    "We can also consider a saturating function of intraspecific interference which follows the form:\n",
    "    \\begin{align}\n",
    "        \\alpha_{ii}(T) = \\frac{a_{ii_{max}}}{1+\\alpha_{ii_0}e^{E_{\\alpha_{ii}} (T_r - T_{ra} )}}\n",
    "    \\end{align}\n",
    "    \n",
    "(note that the temperature dependence is inverted). Substituting this into the equation above we get:\n",
    "\n",
    "\\begin{align}\n",
    "    \\hat{C}_i &=  \\frac{(\\tilde{U}_0 e^{-E_U (T_r - T_{ra})} - \\tilde{R}_0 e^{-E_R (T_r - T_{ra})})(1 + \\alpha_{ii_0}e^{E_{\\alpha_{ii}} (T_r - T_{ra} )})}{\\alpha_{ii_{max}}}\n",
    "\\end{align}\n",
    "\n",
    "again this means that the equilibrial biomass is predicted to decrease with increasing temperature with the sensitvity of $\\alpha_{ii}$ affecting this relationship."
   ]
  },
  {
   "cell_type": "markdown",
   "metadata": {},
   "source": [
    "### Exact solution\n",
    "\n",
    "We can also obtain an exact solution to population biomass using seperation of variables:\n",
    "\n",
    "\\begin{align}\n",
    "C_i(t) = \\frac{(\\tilde{U}_i - \\tilde{R}_i) e^{(\\tilde{U}_i - \\tilde{R}_i) t}} {a_{ii} e^{(\\tilde{U}_i - \\tilde{R}_i)t} + \\frac{(\\tilde{U}_i - \\tilde{R}_i)}{C_{0_i}} - a_{ii}}\n",
    "\\end{align}\n",
    "\n",
    "which has the temperature dependence:\n",
    "\n",
    "\\begin{align}\n",
    "C_i(t,T) = \\frac{(\\tilde{U}_i(T) - \\tilde{R}_i(T)) e^{(\\tilde{U}_i(T) - \\tilde{R}_i(T)) t}} {a_{ii}(T) e^{(\\tilde{U}_i(T) - \\tilde{R}_i(T))t} + \\frac{(\\tilde{U}_i(T) - \\tilde{R}_i(T))}{C_{0_i}} - a_{ii}(T)}\n",
    "\\end{align}\n",
    "\n",
    "This is alot more complex than the previous equations and hard to interperete analyticly. Instead we can use numerical simulations to visualise the effects of temperature on the growth curves:"
   ]
  },
  {
   "cell_type": "code",
   "execution_count": 5,
   "metadata": {},
   "outputs": [
    {
     "data": {
      "text/plain": [
       "[<matplotlib.lines.Line2D at 0x11aa71940>,\n",
       " <matplotlib.lines.Line2D at 0x11aa71a90>,\n",
       " <matplotlib.lines.Line2D at 0x11aa71be0>,\n",
       " <matplotlib.lines.Line2D at 0x11aa71d30>,\n",
       " <matplotlib.lines.Line2D at 0x11aa71e80>,\n",
       " <matplotlib.lines.Line2D at 0x11aa71fd0>,\n",
       " <matplotlib.lines.Line2D at 0x11aa7a160>,\n",
       " <matplotlib.lines.Line2D at 0x11aa7a2b0>,\n",
       " <matplotlib.lines.Line2D at 0x11aa7a400>,\n",
       " <matplotlib.lines.Line2D at 0x11aa7a550>]"
      ]
     },
     "execution_count": 5,
     "metadata": {},
     "output_type": "execute_result"
    },
    {
     "data": {
      "image/png": "[encoded data removed]",
      "text/plain": [
       "<Figure size 432x288 with 1 Axes>"
      ]
     },
     "metadata": {},
     "output_type": "display_data"
    }
   ],
   "source": [
    "def growth_t(U0,EU,R0,ER,a0,Ea,C0,t,Tr,Tra):\n",
    "    U = (U0 * exp(-EU*(Tr-Tra))) ; R = (R0 * exp(-ER*(Tr-Tra))) ; a = (a0 * exp(-Ea*(Tr-Tra)))\n",
    "    top = (U - R) * exp( (U-R)*t )\n",
    "    bot = (a * exp( (U-R)*t )) + ((U-R)/(C0)) - a\n",
    "    return(top/bot)\n",
    "\n",
    "result = np.empty((50,10))\n",
    "Trange = 1/(k*np.linspace(275,295,num=10))\n",
    "\n",
    "for i in range(10):\n",
    "    result[:,i] = [growth_t(2.0,0.33,1.0,0.66,1.0,0.2,1.0,j,Trange[i],1/(k*285)) for j in np.linspace(0.0,10.0,num=50)]\n",
    "\n",
    "plt.plot(result)\n",
    "\n"
   ]
  },
  {
   "cell_type": "code",
   "execution_count": 6,
   "metadata": {},
   "outputs": [
    {
     "data": {
      "image/png": "[encoded data removed]",
      "text/latex": [
       "$$\\frac{\\left(- R + U\\right) e^{t \\left(- R + U\\right)}}{a_{ii} e^{t \\left(- R + U\\right)} - a_{ii} + \\frac{- R + U}{C_{0}}}$$"
      ],
      "text/plain": [
       "               t⋅(-R + U)     \n",
       "     (-R + U)⋅ℯ               \n",
       "──────────────────────────────\n",
       "     t⋅(-R + U)         -R + U\n",
       "aᵢᵢ⋅ℯ           - aᵢᵢ + ──────\n",
       "                          C₀  "
      ]
     },
     "execution_count": 6,
     "metadata": {},
     "output_type": "execute_result"
    }
   ],
   "source": [
    "U,R,t,a_ii,C_0 = var(\"U,R,t,a_ii,C_0\")\n",
    "\n",
    "C_top = (U-R)* (exp( (U-R) * t))\n",
    "C_bot = a_ii * (exp( (U-R) * t)) + ((U-R)/C_0) - a_ii\n",
    "C = C_top/C_bot\n",
    "C"
   ]
  },
  {
   "cell_type": "code",
   "execution_count": 7,
   "metadata": {},
   "outputs": [
    {
     "data": {
      "image/png": "[encoded data removed]",
      "text/latex": [
       "$$\\frac{\\left(- R_{0} e^{- E_{R} \\left(T_{r} - T_{ra}\\right)} + u_{0} e^{- E_{u} \\left(T_{r} - T_{ra}\\right)}\\right) e^{t \\left(- R_{0} e^{- E_{R} \\left(T_{r} - T_{ra}\\right)} + u_{0} e^{- E_{u} \\left(T_{r} - T_{ra}\\right)}\\right)}}{a_{ii_0} e^{- E_{a_{ii}} \\left(T_{r} - T_{ra}\\right)} e^{t \\left(- R_{0} e^{- E_{R} \\left(T_{r} - T_{ra}\\right)} + u_{0} e^{- E_{u} \\left(T_{r} - T_{ra}\\right)}\\right)} - a_{ii_0} e^{- E_{a_{ii}} \\left(T_{r} - T_{ra}\\right)} + \\frac{- R_{0} e^{- E_{R} \\left(T_{r} - T_{ra}\\right)} + u_{0} e^{- E_{u} \\left(T_{r} - T_{ra}\\right)}}{C_{0}}}$$"
      ],
      "text/plain": [
       "                                                                              \n",
       "                                  ⎛      -E_R⋅(Tᵣ - Tᵣₐ)       -Eᵤ⋅(Tᵣ - Tᵣₐ)⎞\n",
       "                                  ⎝- R₀⋅ℯ                + u₀⋅ℯ              ⎠\n",
       "──────────────────────────────────────────────────────────────────────────────\n",
       "                                    ⎛      -E_R⋅(Tᵣ - Tᵣₐ)       -Eᵤ⋅(Tᵣ - Tᵣₐ\n",
       "          -E_{a_{ii}}⋅(Tᵣ - Tᵣₐ)  t⋅⎝- R₀⋅ℯ                + u₀⋅ℯ             \n",
       "a_{ii_0}⋅ℯ                      ⋅ℯ                                            \n",
       "                                                                              \n",
       "\n",
       "    ⎛      -E_R⋅(Tᵣ - Tᵣₐ)       -Eᵤ⋅(Tᵣ - Tᵣₐ)⎞                              \n",
       "  t⋅⎝- R₀⋅ℯ                + u₀⋅ℯ              ⎠                              \n",
       "⋅ℯ                                                                            \n",
       "──────────────────────────────────────────────────────────────────────────────\n",
       ")⎞                                            -E_R⋅(Tᵣ - Tᵣₐ)       -Eᵤ⋅(Tᵣ - \n",
       " ⎠             -E_{a_{ii}}⋅(Tᵣ - Tᵣₐ)   - R₀⋅ℯ                + u₀⋅ℯ          \n",
       "   - a_{ii_0}⋅ℯ                       + ──────────────────────────────────────\n",
       "                                                            C₀                \n",
       "\n",
       "    \n",
       "    \n",
       "    \n",
       "────\n",
       "Tᵣₐ)\n",
       "    \n",
       "────\n",
       "    "
      ]
     },
     "execution_count": 7,
     "metadata": {},
     "output_type": "execute_result"
    }
   ],
   "source": [
    "a_ii_0,E_a = var(\"a_{ii_0},E_{a_{ii}}\")\n",
    "a_T = a_ii_0 * exp(-E_a * (T_r - T_ra))\n",
    "C_real = C.subs({U:gr,R:re,a_ii:a_T})\n",
    "\n",
    "C_real"
   ]
  },
  {
   "cell_type": "code",
   "execution_count": 8,
   "metadata": {},
   "outputs": [],
   "source": [
    "f_top = exp(log(C_top.subs({U:gr,R:re,a_ii:a_T})).series(T_r,T_ra,2).removeO())\n",
    "f_bot = exp(log(C_bot.subs({U:gr,R:re,a_ii:a_T})).series(T_r,T_ra,2).removeO())"
   ]
  },
  {
   "cell_type": "code",
   "execution_count": 9,
   "metadata": {},
   "outputs": [
    {
     "data": {
      "image/png": "[encoded data removed]",
      "text/latex": [
       "$$- \\frac{C_{0} \\left(R_{0} - u_{0}\\right) e^{- t \\left(R_{0} - u_{0}\\right) - \\frac{\\left(T_{r} - T_{ra}\\right) \\left(C_{0} a_{ii_0} \\left(- E_{R} R_{0} t + E_{u} t u_{0} + E_{a_{ii}}\\right) \\left(C_{0} a_{ii_0} e^{t \\left(- R_{0} + u_{0}\\right)} - C_{0} a_{ii_0} - R_{0} + u_{0}\\right) e^{t u_{0}} + \\left(C_{0} E_{a_{ii}} a_{ii_0} + E_{R} R_{0} - E_{u} u_{0}\\right) \\left(C_{0} a_{ii_0} e^{R_{0} t} - C_{0} a_{ii_0} e^{t u_{0}} + R_{0} e^{R_{0} t} - u_{0} e^{R_{0} t}\\right)\\right)}{\\left(C_{0} a_{ii_0} e^{R_{0} t} - C_{0} a_{ii_0} e^{t u_{0}} + R_{0} e^{R_{0} t} - u_{0} e^{R_{0} t}\\right) \\left(C_{0} a_{ii_0} e^{t \\left(- R_{0} + u_{0}\\right)} - C_{0} a_{ii_0} - R_{0} + u_{0}\\right)} + \\frac{\\left(T_{r} - T_{ra}\\right) \\left(E_{R} R_{0}^{2} t - E_{R} R_{0} t u_{0} - E_{R} R_{0} - E_{u} R_{0} t u_{0} + E_{u} t u_{0}^{2} + E_{u} u_{0}\\right)}{R_{0} - u_{0}}}}{C_{0} a_{ii_0} \\left(e^{t \\left(- R_{0} + u_{0}\\right)} - 1\\right) - R_{0} + u_{0}}$$"
      ],
      "text/plain": [
       "                                         ⎛                                    \n",
       "                              (Tᵣ - Tᵣₐ)⋅⎝C₀⋅a_{ii_0}⋅(-E_R⋅R₀⋅t + Eᵤ⋅t⋅u₀ + E\n",
       "               -t⋅(R₀ - u₀) - ────────────────────────────────────────────────\n",
       "                                                                              \n",
       "                                                                              \n",
       "-C₀⋅(R₀ - u₀)⋅ℯ                                                               \n",
       "──────────────────────────────────────────────────────────────────────────────\n",
       "                                                                              \n",
       "                                                                              \n",
       "\n",
       "           ⎛             t⋅(-R₀ + u₀)                        ⎞  t⋅u₀          \n",
       "_{a_{ii}})⋅⎝C₀⋅a_{ii_0}⋅ℯ             - C₀⋅a_{ii_0} - R₀ + u₀⎠⋅ℯ     + (C₀⋅E_{\n",
       "──────────────────────────────────────────────────────────────────────────────\n",
       "       ⎛             R₀⋅t                t⋅u₀       R₀⋅t       R₀⋅t⎞ ⎛        \n",
       "       ⎝C₀⋅a_{ii_0}⋅ℯ     - C₀⋅a_{ii_0}⋅ℯ     + R₀⋅ℯ     - u₀⋅ℯ    ⎠⋅⎝C₀⋅a_{ii\n",
       "                                                                              \n",
       "──────────────────────────────────────────────────────────────────────────────\n",
       "                                                                              \n",
       "                                                                    C₀⋅a_{ii_0\n",
       "\n",
       "                                   ⎛             R₀⋅t                t⋅u₀     \n",
       "a_{ii}}⋅a_{ii_0} + E_R⋅R₀ - Eᵤ⋅u₀)⋅⎝C₀⋅a_{ii_0}⋅ℯ     - C₀⋅a_{ii_0}⋅ℯ     + R₀\n",
       "──────────────────────────────────────────────────────────────────────────────\n",
       "     t⋅(-R₀ + u₀)                        ⎞                                    \n",
       "_0}⋅ℯ             - C₀⋅a_{ii_0} - R₀ + u₀⎠                                    \n",
       "                                                                              \n",
       "──────────────────────────────────────────────────────────────────────────────\n",
       "  ⎛ t⋅(-R₀ + u₀)    ⎞                                                         \n",
       "}⋅⎝ℯ             - 1⎠ - R₀ + u₀                                               \n",
       "\n",
       "  R₀⋅t       R₀⋅t⎞⎞              ⎛      2                                     \n",
       "⋅ℯ     - u₀⋅ℯ    ⎠⎠   (Tᵣ - Tᵣₐ)⋅⎝E_R⋅R₀ ⋅t - E_R⋅R₀⋅t⋅u₀ - E_R⋅R₀ - Eᵤ⋅R₀⋅t⋅u\n",
       "─────────────────── + ────────────────────────────────────────────────────────\n",
       "                                                         R₀ - u₀              \n",
       "                                                                              \n",
       "                                                                              \n",
       "──────────────────────────────────────────────────────────────────────────────\n",
       "                                                                              \n",
       "                                                                              \n",
       "\n",
       "           2        ⎞ \n",
       "₀ + Eᵤ⋅t⋅u₀  + Eᵤ⋅u₀⎠ \n",
       "───────────────────── \n",
       "                      \n",
       "                      \n",
       "                      \n",
       "──────────────────────\n",
       "                      \n",
       "                      "
      ]
     },
     "execution_count": 9,
     "metadata": {},
     "output_type": "execute_result"
    }
   ],
   "source": [
    "C_T_approx = simplify(f_top/f_bot)\n",
    "C_T_approx"
   ]
  },
  {
   "cell_type": "code",
   "execution_count": 39,
   "metadata": {},
   "outputs": [
    {
     "data": {
      "text/plain": [
       "<matplotlib.legend.Legend at 0x11618d390>"
      ]
     },
     "execution_count": 39,
     "metadata": {},
     "output_type": "execute_result"
    },
    {
     "data": {
      "image/png": "[encoded data removed]",
      "text/plain": [
       "<Figure size 432x360 with 1 Axes>"
      ]
     },
     "metadata": {},
     "output_type": "display_data"
    }
   ],
   "source": [
    "C_T_func = C_T.subs({R_0:1.0,E_R:0.65,u_0:5.0,E_u:0.35,a_ii_0:0.1,E_a:0.10,T_ra:1/(k*283.0),T_r:(1/(k*T)),t:1,C_0:1})\n",
    "C_T_app_func = C_T_approx.subs({R_0:1.0,E_R:0.65,u_0:5.0,E_u:0.35,a_ii_0:0.1,E_a:0.10,T_ra:1/(k*283.0),T_r:(1/(k*T)),t:1,C_0:1})\n",
    "\n",
    "C_app = lambdify(T,C_T_app_func)\n",
    "C_real = lambdify(T,C_T_func)\n",
    "\n",
    "fig = plt.figure(1,figsize=(6,5))\n",
    "\n",
    "ax = fig.add_subplot(111)\n",
    "ax.plot(T_vec,C_real(T_vec),label='Real')\n",
    "ax.plot(T_vec,C_app(T_vec),label='Approximation')\n",
    "ax.legend(loc='upper center')"
   ]
  },
  {
   "cell_type": "code",
   "execution_count": 77,
   "metadata": {},
   "outputs": [
    {
     "data": {
      "image/png": "[encoded data removed]",
      "text/latex": [
       "$$\\left [ - \\frac{\\log{\\left (\\frac{E_{u} u_{0}}{E_{R} R_{0}} \\right )}}{E_{R} - E_{u}}\\right ]$$"
      ],
      "text/plain": [
       "⎡    ⎛Eᵤ⋅u₀ ⎞ ⎤\n",
       "⎢-log⎜──────⎟ ⎥\n",
       "⎢    ⎝E_R⋅R₀⎠ ⎥\n",
       "⎢─────────────⎥\n",
       "⎣   E_R - Eᵤ  ⎦"
      ]
     },
     "execution_count": 77,
     "metadata": {},
     "output_type": "execute_result"
    }
   ],
   "source": [
    "gr = u_0 * exp(-E_u * (T_r))\n",
    "re = R_0 * exp(-E_R * (T_r))\n",
    "\n",
    "solve(diff(gr-re,T_r),T_r)"
   ]
  },
  {
   "cell_type": "markdown",
   "metadata": {
    "nbpresent": {
     "id": "0b7933a5-a539-411b-815b-aaa228d38052"
    }
   },
   "source": [
    "# Multispecies model\n",
    "\n",
    "In this section I will show how we can derive the temperature dependence of total system flux in multispecies communities. I first show how this is possible in two species communities without interactions before generalising to the n-species case and communities where interactions occur. "
   ]
  },
  {
   "cell_type": "markdown",
   "metadata": {
    "nbpresent": {
     "id": "07ae6453-a790-46a5-bc84-543daa4e2cb1"
    }
   },
   "source": [
    "## Non-interacting communities\n",
    "\n",
    "In a system with two species and no interactions the total flux in the system can simply be described as the sum of the species level fluxes:\n",
    "\n",
    "\\begin{align}\n",
    "        R_{tot} &= R_1 + R_2 \\\\\n",
    "                &= R_{0_1} e^{E_{R_1}(T_r - T_{ra})} + R_{0_2} e^{E_{R_2}(T_r - T_{ra})} \n",
    "\\end{align}\n",
    "\n",
    "with the definitions detailed above. \n",
    "\n",
    "We can use the taylor expansion trick to convert this into a single TPC:"
   ]
  },
  {
   "cell_type": "code",
   "execution_count": 10,
   "metadata": {
    "nbpresent": {
     "id": "357e9dbf-794e-42fc-8842-a0dc43a6287e"
    }
   },
   "outputs": [
    {
     "data": {
      "image/png": "[encoded data removed]",
      "text/latex": [
       "$$\\log{\\left (R_{0_1} e^{- E_{R_1} \\left(T_{r} - T_{ra}\\right)} + R_{0_2} e^{- E_{R_2} \\left(T_{r} - T_{ra}\\right)} \\right )}$$"
      ],
      "text/plain": [
       "   ⎛         -E_{R_1}⋅(Tᵣ - Tᵣₐ)            -E_{R_2}⋅(Tᵣ - Tᵣₐ)⎞\n",
       "log⎝R_{0_1}⋅ℯ                    + R_{0_2}⋅ℯ                   ⎠"
      ]
     },
     "execution_count": 10,
     "metadata": {},
     "output_type": "execute_result"
    }
   ],
   "source": [
    "C_01,C_02,R_01,R_02 = var(\"C_{0_1},C_{0_2},R_{0_1},R_{0_2}\")\n",
    "T_r,T_ra = var(\"T_r,T_ra\")\n",
    "\n",
    "u_01,u_02 = var(\"\\mu_{0_1},\\mu_{0_2}\")\n",
    "E_R1, E_R2, E_u1, E_u2 = var(\"E_{R_1}, E_{R_2}, E_{u_1}, E_{u_2}\")\n",
    "\n",
    "g1,g2 = var(\"\\gamma_1,\\gamma_2\")\n",
    "\n",
    "E_R_1 , E_R_2 = var(\"E_{R_1},E_{R_2}\")\n",
    "\n",
    "R1 = R_01 * exp(-E_R_1*(T_r-T_ra))\n",
    "R2 = R_02 * exp(-E_R_2*(T_r-T_ra))\n",
    "\n",
    "\n",
    "R_tot = R1 + R2\n",
    "log(R_tot)"
   ]
  },
  {
   "cell_type": "code",
   "execution_count": 11,
   "metadata": {
    "nbpresent": {
     "id": "9bab8d95-5a83-466b-921b-41662e0dbf33"
    }
   },
   "outputs": [
    {
     "data": {
      "image/png": "[encoded data removed]",
      "text/latex": [
       "$$\\left(R_{0_1} + R_{0_2}\\right) e^{\\left(T_{r} - T_{ra}\\right) \\left(- \\frac{E_{R_1} R_{0_1}}{R_{0_1} + R_{0_2}} - \\frac{E_{R_2} R_{0_2}}{R_{0_1} + R_{0_2}}\\right)}$$"
      ],
      "text/plain": [
       "                                ⎛   E_{R_1}⋅R_{0_1}     E_{R_2}⋅R_{0_2} ⎞\n",
       "                     (Tᵣ - Tᵣₐ)⋅⎜- ───────────────── - ─────────────────⎟\n",
       "                                ⎝  R_{0_1} + R_{0_2}   R_{0_1} + R_{0_2}⎠\n",
       "(R_{0_1} + R_{0_2})⋅ℯ                                                    "
      ]
     },
     "execution_count": 11,
     "metadata": {},
     "output_type": "execute_result"
    }
   ],
   "source": [
    "exp((log(R_tot).series(T_r,T_ra,2).removeO()))"
   ]
  },
  {
   "cell_type": "markdown",
   "metadata": {
    "nbpresent": {
     "id": "f571d9d1-0fa1-4bb3-aeb0-89f777ee2653"
    }
   },
   "source": [
    "This can simplified to the N-species case giving:\n",
    "\n",
    "\\begin{align}\n",
    "    E_{R_{tot}} \\approx \\frac{\\sum_{i=0}^{n} E_{R_i} R_{0_{i}} }{\\sum_{i=0}^{n} R_{0_{i}}}\n",
    "\\end{align}\n",
    "\n",
    "Which means that the temperature sensitvity of respiration in a non-interacting community is simply the weighted average of the individual populations. It is worth noting that all of these parameters have a time dependence, increasing exponentially as $t$ increases. "
   ]
  },
  {
   "cell_type": "markdown",
   "metadata": {
    "nbpresent": {
     "id": "3317e705-67f1-44e5-bb24-e1cbdc5017f0"
    }
   },
   "source": [
    "## Interacting communities"
   ]
  },
  {
   "cell_type": "markdown",
   "metadata": {
    "nbpresent": {
     "id": "1319dea1-26d4-406d-be28-cf4b73049016"
    }
   },
   "source": [
    "The key aim of this study is to demonstrate how ecological interactions alter flux at the ecosystem level by altering biomass dynamics in the system. In the framework shown here this can be thought of in terms of the general growth model:\n",
    "\n",
    "\\begin{align}\n",
    "    \\frac{1}{C_i}\\frac{dC_i}{dt} = \\tilde{U}_i - \\tilde{R}_i\n",
    "\\end{align}\n",
    "\n",
    "Though the mechanism of interaction is not clear from the experiments we can interperate the change in observed growth rate as an alteration of the rate of carbon uptake. This is much more likely to occur than a change in respiration which is assumed to mostly be a cost of maintence or growth. This interaction can be expressed in the model above as:\n",
    "\n",
    "\\begin{align}\n",
    "    \\frac{1}{C_i}\\frac{dC_i}{dt} = \\tilde{U}_i(C_i,C_2,\\dots,C_n) - \\tilde{R}_i\n",
    "\\end{align}\n",
    "\n",
    "where $U_i$ is now a function of the biomass of other species in the system. We probably should include a change in the respiratory loss of carbon here (as changing uptake alters the amount of growth respiration) but for now we just alter the uptake rate. \n",
    "\n",
    "We assume that the effect of each species on growth rate can be represented as a simple additive effect such that $U_i = U_{i_0} + \\sum^{n}_{j=0} C_j \\alpha_{ij}$ where $\\alpha_{ij}$ is the effect of species $j$ on the uptake rate of species $i$. In the two species case this can be written in full as:\n",
    "\n",
    "\n",
    "\\begin{align}\n",
    "    \\frac{1}{C_1}\\frac{dC_1}{dt} &= \\tilde{U}_1 - \\tilde{R}_1 = \\tilde{U}_{0_1} + C_2 \\alpha_{12} - \\tilde{R}_1\\\\\n",
    "    \\frac{1}{C_2}\\frac{dC_2}{dt} &= \\tilde{U}_2 - \\tilde{R}_2 = \\tilde{U}_{0_2} + C_1 \\alpha_{21} - \\tilde{R}_2\n",
    "\\end{align}\n",
    "\n",
    "where the flux in the system is the same as in the non-interacting system above:\n",
    "\n",
    "\\begin{align}\n",
    "R_{tot} = C_1 \\tilde{R}_1 + C_2 \\tilde{R}_2 \\\\\n",
    "\\end{align}\n",
    "\n",
    "Though we have not derived an analytical solution of the temperature dependence of flux in this system yet the results of some simulations offer insight into the effects of these interactions on system flux. "
   ]
  },
  {
   "cell_type": "markdown",
   "metadata": {
    "nbpresent": {
     "id": "1076845a-498b-46e5-80ec-f6de6534245f"
    }
   },
   "source": [
    "### Simulations\n",
    "\n",
    "For the simulations I used measurements of the temperature dependence of growth and respiration from a number of bacterial species. I then calculated the rate of uptake ($r = U - R \\to U = r + R$) and used this to parameterise the model above. I simulated the biomass dynamics of pairs of species over time at different levels of interaction (from facilitation to competition). As expected moving from facilitation to competitive interactions results in a redcution of growth rate and thus a reduction in biomass at any given timepoint:\n",
    "\n",
    "<img src=\"figures/simulations/single_pair.png\">\n",
    "\n"
   ]
  },
  {
   "cell_type": "markdown",
   "metadata": {
    "nbpresent": {
     "id": "4f1bb159-9da0-481d-a014-423c5a8e0406"
    }
   },
   "source": [
    "From these same simulations we can see how respiratory flux changes slower over time in more competitive communities:\n",
    "<img src=\"figures/simulations/single_pair_time.png\" width=\"400px\">"
   ]
  },
  {
   "cell_type": "markdown",
   "metadata": {
    "nbpresent": {
     "id": "5689aba1-7b1d-4c52-be7a-d906837d589c"
    }
   },
   "source": [
    "And when simulated over multiple temperatures, how the response of respiration to temperature is altered as interactions change:\n",
    "    <img src=\"figures/simulations/single_pair_temp.png\" width = \"400px\">"
   ]
  },
  {
   "cell_type": "markdown",
   "metadata": {
    "nbpresent": {
     "id": "dd9a5b8d-b0b1-4298-86b4-83879e2f6c42"
    }
   },
   "source": [
    "I then chose 100 random pairs of species from the dataset and simulated their biomass growth across a range of temperatures and interaction strengths. The figure below shows the results of these simulations with each line representing a single species pair and the relationship between it's temperature response (a fitted $E_R$ value) and the interaction parameter (i.e. moving from competition when $\\alpha < 0$ to facilitation when $\\alpha > 0$).\n",
    "<img src=\"figures/simulations/multi_pair_interaction.png\">"
   ]
  },
  {
   "cell_type": "markdown",
   "metadata": {
    "nbpresent": {
     "id": "fdabc8b8-e834-470a-888f-989c87f4818e"
    }
   },
   "source": [
    "The figure on the left shows the actual change in $E$ values over the range of interaction strengths whilst the figure on the right shows the change in $E$ values relative to the point where $\\alpha = 0$. As we can see the general trend is for the temperature sensitvity of respiratory flux to increase as interactions move from competition to facilitation. This trend is dependent on the other factors affecting growth and respiration meaning that the strength of the relationship varies (as seen in the different slopes between species). "
   ]
  },
  {
   "cell_type": "markdown",
   "metadata": {},
   "source": [
    "### Mean field approximation\n",
    "\n",
    "In the section above it is clear that the complexity of working with multiple interacting species makes analytic insight difficult. Instead of trying to calculate the exact solution (which is not possible) i will turn my efforts to a technique named the mean-field approximation. This method aims to characterise the average behviour of any species in the system by approximating the interactions between species as an average effect. I start with the basic Lotka–Volterra formulation of my growth model:\n",
    "\n",
    "\\begin{align}\n",
    "   \\frac{1}{C_i}\\frac{dC_i}{dt} = U_i - R_i - \\alpha_{ii}C_i - \\sum_{i \\neq j}^n\\alpha_{ij}C_j\n",
    "\\end{align}\n",
    "\n",
    "In the mean field approximation we replace the indivdual parameters of the growth model with random variables. We also assume that the individual effects of any single species on species $i$ are negligble such that we can approximate the interspecific interactions as: $\\sum_{i \\neq j}^n\\alpha_{ij}C_j \\approx \\psi_i \\bar{C}$ where $\\psi_i = \\sum_{i \\neq j}^n\\alpha_{ij}$. For now I also assume that intraspecific interactions are equal to 1. Thus we can write the meanfield approximation as:\n",
    "\n",
    "\\begin{align}\n",
    "   \\frac{1}{C}\\frac{dC}{dt} = U - R - C - \\psi \\bar{C}\n",
    "\\end{align}\n",
    "\n",
    "This has the equilibrial solution (or target density i.e. wilson 2003.) of:\n",
    "\n",
    "\\begin{align}\n",
    "   C = {U - R - \\psi \\bar{C}}\n",
    "\\end{align}\n",
    "\n",
    "using simple probabilty we can show that the mean and varience of $C$ are:\n",
    "\n",
    "\\begin{align}\n",
    "   \\mu_C &= \\frac{\\mu_U - \\mu_R}{\\mu_{\\psi} + 1} \\\\ \n",
    "   \\sigma_C^2 &= \\sigma_U^2 + \\sigma_R^2 + \\sigma_{\\psi}^2 \\mu_C^2 + 2(\\text{cov}(U,R) + \\text{cov}(U,\\psi)\\mu_C^2 + \\text{cov}(\\psi,R)\\mu_C^2)\n",
    "\\end{align}\n",
    "\n",
    "and if we assume independence of uptake, respiration and summed interaction strength:\n",
    "\n",
    "\\begin{align}\n",
    "   \\sigma_C^2 &= \\sigma_U^2 + \\sigma_R^2 + \\sigma_{\\psi}^2 \\mu_C^2\n",
    "\\end{align}"
   ]
  },
  {
   "cell_type": "markdown",
   "metadata": {},
   "source": [
    "#### Deriving distributions of Arrhenius parameters \n",
    "Though we can use direct measures for the average and varience of each rates distribution in the equations above we can also derive them and their temperature dependence using the Arrhenius equation. If we have a community with temperature sensitvites distributed according the normal ditribution (i.e. $E$ is a random variable with $E \\sim N(\\mu_{E},\\sigma_E)$) then the rates themseves become a new random variable described by:\n",
    "\\begin{align}\n",
    "    Y = B_0 e^{-E(T_r - T_{ra})}\n",
    "\\end{align}\n",
    "\n",
    "if we substitute $T_{diff} = T_r - T_{ra}$ and take the log of this new variable then we get:\n",
    "\\begin{align}\n",
    "    log(Y) = log(B_0) -E(T_{diff})\n",
    "\\end{align}\n",
    "\n",
    "which is normally distributed with $\\mu = log(B_0) -\\mu_E (T_{diff})$ and $\\sigma^2 = \\sigma_E^2 T_{diff}^2$. Thus the new variable $Y$ follows a lognormal distribution, described by the parameters above. The actual mean and varience of the lognormal distribution (which will written as $m$ and $v$ to avoid confution with the mean and varience of the normal distribution in the log scale) are given by: \n",
    "\\begin{align}\n",
    "    m = e^{\\mu + \\frac{\\sigma^2}{2}} \\ \\ \\ \\ \\ v = e^{2\\mu + \\sigma^2} (e^{\\sigma^2} - 1)\n",
    "\\end{align}\n",
    "\n",
    "which when we substitute the values in the log-scale (with their temperature dependence) the mean and varience of the rate become:\n",
    "\\begin{align}\n",
    "    m &= B_0 e^{\\frac{T_{diff}(T_{diff} \\sigma_{E}^2 - 2\\mu_E)}{2}} \\\\ \n",
    "    v &= B_0^2 \\left(e^{T_{diff}^2 \\sigma_{E}^2}-1 \\right)e^{T_{diff}(T_{diff}\\sigma_E^2 - 2\\mu_E)}\n",
    "\\end{align}\n",
    "\n",
    "We can also work out the skew and kurtosis:\n",
    "\\begin{align}\n",
    "    \\gamma &= (e^{T_{diff}^2 \\sigma_{E}^2} + 2)\\sqrt{e^{T_{diff}^2 \\sigma_{E}^2} - 1}  \\\\\n",
    "    \\delta &= e^{4 T_{diff}^2 \\sigma_{E}^2} + 2 e^{3 T_{diff}^2 \\sigma_{E}^2} + 3^{2 T_{diff}^2 \\sigma_{E}^2} - 6\n",
    "\\end{align}"
   ]
  },
  {
   "cell_type": "markdown",
   "metadata": {},
   "source": [
    "#### The Meanfeild and Sum of Log-normals\n",
    "\n",
    "As stated previously our equilibrial biomass is given by:\n",
    "\n",
    "\\begin{align}\n",
    "   C = {U - R - \\psi \\bar{C}}\n",
    "\\end{align}\n",
    "\n",
    "As each of these parameters follows a lognormal distribution we can approxmiate their sum as a seperate new log-normal distribtion. One of the most common analytical approximations used for this is the method detailed by [Fenton (1960)](https://ieeexplore.ieee.org/document/1097606) who use the first two moments of the sum to approximate the log-normal shape. Given that the mean and varience of a log-normal distribution are given by:\n",
    "\\begin{align}\n",
    "    m = e^{\\mu + \\frac{\\sigma^2}{2}} \\ \\ \\ \\ \\ v = e^{2\\mu + \\sigma^2} (e^{\\sigma^2} - 1)\n",
    "\\end{align}\n",
    " we can rearange to find the mean and varience of the underlying distribution:\n",
    "\\begin{align}\n",
    "    \\mu = log \\left(\\frac{m}{\\sqrt{1+\\frac{v}{m^2}}} \\right) \\ \\ \\ \\ \\ \\sigma^2 = log \\left( 1+\\frac{v}{m^2} \\right) \n",
    "\\end{align}\n",
    "which substituting in the mean and varience of $C$ gives:\n",
    "\\begin{align}\n",
    "\\mu &=  \\log{\\left (\\frac{- \\mu_R + \\mu_U}{\\sqrt{\\frac{\\sigma_P^{2} \\left(\\mu_R - \\mu_U\\right)^{2} + \\left(\\mu_P + 1\\right)^{2} \\left(\\sigma_R^{2} + \\sigma_U^{2}\\right) + \\left(\\mu_R - \\mu_U\\right)^{2}}{\\left(\\mu_R - \\mu_U\\right)^{2}}} \\left(\\mu_P + 1\\right)} \\right )} \\\\\n",
    "\\sigma^2 &= \\log{\\left (\\frac{\\sigma_P^{2} \\left(\\mu_R - \\mu_U\\right)^{2} + \\left(\\mu_P + 1\\right)^{2} \\left(\\sigma_R^{2} + \\sigma_U^{2}\\right) + \\left(\\mu_R - \\mu_U\\right)^{2}}{\\left(\\mu_R - \\mu_U\\right)^{2}} \\right )}\n",
    "\\end{align}"
   ]
  },
  {
   "cell_type": "markdown",
   "metadata": {},
   "source": [
    "##### Total respiratory flux\n",
    "\n",
    "Having derived parameterisations for the distribution of equilibrial biomass density we can work out the distribution of equilibrial respiratory flux by looking at the distrbution created by $R_{tot} = C R$. As both $C$ and $R$ follow a lognormal distribution their product follows one two with:\n",
    "\\begin{align}\n",
    "    \\mu_{R_{tot}} = \\mu_C + \\mu_R\n",
    "\\end{align}"
   ]
  },
  {
   "cell_type": "code",
   "execution_count": 24,
   "metadata": {},
   "outputs": [
    {
     "data": {
      "image/png": "[encoded data removed]",
      "text/latex": [
       "$$- T_{diff} u_{E_P} + \\log{\\left (P_{0} \\right )}$$"
      ],
      "text/plain": [
       "-T_{diff}⋅u_{E_P} + log(P₀)"
      ]
     },
     "execution_count": 24,
     "metadata": {},
     "output_type": "execute_result"
    }
   ],
   "source": [
    "U0,R0,P0 = var(\"U_0,R_0,P_0\")\n",
    "uEU,uER,uEP = var(\"u_{E_U},u_{E_R},u_{E_P}\")\n",
    "sEU,sER,sEP = var(\"\\sigma_{E_U},\\sigma_{E_R},\\sigma_{E_P}\") \n",
    "Tdiff = var(\"T_{diff}\")\n",
    "\n",
    "uU = log(U0) - uEU*Tdiff\n",
    "sU = sEU**2 * Tdiff**2\n",
    "\n",
    "uR = log(R0) - uER*Tdiff\n",
    "sR = sER**2 * Tdiff**2\n",
    "\n",
    "uP = log(P0) - uEP*Tdiff\n",
    "sP = sEP**2 * Tdiff**2\n",
    "\n",
    "uP"
   ]
  },
  {
   "cell_type": "code",
   "execution_count": 13,
   "metadata": {},
   "outputs": [
    {
     "data": {
      "image/png": "[encoded data removed]",
      "text/latex": [
       "$$U_{0}^{2} \\left(e^{T_{diff}^{2} \\sigma_{E_U}^{2}} - 1\\right) e^{T_{diff} \\left(T_{diff} \\sigma_{E_U}^{2} - 2 u_{E_U}\\right)}$$"
      ],
      "text/plain": [
       "    ⎛         2             2    ⎞           ⎛                     2          \n",
       "  2 ⎜ T_{diff} ⋅\\sigma_{E_U}     ⎟  T_{diff}⋅⎝T_{diff}⋅\\sigma_{E_U}  - 2⋅u_{E_\n",
       "U₀ ⋅⎝ℯ                        - 1⎠⋅ℯ                                          \n",
       "\n",
       "  ⎞\n",
       "U}⎠\n",
       "   "
      ]
     },
     "execution_count": 13,
     "metadata": {},
     "output_type": "execute_result"
    }
   ],
   "source": [
    "simplify( (exp(sU)-1) * exp(2*uU + sU))"
   ]
  },
  {
   "cell_type": "code",
   "execution_count": 14,
   "metadata": {},
   "outputs": [
    {
     "data": {
      "image/png": "[encoded data removed]",
      "text/plain": [
       "<Figure size 432x288 with 1 Axes>"
      ]
     },
     "metadata": {},
     "output_type": "display_data"
    },
    {
     "data": {
      "text/plain": [
       "<sympy.plotting.plot.Plot at 0x11ae7f518>"
      ]
     },
     "execution_count": 14,
     "metadata": {},
     "output_type": "execute_result"
    }
   ],
   "source": [
    "from sympy.plotting import plot3d\n",
    "plot3d( ((exp(sU) + 2)*  sqrt(exp(sU)-1) ),(Tdiff,-2.5,2.5),(sEU,0,0.5))"
   ]
  },
  {
   "cell_type": "code",
   "execution_count": 89,
   "metadata": {},
   "outputs": [
    {
     "data": {
      "image/png": "[encoded data removed]",
      "text/latex": [
       "$$e^{4 T_{diff}^{2} \\sigma_{E_U}^{2}} + 2 e^{3 T_{diff}^{2} \\sigma_{E_U}^{2}} + 3 e^{2 T_{diff}^{2} \\sigma_{E_U}^{2}} - 6$$"
      ],
      "text/plain": [
       "           2             2                2             2                2    \n",
       " 4⋅T_{diff} ⋅\\sigma_{E_U}       3⋅T_{diff} ⋅\\sigma_{E_U}       2⋅T_{diff} ⋅\\si\n",
       "ℯ                          + 2⋅ℯ                          + 3⋅ℯ               \n",
       "\n",
       "         2    \n",
       "gma_{E_U}     \n",
       "           - 6"
      ]
     },
     "execution_count": 89,
     "metadata": {},
     "output_type": "execute_result"
    }
   ],
   "source": [
    "(exp(4*sU) + 2*exp(3*sU) + 3*exp(2*sU) - 6)"
   ]
  },
  {
   "cell_type": "code",
   "execution_count": 15,
   "metadata": {},
   "outputs": [
    {
     "data": {
      "image/png": "[encoded data removed]",
      "text/latex": [
       "$$\\left ( \\frac{- \\mu_R + \\mu_U}{\\mu_P + 1}, \\quad \\frac{\\sigma_P^{2} \\left(- \\mu_R + \\mu_U\\right)^{2}}{\\left(\\mu_P + 1\\right)^{2}} + \\sigma_R^{2} + \\sigma_U^{2}\\right )$$"
      ],
      "text/plain": [
       "⎛                        2                 2                        ⎞\n",
       "⎜-\\mu_R + \\mu_U  \\sigma_P ⋅(-\\mu_R + \\mu_U)            2           2⎟\n",
       "⎜──────────────, ─────────────────────────── + \\sigma_R  + \\sigma_U ⎟\n",
       "⎜  \\mu_P + 1                        2                               ⎟\n",
       "⎝                        (\\mu_P + 1)                                ⎠"
      ]
     },
     "execution_count": 15,
     "metadata": {},
     "output_type": "execute_result"
    }
   ],
   "source": [
    "uU,uR,uP = var(\"\\mu_U,\\mu_R,\\mu_P\")\n",
    "sU,sR,sP = var(\"\\sigma_U,\\sigma_R,\\sigma_P\")\n",
    "m,v = var(\"m,v\")\n",
    "\n",
    "uC = (uU-uR) / (uP + 1)\n",
    "sC = sU**2 + sR**2 + sP**2*uC**2\n",
    "\n",
    "uC , sC"
   ]
  },
  {
   "cell_type": "code",
   "execution_count": 16,
   "metadata": {},
   "outputs": [
    {
     "data": {
      "image/png": "[encoded data removed]",
      "text/latex": [
       "$$\\left ( \\log{\\left (\\frac{- \\mu_R + \\mu_U}{\\sqrt{\\frac{\\sigma_P^{2} \\left(\\mu_R - \\mu_U\\right)^{2} + \\left(\\mu_P + 1\\right)^{2} \\left(\\sigma_R^{2} + \\sigma_U^{2}\\right) + \\left(\\mu_R - \\mu_U\\right)^{2}}{\\left(\\mu_R - \\mu_U\\right)^{2}}} \\left(\\mu_P + 1\\right)} \\right )}, \\quad \\log{\\left (\\frac{\\sigma_P^{2} \\left(\\mu_R - \\mu_U\\right)^{2} + \\left(\\mu_P + 1\\right)^{2} \\left(\\sigma_R^{2} + \\sigma_U^{2}\\right) + \\left(\\mu_R - \\mu_U\\right)^{2}}{\\left(\\mu_R - \\mu_U\\right)^{2}} \\right )}\\right )$$"
      ],
      "text/plain": [
       "⎛                                                                             \n",
       "⎜   ⎛                                             -\\mu_R + \\mu_U              \n",
       "⎜log⎜─────────────────────────────────────────────────────────────────────────\n",
       "⎜   ⎜      ___________________________________________________________________\n",
       "⎜   ⎜     ╱         2                2              2 ⎛        2           2⎞ \n",
       "⎜   ⎜    ╱  \\sigma_P ⋅(\\mu_R - \\mu_U)  + (\\mu_P + 1) ⋅⎝\\sigma_R  + \\sigma_U ⎠ \n",
       "⎜   ⎜   ╱   ──────────────────────────────────────────────────────────────────\n",
       "⎜   ⎜  ╱                                                     2                \n",
       "⎝   ⎝╲╱                                       (\\mu_R - \\mu_U)                 \n",
       "\n",
       "                                     ⎛        2                2              \n",
       "                               ⎞     ⎜\\sigma_P ⋅(\\mu_R - \\mu_U)  + (\\mu_P + 1)\n",
       "───────────────────────────────⎟, log⎜────────────────────────────────────────\n",
       "___________________            ⎟     ⎜                                        \n",
       "                 2             ⎟     ⎝                                  (\\mu_R\n",
       "+ (\\mu_R - \\mu_U)              ⎟                                              \n",
       "────────────────── ⋅(\\mu_P + 1)⎟                                              \n",
       "                               ⎟                                              \n",
       "                               ⎠                                              \n",
       "\n",
       "2 ⎛        2           2⎞                  2⎞⎞\n",
       " ⋅⎝\\sigma_R  + \\sigma_U ⎠ + (\\mu_R - \\mu_U) ⎟⎟\n",
       "────────────────────────────────────────────⎟⎟\n",
       "         2                                  ⎟⎟\n",
       " - \\mu_U)                                   ⎠⎟\n",
       "                                             ⎟\n",
       "                                             ⎟\n",
       "                                             ⎟\n",
       "                                             ⎠"
      ]
     },
     "execution_count": 16,
     "metadata": {},
     "output_type": "execute_result"
    }
   ],
   "source": [
    "mC = simplify(log(uC / sqrt(1 + (sC/uC**2)))) \n",
    "vC = simplify(log(1 + (sC/uC**2)))\n",
    "\n",
    "mC,vC"
   ]
  },
  {
   "cell_type": "code",
   "execution_count": 17,
   "metadata": {},
   "outputs": [
    {
     "data": {
      "image/png": "[encoded data removed]",
      "text/latex": [
       "$$\\log{\\left (\\frac{\\delta\\mu}{\\sqrt{\\frac{\\delta\\mu^{2} \\sigma_P^{2} + \\delta\\mu^{2} + \\left(\\delta\\mu + 1\\right)^{2} \\left(\\sigma_R^{2} + \\sigma_U^{2}\\right)}{\\delta\\mu^{2}}} \\left(\\delta\\mu + 1\\right)} \\right )}$$"
      ],
      "text/plain": [
       "   ⎛                                             \\delta\\mu                    \n",
       "log⎜──────────────────────────────────────────────────────────────────────────\n",
       "   ⎜      ____________________________________________________________________\n",
       "   ⎜     ╱          2         2            2                  2 ⎛        2    \n",
       "   ⎜    ╱  \\delta\\mu ⋅\\sigma_P  + \\delta\\mu  + (\\delta\\mu + 1) ⋅⎝\\sigma_R  + \\\n",
       "   ⎜   ╱   ───────────────────────────────────────────────────────────────────\n",
       "   ⎜  ╱                                              2                        \n",
       "   ⎝╲╱                                      \\delta\\mu                         \n",
       "\n",
       "                          ⎞\n",
       "──────────────────────────⎟\n",
       "__________                ⎟\n",
       "       2⎞                 ⎟\n",
       "sigma_U ⎠                 ⎟\n",
       "───────── ⋅(\\delta\\mu + 1)⎟\n",
       "                          ⎟\n",
       "                          ⎠"
      ]
     },
     "execution_count": 17,
     "metadata": {},
     "output_type": "execute_result"
    }
   ],
   "source": [
    "dU = var(\"\\delta\\mu\")\n",
    "simplify(mC.subs({uU-uR:dU,uP:dU}))"
   ]
  },
  {
   "cell_type": "code",
   "execution_count": 21,
   "metadata": {},
   "outputs": [
    {
     "data": {
      "image/png": "[encoded data removed]",
      "text/plain": [
       "<Figure size 432x288 with 1 Axes>"
      ]
     },
     "metadata": {},
     "output_type": "display_data"
    },
    {
     "data": {
      "text/plain": [
       "<sympy.plotting.plot.Plot at 0x11aab4588>"
      ]
     },
     "execution_count": 21,
     "metadata": {},
     "output_type": "execute_result"
    }
   ],
   "source": [
    "mC_subs = mC.subs({uU:log(U0)-uEU*Tdiff,uR:log(R0)-uER*Tdiff,uP:log(P0)-uEP*Tdiff,\n",
    "                   sU:Tdiff**2 * sEU**2,sR:Tdiff**2 * sER**2,sP:Tdiff**2 * sEP**2})\n",
    "\n",
    "mC_subs = simplify(mC_subs).subs({U0:300.0,R0:150.0,P0:1.0,uEU:0.32,uER:0.65,uEP:0.0,sEU:0.1,sER:0.1,sEP:0.1})\n",
    "# simplify(mC_subs)\n",
    "plot(mC_subs,(Tdiff,-2.5,2.5))"
   ]
  },
  {
   "cell_type": "code",
   "execution_count": 112,
   "metadata": {},
   "outputs": [
    {
     "data": {
      "image/png": "[encoded data removed]",
      "text/plain": [
       "<Figure size 432x288 with 1 Axes>"
      ]
     },
     "metadata": {},
     "output_type": "display_data"
    },
    {
     "data": {
      "text/plain": [
       "<sympy.plotting.plot.Plot at 0x11e6155c0>"
      ]
     },
     "execution_count": 112,
     "metadata": {},
     "output_type": "execute_result"
    }
   ],
   "source": [
    "sC_subs = sC.subs({uU:log(U0)-uEU*Tdiff,uR:log(R0)-uER*Tdiff,uP:log(P0)-uEP*Tdiff,\n",
    "                   sU:Tdiff**2 * sEU**2,sR:Tdiff**2 * sER**2,sP:Tdiff**2 * sEP**2})\n",
    "sC_subs = simplify(sC_subs).subs({U0:16.0,R0:2.5,P0:1.0,uEU:0.32,uER:0.65,uEP:0.0,sEU:0.1,sER:0.1,sEP:0.1})\n",
    "# simplify(sC_subs) \n",
    "plot(mC_subs,(Tdiff,-20.5,20.5))"
   ]
  },
  {
   "cell_type": "code",
   "execution_count": 62,
   "metadata": {},
   "outputs": [
    {
     "data": {
      "image/png": "[encoded data removed]",
      "text/plain": [
       "<Figure size 432x288 with 1 Axes>"
      ]
     },
     "metadata": {},
     "output_type": "display_data"
    },
    {
     "data": {
      "text/plain": [
       "<sympy.plotting.plot.Plot at 0x11be6c748>"
      ]
     },
     "execution_count": 62,
     "metadata": {},
     "output_type": "execute_result"
    }
   ],
   "source": [
    "uU = log(U0) - uEU*Tdiff\n",
    "sU = Tdiff**2 * sEU**2\n",
    "\n",
    "uU_temp = exp(uU+(sU/2))\n",
    "sU_temp = (exp(sU)-1) * exp(2*uU + sU)\n",
    "\n",
    "plot(uU_temp.subs({U0:1.0,uEU:0.65,sEU:0.1}),uU_temp.subs({U0:0.5,uEU:0.65,sEU:0.1}),(Tdiff,-2.5,2.5))"
   ]
  },
  {
   "cell_type": "code",
   "execution_count": 8,
   "metadata": {
    "nbpresent": {
     "id": "e2552d49-437e-4ebd-9da9-989b2fe868b1"
    }
   },
   "outputs": [],
   "source": [
    "C_i,C_E,U,R,K_s,S = var(\"C_i,C_E,U,R,K_s,S\")\n",
    "\n",
    "dCi = C_i * (U*(C_E/ (C_E+K_s)) - R)\n",
    "dCE = S - C_i * U*(C_E/ (C_E+K_s))"
   ]
  },
  {
   "cell_type": "code",
   "execution_count": 10,
   "metadata": {
    "nbpresent": {
     "id": "ba79a507-ea38-4b3f-8cf6-e47aea650fc5"
    }
   },
   "outputs": [
    {
     "data": {
      "image/png": "[encoded data removed]",
      "text/latex": [
       "$$\\left\\{\\left ( - \\frac{S}{K_{s} R U} \\left(R - U\\right) \\left(- \\frac{K_{s} R}{R - U} + K_{s}\\right), \\quad - \\frac{K_{s} R}{R - U}\\right )\\right\\}$$"
      ],
      "text/plain": [
       "⎧⎛           ⎛   Kₛ⋅R     ⎞         ⎞⎫\n",
       "⎪⎜-S⋅(R - U)⋅⎜- ───── + Kₛ⎟         ⎟⎪\n",
       "⎨⎜           ⎝  R - U     ⎠   -Kₛ⋅R ⎟⎬\n",
       "⎪⎜──────────────────────────, ──────⎟⎪\n",
       "⎩⎝          Kₛ⋅R⋅U            R - U ⎠⎭"
      ]
     },
     "execution_count": 10,
     "metadata": {},
     "output_type": "execute_result"
    }
   ],
   "source": [
    "nonlinsolve([dCi,dCE],[C_i,C_E])"
   ]
  },
  {
   "cell_type": "code",
   "execution_count": 4,
   "metadata": {
    "nbpresent": {
     "id": "855c13a3-5f8f-4982-af6c-2a9c0c382734"
    }
   },
   "outputs": [
    {
     "data": {
      "image/png": "[encoded data removed]",
      "text/latex": [
       "$$\\left\\{\\left ( 0, \\quad 0\\right ), \\left ( 0, \\quad \\frac{r_{2}}{a_{22}}\\right ), \\left ( \\frac{r_{1}}{a_{11}}, \\quad 0\\right ), \\left ( \\frac{- a_{12} r_{2} + a_{22} r_{1}}{a_{11} a_{22} - a_{12} a_{21}}, \\quad - \\frac{- a_{11} r_{2} + a_{21} r_{1}}{a_{11} a_{22} - a_{12} a_{21}}\\right )\\right\\}$$"
      ],
      "text/plain": [
       "⎧        ⎛    r₂⎞  ⎛ r₁   ⎞  ⎛ -a₁₂⋅r₂ + a₂₂⋅r₁  -(-a₁₁⋅r₂ + a₂₁⋅r₁) ⎞⎫\n",
       "⎨(0, 0), ⎜0, ───⎟, ⎜───, 0⎟, ⎜─────────────────, ────────────────────⎟⎬\n",
       "⎩        ⎝   a₂₂⎠  ⎝a₁₁   ⎠  ⎝a₁₁⋅a₂₂ - a₁₂⋅a₂₁   a₁₁⋅a₂₂ - a₁₂⋅a₂₁  ⎠⎭"
      ]
     },
     "execution_count": 4,
     "metadata": {},
     "output_type": "execute_result"
    }
   ],
   "source": [
    "C1,K1,a11,a12,a13,r1 = var(\"C1,K1,a11,a12,a13,r1\",positive=true)\n",
    "C2,K2,a21,a22,a23,r2 = var(\"C2,K2,a21,a22,a23,r2\",positive=true)\n",
    "\n",
    "K = var(\"K\")\n",
    "\n",
    "d1 = C1 * (r1 - a11*C1 - a12*C2)\n",
    "d2 = C2 * (r2 - a22*C2 - a21*C1)\n",
    "\n",
    "\n",
    "sol = nonlinsolve([d1,d2],[C1,C2])\n",
    "\n",
    "sol"
   ]
  },
  {
   "cell_type": "code",
   "execution_count": 61,
   "metadata": {
    "nbpresent": {
     "id": "842a61e9-ac65-4d7c-b746-7238305114bb"
    }
   },
   "outputs": [
    {
     "data": {
      "image/png": "[encoded data removed]",
      "text/latex": [
       "$$\\frac{1}{a_{11} a_{22} - a_{12} a_{21}} \\left(a_{11} r_{02} - a_{12} r_{02} - a_{21} r_{01} + a_{22} r_{01}\\right) e^{- \\frac{\\left(Tr - Tra\\right) \\left(- Er_{1} a_{21} r_{01} + Er_{1} a_{22} r_{01} + Er_{2} a_{11} r_{02} - Er_{2} a_{12} r_{02}\\right)}{a_{11} r_{02} - a_{12} r_{02} - a_{21} r_{01} + a_{22} r_{01}}}$$"
      ],
      "text/plain": [
       "                                         -(Tr - Tra)⋅(-Er₁⋅a₂₁⋅r₀₁ + Er₁⋅a₂₂⋅r\n",
       "                                         ─────────────────────────────────────\n",
       "                                                         a₁₁⋅r₀₂ - a₁₂⋅r₀₂ - a\n",
       "(a₁₁⋅r₀₂ - a₁₂⋅r₀₂ - a₂₁⋅r₀₁ + a₂₂⋅r₀₁)⋅ℯ                                     \n",
       "──────────────────────────────────────────────────────────────────────────────\n",
       "                                              a₁₁⋅a₂₂ - a₁₂⋅a₂₁               \n",
       "\n",
       "₀₁ + Er₂⋅a₁₁⋅r₀₂ - Er₂⋅a₁₂⋅r₀₂) \n",
       "────────────────────────────────\n",
       "₂₁⋅r₀₁ + a₂₂⋅r₀₁                \n",
       "                                \n",
       "────────────────────────────────\n",
       "                                "
      ]
     },
     "execution_count": 61,
     "metadata": {},
     "output_type": "execute_result"
    }
   ],
   "source": [
    "r01,r02,Er1,Er2,Tr,Tra,U = var(\"r01,r02,Er1,Er2,Tr,Tra,U\")\n",
    "\n",
    "r1_T = r01 * exp(-Er1 * (Tr-Tra))\n",
    "r2_T = r02 * exp(-Er2 * (Tr-Tra))\n",
    "\n",
    "k = 8.6173303e-5\n",
    "\n",
    "realTop = ((a22*r1_T - a12*r2_T) + (a11*r2_T - a21*r1_T))\n",
    "realBot = (a11*a22 - a12*a21)\n",
    "real = realTop / realBot\n",
    "\n",
    "approx = exp(log(realTop).series(Tr,Tra,2).removeO())/realBot\n",
    "approx = simplify(approx)"
   ]
  },
  {
   "cell_type": "code",
   "execution_count": 48,
   "metadata": {
    "nbpresent": {
     "id": "cca54a39-979f-4bcf-bf35-2016fa828fa2"
    }
   },
   "outputs": [],
   "source": [
    "k0,Ek = var(\"k0,Ek\")\n",
    "K = k0*exp(-Ek*(Tr-Tra))\n",
    "\n",
    "approxK = K*approx\n",
    "realK = K*real"
   ]
  },
  {
   "cell_type": "code",
   "execution_count": 58,
   "metadata": {
    "nbpresent": {
     "id": "0070502e-747d-4b97-bf38-940f598cead5"
    }
   },
   "outputs": [
    {
     "data": {
      "image/png": "[encoded data removed]",
      "text/plain": [
       "<matplotlib.figure.Figure at 0x11a2b2400>"
      ]
     },
     "metadata": {},
     "output_type": "display_data"
    },
    {
     "data": {
      "text/plain": [
       "<sympy.plotting.plot.Plot at 0x11a2b22e8>"
      ]
     },
     "execution_count": 58,
     "metadata": {},
     "output_type": "execute_result"
    }
   ],
   "source": [
    "f = realK.subs({a11:0.3,a22:1.0,a12:10.0,a21:10.0,r01:2.0,r02:5.0,Er1:0.32,Er2:0.65,Tra:(1/(k*295)),k0:10,Ek:-0.45})\n",
    "g = approxK.subs({a11:0.3,a22:1.0,a12:10.0,a21:10.0,r01:2.0,r02:5.0,Er1:0.32,Er2:0.65,Tra:(1/(k*295)),k0:10,Ek:-0.45})\n",
    "\n",
    "plot(f,g,(Tr,1/(k*275),1/(k*315)))"
   ]
  },
  {
   "cell_type": "code",
   "execution_count": 197,
   "metadata": {
    "nbpresent": {
     "id": "a897f7c7-d3e2-41e8-a5db-fff685000bb1"
    }
   },
   "outputs": [],
   "source": [
    "Ea11,Ea12,Ea21,Ea22 = var(\"Ea11,Ea12,Ea21,Ea22\")\n",
    "a11_0,a12_0,a21_0,a22_0 = var(\"a11_0,a12_0,a21_0,a22_0\")\n",
    "\n",
    "a11T = a11_0 * exp(-Ea11*(Tr-Tra)) ; a12T = a12_0 * exp(-Ea12*(Tr-Tra))\n",
    "a21T = a21_0 * exp(-Ea21*(Tr-Tra)) ; a22T = a22_0 * exp(-Ea22*(Tr-Tra))\n",
    "\n",
    "realTop_aT = realTop.subs({a11:a11T,a22:a22T,a12:a12T,a21:a12T})\n",
    "realBot_aT = realBot.subs({a11:a11T,a22:a22T,a12:a12T,a21:a12T})\n",
    "\n",
    "appTop_aT = exp(log(realTop_aT).series(Tr,Tra,2).removeO())\n",
    "appBot_aT = exp(log(realBot_aT).series(Tr,Tra,2).removeO())"
   ]
  },
  {
   "cell_type": "code",
   "execution_count": 198,
   "metadata": {},
   "outputs": [
    {
     "data": {
      "image/png": "[encoded data removed]",
      "text/plain": [
       "<matplotlib.figure.Figure at 0x11a667278>"
      ]
     },
     "metadata": {},
     "output_type": "display_data"
    },
    {
     "data": {
      "text/plain": [
       "<sympy.plotting.plot.Plot at 0x11a6675c0>"
      ]
     },
     "execution_count": 198,
     "metadata": {},
     "output_type": "execute_result"
    }
   ],
   "source": [
    "approx_aT = simplify(appTop_aT/appBot_aT)\n",
    "real_aT = realTop_aT/realBot_aT\n",
    "\n",
    "f = real_aT.subs({a11_0:0.3,a22_0:1.0,a12_0:10.0,a21_0:10.0,r01:2.0,r02:5.0,\n",
    "                  Ea11:0.0,Ea12:0.15,Ea21:0.25,Ea22:0.0,Er1:0.42,Er2:0.32,\n",
    "                  Tra:(1/(k*295)),k0:10,Ek:-0.45})\n",
    "\n",
    "g = approx_aT.subs({a11_0:0.3,a22_0:1.0,a12_0:10.0,a21_0:10.0,r01:2.0,r02:5.0,\n",
    "                  Ea11:0.0,Ea12:0.15,Ea21:0.25,Ea22:0.0,Er1:0.42,Er2:0.32,\n",
    "                  Tra:(1/(k*295)),k0:10,Ek:-0.45})\n",
    "\n",
    "plot(f,g,(Tr,1/(k*275),1/(k*315)))"
   ]
  },
  {
   "cell_type": "code",
   "execution_count": 199,
   "metadata": {},
   "outputs": [
    {
     "data": {
      "image/png": "[encoded data removed]",
      "text/latex": [
       "$$\\frac{1}{a_{11 0} a_{22 0} - a_{12 0}^{2}} \\left(a_{11 0} r_{02} - a_{12 0} r_{01} - a_{12 0} r_{02} + a_{22 0} r_{01}\\right) e^{- \\frac{1}{\\left(a_{11 0} a_{22 0} - a_{12 0}^{2}\\right) \\left(a_{11 0} r_{02} - a_{12 0} r_{01} - a_{12 0} r_{02} + a_{22 0} r_{01}\\right)} \\left(Tr - Tra\\right) \\left(\\left(a_{11 0} a_{22 0} - a_{12 0}^{2}\\right) \\left(Ea_{11} a_{11 0} r_{02} - Ea_{12} a_{12 0} r_{01} - Ea_{12} a_{12 0} r_{02} + Ea_{22} a_{22 0} r_{01} - Er_{1} a_{12 0} r_{01} + Er_{1} a_{22 0} r_{01} + Er_{2} a_{11 0} r_{02} - Er_{2} a_{12 0} r_{02}\\right) + \\left(- Ea_{11} a_{11 0} a_{22 0} + 2 Ea_{12} a_{12 0}^{2} - Ea_{22} a_{11 0} a_{22 0}\\right) \\left(a_{11 0} r_{02} - a_{12 0} r_{01} - a_{12 0} r_{02} + a_{22 0} r_{01}\\right)\\right)}$$"
      ],
      "text/plain": [
       "                                                             ⎛⎛               \n",
       "                                                 -(Tr - Tra)⋅⎝⎝a₁₁ ₀⋅a₂₂ ₀ - a\n",
       "                                                 ─────────────────────────────\n",
       "                                                                              \n",
       "                                                                              \n",
       "(a₁₁ ₀⋅r₀₂ - a₁₂ ₀⋅r₀₁ - a₁₂ ₀⋅r₀₂ + a₂₂ ₀⋅r₀₁)⋅ℯ                             \n",
       "──────────────────────────────────────────────────────────────────────────────\n",
       "                                                                              \n",
       "                                                                              \n",
       "\n",
       "    2⎞                                                                        \n",
       "₁₂ ₀ ⎠⋅(Ea₁₁⋅a₁₁ ₀⋅r₀₂ - Ea₁₂⋅a₁₂ ₀⋅r₀₁ - Ea₁₂⋅a₁₂ ₀⋅r₀₂ + Ea₂₂⋅a₂₂ ₀⋅r₀₁ - Er\n",
       "──────────────────────────────────────────────────────────────────────────────\n",
       "                                                                         ⎛    \n",
       "                                                                         ⎝a₁₁ \n",
       "                                                                              \n",
       "──────────────────────────────────────────────────────────────────────────────\n",
       "                                                                              \n",
       "                                                                          a₁₁ \n",
       "\n",
       "                                                               ⎛              \n",
       "₁⋅a₁₂ ₀⋅r₀₁ + Er₁⋅a₂₂ ₀⋅r₀₁ + Er₂⋅a₁₁ ₀⋅r₀₂ - Er₂⋅a₁₂ ₀⋅r₀₂) + ⎝-Ea₁₁⋅a₁₁ ₀⋅a₂\n",
       "──────────────────────────────────────────────────────────────────────────────\n",
       "               2⎞                                                             \n",
       "₀⋅a₂₂ ₀ - a₁₂ ₀ ⎠⋅(a₁₁ ₀⋅r₀₂ - a₁₂ ₀⋅r₀₁ - a₁₂ ₀⋅r₀₂ + a₂₂ ₀⋅r₀₁)             \n",
       "                                                                              \n",
       "──────────────────────────────────────────────────────────────────────────────\n",
       "               2                                                              \n",
       "₀⋅a₂₂ ₀ - a₁₂ ₀                                                               \n",
       "\n",
       "                  2                   ⎞                                       \n",
       "₂ ₀ + 2⋅Ea₁₂⋅a₁₂ ₀  - Ea₂₂⋅a₁₁ ₀⋅a₂₂ ₀⎠⋅(a₁₁ ₀⋅r₀₂ - a₁₂ ₀⋅r₀₁ - a₁₂ ₀⋅r₀₂ + a\n",
       "──────────────────────────────────────────────────────────────────────────────\n",
       "                                                                              \n",
       "                                                                              \n",
       "                                                                              \n",
       "──────────────────────────────────────────────────────────────────────────────\n",
       "                                                                              \n",
       "                                                                              \n",
       "\n",
       "         ⎞ \n",
       "₂₂ ₀⋅r₀₁)⎠ \n",
       "───────────\n",
       "           \n",
       "           \n",
       "           \n",
       "───────────\n",
       "           \n",
       "           "
      ]
     },
     "execution_count": 199,
     "metadata": {},
     "output_type": "execute_result"
    }
   ],
   "source": [
    "simplify(approx_aT)"
   ]
  },
  {
   "cell_type": "code",
   "execution_count": null,
   "metadata": {},
   "outputs": [],
   "source": []
  },
  {
   "cell_type": "code",
   "execution_count": 3,
   "metadata": {},
   "outputs": [],
   "source": [
    "C1,K1,a11,a12,a13,a14,r1 = var(\"C1,K1,a11,a12,a13,a14,r1\",positive=true)\n",
    "C2,K2,a21,a22,a23,a24,r2 = var(\"C2,K2,a21,a22,a23,a24,r2\",positive=true)\n",
    "C3,K3,a31,a32,a33,a34,r3 = var(\"C3,K3,a31,a32,a33,a34,r3\",positive=true)\n",
    "C4,K4,a41,a42,a43,a44,r4 = var(\"C4,K4,a41,a42,a43,a44,r4\",positive=true)\n",
    "\n",
    "K = var(\"K\")\n",
    "\n",
    "d1 = C1 * (r1 - a11*C1 - a12*C2 - a13*C3 - a14*C4)\n",
    "d2 = C2 * (r2 - a21*C1 - a22*C2 - a23*C3 - a24*C4)\n",
    "d3 = C3 * (r3 - a31*C1 - a32*C2 - a33*C3 - a34*C4)\n",
    "d4 = C4 * (r4 - a41*C1 - a42*C2 - a43*C3 - a44*C4)"
   ]
  },
  {
   "cell_type": "code",
   "execution_count": 188,
   "metadata": {},
   "outputs": [],
   "source": [
    "C1_sol = solve(d1,C1)[0]\n",
    "C2_sol = solve(d2.subs({C1:C1_sol}),C2)[0]\n",
    "C3_sol = solve(d3.subs({C1:C1_sol,C2:C2_sol}),C3)[0]\n",
    "C4_sol = solve(d4.subs({C1:C1_sol,C2:C2_sol,C3:C3_sol}),C4)[0]"
   ]
  },
  {
   "cell_type": "code",
   "execution_count": 192,
   "metadata": {},
   "outputs": [],
   "source": [
    "C3_sol = C3_sol.subs({C4:C4_sol})\n",
    "C2_sol = C2_sol.subs({C3:C3_sol,C4:C4_sol})\n",
    "C1_sol = C1_sol.subs({C2:C2_sol,C3:C3_sol,C4:C4_sol})"
   ]
  },
  {
   "cell_type": "code",
   "execution_count": 22,
   "metadata": {},
   "outputs": [
    {
     "data": {
      "image/png": "[encoded data removed]",
      "text/latex": [
       "$$\\left ( \\frac{a_{12} \\left(- a_{12} r_{2} + a_{22} r_{1}\\right)}{r_{1} \\left(a_{11} a_{22} - a_{12}^{2}\\right)}, \\quad \\frac{a_{12} \\left(a_{11} r_{2} - a_{12} r_{1}\\right)}{r_{1} \\left(a_{11} a_{22} - a_{12}^{2}\\right)}\\right )$$"
      ],
      "text/plain": [
       "⎛a₁₂⋅(-a₁₂⋅r₂ + a₂₂⋅r₁)  a₁₂⋅(a₁₁⋅r₂ - a₁₂⋅r₁)⎞\n",
       "⎜──────────────────────, ─────────────────────⎟\n",
       "⎜    ⎛             2⎞        ⎛             2⎞ ⎟\n",
       "⎝ r₁⋅⎝a₁₁⋅a₂₂ - a₁₂ ⎠     r₁⋅⎝a₁₁⋅a₂₂ - a₁₂ ⎠ ⎠"
      ]
     },
     "execution_count": 22,
     "metadata": {},
     "output_type": "execute_result"
    }
   ],
   "source": [
    "d1,d2,b = var(\"delta_1,delta_2,b\")\n",
    "\n",
    "dC1 = C1 - d1*C1*C1 - C1*C2\n",
    "dC2 = b*C2 - d2*C2*C2 - C1*C2\n",
    "\n",
    "sol = nonlinsolve([dC1,dC2],[C1,C2])\n",
    "\n",
    "simplify(sol.args[3].subs({d1:a11/a12,d2:a22/a12,b:r2/r1}))"
   ]
  }
 ],
 "metadata": {
  "kernelspec": {
   "display_name": "Python 3",
   "language": "python",
   "name": "python3"
  },
  "language_info": {
   "codemirror_mode": {
    "name": "ipython",
    "version": 3
   },
   "file_extension": ".py",
   "mimetype": "text/x-python",
   "name": "python",
   "nbconvert_exporter": "python",
   "pygments_lexer": "ipython3",
   "version": "3.7.0"
  },
  "toc": {
   "nav_menu": {},
   "number_sections": true,
   "sideBar": true,
   "skip_h1_title": false,
   "title_cell": "Table of Contents",
   "title_sidebar": "Contents",
   "toc_cell": false,
   "toc_position": {},
   "toc_section_display": true,
   "toc_window_display": false
  }
 },
 "nbformat": 4,
 "nbformat_minor": 2
}
