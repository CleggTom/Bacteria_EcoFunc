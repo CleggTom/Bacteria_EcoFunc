{
 "cells": [
  {
   "cell_type": "code",
   "execution_count": 2,
   "metadata": {},
   "outputs": [],
   "source": [
    "#Load some modules etc\n",
    "%matplotlib inline\n",
    "import matplotlib.pyplot as plt\n",
    "from cycler import cycler\n",
    "\n",
    "from sympy import *\n",
    "import scipy as sc\n",
    "import numpy as np\n",
    "init_printing()"
   ]
  },
  {
   "cell_type": "markdown",
   "metadata": {},
   "source": [
    "# Introduction\n",
    "\n",
    "Just trying some stuff here but the general idea is that taking the derivative with respect to temperature will give some insight into the temperature dependence of growth (and thus flux)."
   ]
  },
  {
   "cell_type": "markdown",
   "metadata": {},
   "source": [
    "## Single Species\n",
    "\n",
    "starting with logistic growth with temperature dependent growth:"
   ]
  },
  {
   "cell_type": "code",
   "execution_count": 134,
   "metadata": {},
   "outputs": [
    {
     "data": {
      "image/png": "[encoded data removed]",
      "text/latex": [
       "$$C{\\left (t \\right )} = \\frac{r e^{r \\left(C_{1} + t\\right)}}{\\alpha \\left(e^{r \\left(C_{1} + t\\right)} - 1\\right)}$$"
      ],
      "text/plain": [
       "             r⋅(C₁ + t)   \n",
       "          r⋅ℯ             \n",
       "C(t) = ───────────────────\n",
       "         ⎛ r⋅(C₁ + t)    ⎞\n",
       "       α⋅⎝ℯ           - 1⎠"
      ]
     },
     "execution_count": 134,
     "metadata": {},
     "output_type": "execute_result"
    }
   ],
   "source": [
    "# defining differntial\n",
    "t = var(\"t\")\n",
    "C = Function(\"C\")(t)\n",
    "dC = C.diff(t)\n",
    "\n",
    "#and the RHS\n",
    "r0,Er,Tdiff,a,r = var(\"r0,Er,T_{diff},alpha,r\")\n",
    "RHS = C*(r - a*C)\n",
    "\n",
    "#solving\n",
    "eq = Eq(dC,RHS)\n",
    "sol = dsolve(eq)\n",
    "sol"
   ]
  },
  {
   "cell_type": "code",
   "execution_count": 135,
   "metadata": {},
   "outputs": [
    {
     "data": {
      "image/png": "[encoded data removed]",
      "text/latex": [
       "$$\\frac{\\log{\\left (\\frac{C_{0} \\alpha}{C_{0} \\alpha - r} \\right )}}{r}$$"
      ],
      "text/plain": [
       "   ⎛  C₀⋅α  ⎞\n",
       "log⎜────────⎟\n",
       "   ⎝C₀⋅α - r⎠\n",
       "─────────────\n",
       "      r      "
      ]
     },
     "execution_count": 135,
     "metadata": {},
     "output_type": "execute_result"
    }
   ],
   "source": [
    "#solving for C0\n",
    "t0 = sol.args[1].subs({t:0})\n",
    "C0 = var(\"C0\")\n",
    "sol_eq = Eq(C0,t0)\n",
    "\n",
    "C1 = sol_eq.args[1].args[3].args[0].args[0]\n",
    "C1_sol = solve(sol_eq,C1)[0]\n",
    "C1_sol"
   ]
  },
  {
   "cell_type": "code",
   "execution_count": 136,
   "metadata": {},
   "outputs": [
    {
     "data": {
      "image/png": "[encoded data removed]",
      "text/latex": [
       "$$C{\\left (t \\right )} = \\frac{C_{0} r e^{r t}}{C_{0} \\alpha e^{r t} - C_{0} \\alpha + r}$$"
      ],
      "text/plain": [
       "                  r⋅t      \n",
       "            C₀⋅r⋅ℯ         \n",
       "C(t) = ────────────────────\n",
       "             r⋅t           \n",
       "       C₀⋅α⋅ℯ    - C₀⋅α + r"
      ]
     },
     "execution_count": 136,
     "metadata": {},
     "output_type": "execute_result"
    }
   ],
   "source": [
    "sol = simplify(sol.subs({C1:C1_sol}))\n",
    "sol"
   ]
  },
  {
   "cell_type": "code",
   "execution_count": 137,
   "metadata": {},
   "outputs": [
    {
     "data": {
      "image/png": "[encoded data removed]",
      "text/latex": [
       "$$\\frac{C_{0} Er r_{0} \\left(- r_{0} t \\left(- C_{0} \\alpha \\left(- e^{r_{0} t e^{- Er T_{diff}}} + 1\\right) e^{Er T_{diff}} + r_{0}\\right) e^{r_{0} t e^{- Er T_{diff}}} + r_{0} \\left(C_{0} \\alpha t e^{r_{0} t e^{- Er T_{diff}}} + 1\\right) e^{\\left(Er T_{diff} e^{Er T_{diff}} + r_{0} t\\right) e^{- Er T_{diff}}} - \\left(- C_{0} \\alpha \\left(- e^{r_{0} t e^{- Er T_{diff}}} + 1\\right) e^{Er T_{diff}} + r_{0}\\right) e^{\\left(Er T_{diff} e^{Er T_{diff}} + r_{0} t\\right) e^{- Er T_{diff}}}\\right) e^{- Er T_{diff}}}{\\left(- C_{0} \\alpha \\left(- e^{r_{0} t e^{- Er T_{diff}}} + 1\\right) e^{Er T_{diff}} + r_{0}\\right)^{2}}$$"
      ],
      "text/plain": [
       "         ⎛       ⎛       ⎛         -Er⋅T_{diff}    ⎞                  ⎞       \n",
       "         ⎜       ⎜       ⎜   r₀⋅t⋅ℯ                ⎟  Er⋅T_{diff}     ⎟  r₀⋅t⋅\n",
       "C₀⋅Er⋅r₀⋅⎝- r₀⋅t⋅⎝- C₀⋅α⋅⎝- ℯ                   + 1⎠⋅ℯ            + r₀⎠⋅ℯ     \n",
       "──────────────────────────────────────────────────────────────────────────────\n",
       "                                                                              \n",
       "                                                                              \n",
       "                                                                              \n",
       "                                                                              \n",
       "\n",
       " -Er⋅T_{diff}      ⎛              -Er⋅T_{diff}    ⎞  ⎛             Er⋅T_{diff}\n",
       "ℯ                  ⎜        r₀⋅t⋅ℯ                ⎟  ⎝Er⋅T_{diff}⋅ℯ           \n",
       "              + r₀⋅⎝C₀⋅α⋅t⋅ℯ                   + 1⎠⋅ℯ                         \n",
       "──────────────────────────────────────────────────────────────────────────────\n",
       "                                                                              \n",
       "                                            ⎛       ⎛         -Er⋅T_{diff}    \n",
       "                                            ⎜       ⎜   r₀⋅t⋅ℯ                \n",
       "                                            ⎝- C₀⋅α⋅⎝- ℯ                   + 1\n",
       "\n",
       "       ⎞  -Er⋅T_{diff}   ⎛       ⎛         -Er⋅T_{diff}    ⎞                  \n",
       " + r₀⋅t⎠⋅ℯ               ⎜       ⎜   r₀⋅t⋅ℯ                ⎟  Er⋅T_{diff}     \n",
       "                       - ⎝- C₀⋅α⋅⎝- ℯ                   + 1⎠⋅ℯ            + r₀\n",
       "──────────────────────────────────────────────────────────────────────────────\n",
       "                    2                                                         \n",
       "⎞                  ⎞                                                          \n",
       "⎟  Er⋅T_{diff}     ⎟                                                          \n",
       "⎠⋅ℯ            + r₀⎠                                                          \n",
       "\n",
       "⎞  ⎛             Er⋅T_{diff}       ⎞  -Er⋅T_{diff}⎞              \n",
       "⎟  ⎝Er⋅T_{diff}⋅ℯ            + r₀⋅t⎠⋅ℯ            ⎟  -Er⋅T_{diff}\n",
       "⎠⋅ℯ                                               ⎠⋅ℯ            \n",
       "─────────────────────────────────────────────────────────────────\n",
       "                                                                 \n",
       "                                                                 \n",
       "                                                                 \n",
       "                                                                 "
      ]
     },
     "execution_count": 137,
     "metadata": {},
     "output_type": "execute_result"
    }
   ],
   "source": [
    "sol_T = sol.subs({r:r0 * exp(-Er*Tdiff)})\n",
    "sol_T = simplify(sol_T.args[1].diff(Tdiff))\n",
    "\n",
    "sol_T"
   ]
  },
  {
   "cell_type": "code",
   "execution_count": 146,
   "metadata": {},
   "outputs": [
    {
     "data": {
      "image/png": "[encoded data removed]",
      "text/latex": [
       "$$1.0 e^{- 0.95 \\sin{\\left (t \\right )}}$$"
      ],
      "text/plain": [
       "     -0.95⋅sin(t)\n",
       "1.0⋅ℯ            "
      ]
     },
     "execution_count": 146,
     "metadata": {},
     "output_type": "execute_result"
    }
   ],
   "source": [
    "diff_sin = RHS.subs({r:r0 * exp(-Er*Tdiff)}).subs({Tdiff:sin(t)})\n",
    "solve(diff_sin,C)[1].subs({r0:1.0,Er:0.95,a:1.0})"
   ]
  },
  {
   "cell_type": "code",
   "execution_count": 150,
   "metadata": {},
   "outputs": [],
   "source": [
    "p = RHS.subs({r:r0 * exp(-Er*Tdiff),C:solve(diff_sin,C)[1]}).series(Tdiff,0,2).removeO().subs({r0:1.0,Er:0.95,a:1.0})"
   ]
  },
  {
   "cell_type": "code",
   "execution_count": 159,
   "metadata": {},
   "outputs": [
    {
     "data": {
      "image/png": "[encoded data removed]",
      "text/plain": [
       "<Figure size 432x288 with 1 Axes>"
      ]
     },
     "metadata": {},
     "output_type": "display_data"
    },
    {
     "data": {
      "text/plain": [
       "<sympy.plotting.plot.Plot at 0x117e79278>"
      ]
     },
     "execution_count": 159,
     "metadata": {},
     "output_type": "execute_result"
    }
   ],
   "source": [
    "plot(p.subs({Tdiff:-2.0}),(t,0,10))"
   ]
  },
  {
   "cell_type": "code",
   "execution_count": null,
   "metadata": {},
   "outputs": [],
   "source": []
  }
 ],
 "metadata": {
  "kernelspec": {
   "display_name": "Python 3",
   "language": "python",
   "name": "python3"
  },
  "language_info": {
   "codemirror_mode": {
    "name": "ipython",
    "version": 3
   },
   "file_extension": ".py",
   "mimetype": "text/x-python",
   "name": "python",
   "nbconvert_exporter": "python",
   "pygments_lexer": "ipython3",
   "version": "3.7.0"
  },
  "toc": {
   "nav_menu": {},
   "number_sections": true,
   "sideBar": true,
   "skip_h1_title": false,
   "title_cell": "Table of Contents",
   "title_sidebar": "Contents",
   "toc_cell": false,
   "toc_position": {},
   "toc_section_display": true,
   "toc_window_display": false
  }
 },
 "nbformat": 4,
 "nbformat_minor": 2
}
