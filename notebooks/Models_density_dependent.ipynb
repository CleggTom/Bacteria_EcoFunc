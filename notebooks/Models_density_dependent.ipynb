{
 "cells": [
  {
   "cell_type": "code",
   "execution_count": 1,
   "metadata": {},
   "outputs": [],
   "source": [
    "#Load some modules etc\n",
    "%matplotlib inline\n",
    "import matplotlib.pyplot as plt\n",
    "from cycler import cycler\n",
    "\n",
    "from sympy import *\n",
    "import scipy as sc\n",
    "import numpy as np\n",
    "init_printing()"
   ]
  },
  {
   "cell_type": "markdown",
   "metadata": {},
   "source": [
    "# Introduction\n",
    "\n",
    "In this notebook I discuss the density dependent extension to the bacterial growth model. Previously I derived the model showing that the change in bacterial biomass for species $C_i$ can be writen as:\n",
    "\n",
    "\\begin{align}\n",
    "    \\frac{1}{C_i} \\frac{dC_i}{dt} = \\tilde{U}_i - \\tilde{R}_i\n",
    "\\end{align}\n",
    "\n",
    "where the mass-specific rates of carbon uptake and loss are given by $\\tilde{U}_i$ and $\\tilde{R}_i$ respectively. Note that this model makes many assumptions the most important being that all losses occur due to respiration $R$ and that the values of $U$ and $R$ vary only on temperature $T$ and not with changing density or time. "
   ]
  },
  {
   "cell_type": "markdown",
   "metadata": {},
   "source": [
    "# Density dependence\n",
    "\n",
    "Including density dependence in the model above can be achived either through phenomological terms (i.e. an abstract carrying capacity) or via a more mechanistic approach including carbon limitation. In this notebook i will explore both of these options"
   ]
  },
  {
   "cell_type": "markdown",
   "metadata": {},
   "source": [
    "## Logistic growth\n",
    "\n",
    "We can rewrite the equation above in the form of the classic logistic equation:\n",
    "\n",
    "\\begin{align}\n",
    "    \\frac{dC_i}{dt} = C_i \\left(r_i - \\frac{C_i}{K_i} \\right)\n",
    "\\end{align}\n",
    "\n",
    "where $r_i$ is the intrinsic growth rate and $K_i$ the carrying capacity for the population. In this model the biomass will continue to grow until it reaches the maximum value of $K_i$. If we allow our exponetial growth model to be equal to the intrinsic growth rate $r_i = \\tilde{U}_i - \\tilde{R}_i$ we can convert the original model above into the logistic form:\n",
    "\n",
    "\\begin{align}\n",
    "    \\frac{dC_i}{dt} =  C_i \\left((\\tilde{U}_i - \\tilde{R}_i) - \\frac{C_i}{K_i} \\right)\n",
    "\\end{align}\n",
    "\n",
    "We can rewrite this equation by substituting $a_{ii} = \\frac{1}{K_i}$ which gives:\n",
    "\n",
    "\\begin{align}\n",
    "    \\frac{dC_{k_i}}{dt} =  C_{k_i} \\left(r_i - a_{ii}C_{k_i} \\right)\n",
    "\\end{align}\n",
    "\n",
    "We can then find the exact solution of this equation to give the dimensionless popualtion biomass at time $t$\n",
    "\n",
    "\\begin{align}\n",
    "    \\frac{dC_{k_i}}{dt} &= C_{k_i} \\left(r_i - a_{ii}C_{k_i} \\right) \\\\\n",
    "    \\int \\frac{1}{C_{k_i} \\left(r_i - a_{ii}C_{k_i} \\right)} \\frac{dC_{k_i}}{dt} dt &= \\int 1 dt \\\\\n",
    "    C_{k_i}(t) &= \\frac{r e^{r_i t}} {a_{ii} e^{r_i t} + \\frac{r}{C_{{k_0i}}} - a_{ii}}\n",
    "\\end{align}\n",
    "\n",
    "where $C_{{k_0i}}$ is the biomass of species $i$ at time $0$."
   ]
  },
  {
   "cell_type": "markdown",
   "metadata": {},
   "source": [
    "# Multispecies Models\n",
    "\n",
    "We can take the two models examined above and formulate multispecies versions capable of representing the competitve dynmamics that occur in communities. Though I am currently unable to derive an exact solution of the size of these populations over time at this point I can use the classic equilibrial dynamics approach to determine the stability of these systems and thier temperature dependendence. "
   ]
  },
  {
   "cell_type": "markdown",
   "metadata": {},
   "source": [
    "## Logistic model\n",
    "\n",
    "Given single species logistic growth :\n",
    "\n",
    "\\begin{align}\n",
    "    \\frac{dC_i}{dt} = C_i \\left(r_i - a_{ii}C_i \\right)\n",
    "\\end{align}\n",
    "\n",
    "We can model the interaction between species as an additional term that alters the carrying capacity $K_i$ by the biomass of other species:\n",
    "\n",
    "\\begin{align}\n",
    "    \\frac{dC_i}{dt} = C_i \\left(r_i - \\frac{{a_{ii} C_i - \\sum_{j=0}^{n}} a_{ij} C_j}{K} \\right)\n",
    "\\end{align}\n",
    "\n",
    "where $\\alpha_{ij}$ is the effect of species $j$ on the carrying capacity of species $i$. Dividing through by $K$ and substituting $C_{k_i} = \\frac{C_i}{K}$ we get the normalised version:\n",
    "\n",
    "\\begin{align}\n",
    "    \\frac{dC_{k_i}}{dt} = C_{k_i} \\left(r_i - {a_{ii} C_{k_i} - \\sum_{j=0}^{n}} a_{ij} C_{k_j} \\right)\n",
    "\\end{align}\n",
    "\n",
    "For a system with 2 species (indicated by the indexes $1$ and $2$) this has the non-zero biomass equlibrial solution of:\n",
    "\n",
    "\\begin{align}\n",
    " \\hat{C}_1 = \\frac{a_{22}r_1 - a_{12} r_2}{a_{11} a_{22} - a_{12} a_{21} } \\quad\n",
    " \\hat{C}_2 = \\frac{a_{11}r_2 - a_{21} r_1}{a_{22} a_{11} - a_{12} a_{21} }\n",
    "\\end{align}\n",
    "\n",
    "Thus the total biomass in the system is given by:\n",
    "\n",
    "\\begin{align}\n",
    "    \\hat{C}_{tot} &= \\frac{(a_{22}r_1 - a_{12} r_2) + (a_{11}r_2 - a_{21} r_1)}{a_{22} a_{11} - a_{12} a_{21} } \\\\ \\\\\n",
    "                  &= \\frac{r_1 (a_{22} - a_{21}) + r_2(a_{11} - a_{12})}{a_{22} a_{11} - a_{12} a_{21} } \n",
    "\\end{align}\n",
    "\n",
    "For simplicity we consider only systems with symmetric interactions (i.e. $a_{12} = a_{21}$) which means we can rewrite the total biomass as:\n",
    "\n",
    "\\begin{align}\n",
    "    \\hat{C}_{tot} = \\frac{r_1 (a_{22} - a_{12}) + r_2(a_{11} - a_{12})}{a_{22} a_{11} - a_{12}^{2}} \n",
    "\\end{align}"
   ]
  },
  {
   "cell_type": "markdown",
   "metadata": {},
   "source": [
    "### Temperature Dependence\n",
    "\n",
    "Assuming that the temperature dependence of growth rate and the interaction parameters can be approximated using the boltzman Arrenhenius $(r_i = r_{i_0} e^{-E_{r_i} (T_r - T_{ra})})$ we can we can rewrite this equation as:\n",
    "\n",
    "\\begin{align}\n",
    "    \\hat{C}_{tot} &= \\frac{r_{1_0} e^{-E_{r_1} (T_r - T_{ra})} (a_{22} - a_{12}) + r_{2_0} e^{-E_{r_2} (T_r - T_{ra})}(a_{11} - a_{12})}{a_{22} a_{11} - a_{12}^2 }  \\\\\n",
    "    \\\\\n",
    "    &= \\frac{r_{1_0} e^{-E_{r_1} (T_r - T_{ra})} (a_{22_0} e^{-E_{a_{22}} (T_r - T_{ra})} - a_{12_0} e^{-E_{a_{12}} (T_r - T_{ra})}) + r_{2_0} e^{-E_{r_2} (T_r - T_{ra})}(a_{11_0} e^{-E_{a_{11}} (T_r - T_{ra})} - a_{12_0} e^{-E_{a_{12}} (T_r - T_{ra})})}{a_{11_0} e^{-E_{a_{11}} (T_r - T_{ra})} a_{22_0} e^{-E_{a_{22}} (T_r - T_{ra})} - a_{12_0} e^{-2E_{a_{12}} (T_r - T_{ra})}}\n",
    "\\end{align}\n",
    "\n",
    "Assuming that the interaction parameters are temperature independent (for now) we can use a taylor series expansion around $T_r = T_{ra}$ which gives:\n",
    "\n",
    "\\begin{align}\n",
    "    \\hat{C}_{tot} \\approx \\frac{ r_{0_2}(a_{11} - a_{12}) + r_{0_1}(a_{22} - a_{21})}{a_{11} a_{22} - a_{12} a_{21}} e^{(T_r- T_{ra}) \\frac{E_{r_1}r_{0_1}(a_{22} - a_{21}) + E_{r_2}r_{0_2}(a_{11} - a_{12}) }{r_{0_2}(a_{11} - a_{12}) + r_{0_1}(a_{22} - a_{21})}}\n",
    "\\end{align}\n",
    "\n",
    "This the temperature sensitivty of equilibrial biomass is approximately: \n",
    "\n",
    "\\begin{align}\n",
    "E_{\\hat{C}_{tot}} \\approx \\frac{E_{r_1}r_{0_1}(a_{22} - a_{21}) + E_{r_2}r_{0_2}(a_{11} - a_{12}) }{r_{0_2}(a_{11} -a_{12}) + r_{0_1}(a_{22} - a_{21})}\n",
    "\\end{align}\n",
    "\n",
    "Thus the temperature sensitvity of total equilibrial biomass is the weghted average of the temperature sensitvity of"
   ]
  },
  {
   "cell_type": "code",
   "execution_count": null,
   "metadata": {},
   "outputs": [],
   "source": []
  }
 ],
 "metadata": {
  "kernelspec": {
   "display_name": "Python 3",
   "language": "python",
   "name": "python3"
  },
  "language_info": {
   "codemirror_mode": {
    "name": "ipython",
    "version": 3
   },
   "file_extension": ".py",
   "mimetype": "text/x-python",
   "name": "python",
   "nbconvert_exporter": "python",
   "pygments_lexer": "ipython3",
   "version": "3.7.0"
  },
  "toc": {
   "nav_menu": {},
   "number_sections": true,
   "sideBar": true,
   "skip_h1_title": false,
   "title_cell": "Table of Contents",
   "title_sidebar": "Contents",
   "toc_cell": false,
   "toc_position": {},
   "toc_section_display": true,
   "toc_window_display": false
  }
 },
 "nbformat": 4,
 "nbformat_minor": 2
}
