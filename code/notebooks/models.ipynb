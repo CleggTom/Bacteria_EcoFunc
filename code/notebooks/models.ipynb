{
 "cells": [
  {
   "cell_type": "code",
   "execution_count": 105,
   "metadata": {},
   "outputs": [],
   "source": [
    "#Load some modules etc\n",
    "%matplotlib inline\n",
    "import matplotlib.pyplot as plt\n",
    "from cycler import cycler\n",
    "\n",
    "from sympy import *\n",
    "import scipy as sc\n",
    "import numpy as np\n",
    "init_printing()"
   ]
  },
  {
   "cell_type": "markdown",
   "metadata": {},
   "source": [
    "# Introduction\n",
    "\n",
    "In this notebook I run thorugh the theory asociated with the microbial competition experiments. The basic idea is to develop a model which describes the temperature dependence of respiratory flux in communities with interacting species. This requires the model to not only describe the temperature dependence of metabolism itself (as classic MTE does) but also the change in flux that occurs due to the temperature dependence of species interactions. \n",
    "\n",
    "First I show how the temperature dependence of total respiratory flux of a population can be approximated assuming a temperature dependence of growth rate. I then describe growth in communities in multiple non-interacting species before moving to communities with species interactions. For now all of these models describe communities in the exponential growth phase where I assume that resources are non-limited (as is the case in the experiments). "
   ]
  },
  {
   "cell_type": "markdown",
   "metadata": {},
   "source": [
    "# Single Species model\n",
    "\n",
    "The total respiratory flux of a single species, $R_s$, can be obtained by multiplying it's carbon biomass $C_s$ with it's mass-specific flux, $\\tilde{R}_s$.\n",
    "\n",
    "\\begin{align}\n",
    "    R_s = C_s \\tilde{R}_s\n",
    "\\end{align}\n",
    "\n",
    "We rewrite the mass-specific respiration portion of this equation using a modified form of the Arrhenius equation:\n",
    "\n",
    "\\begin{align}\n",
    "    \\tilde{R}_s = \\tilde{R}_0 e^{-E_R (T_r - T_{ra})}\n",
    "\\end{align}\n",
    "\n",
    "and assuming the population is in the exponential growth phase, we can also write the biomass using the expontial growth formula:\n",
    "\n",
    "\\begin{align}\n",
    "    C_s = C_0 e^{rt}\n",
    "\\end{align}\n",
    "\n",
    "which when combined gives:\n",
    "\n",
    "\\begin{align}\n",
    "    R_s = C_0 e^{rt} \\tilde{R}_0 e^{-E_R (T_r - T_{ra})}\n",
    "\\end{align}\n",
    "\n",
    "looking at the model above we can see that in the case where growth,$r$, does not depend on temp the temperature dependence will be equal to the dependence of $\\tilde{R}_s$ ($E_R$)."
   ]
  },
  {
   "cell_type": "markdown",
   "metadata": {},
   "source": [
    "## Temperature dependent growth\n",
    "\n",
    "More realistic is the case where growth rate depends on temperature in addition to respiration. Though this may take several forms here I assume that it can be described using the Arrhenius equation:\n",
    "\n",
    "\\begin{align}\n",
    " r = r_0 e^{-E_r (T_r - T_{ra})}\n",
    "\\end{align}\n",
    "\n",
    "thus the total equation becomes: \n",
    "\n",
    "\\begin{align}\n",
    "    R_s = C_0 e^{t r_0 e^{-E_r (T_r - T_{ra})}} \\tilde{R}_0 e^{-E_R (T_r - T_{ra})}\n",
    "\\end{align}\n",
    "\n",
    "This means that the temperature dependence can no longer be described simply by the dependence of respiration. The double exponential form of the growth component prevents us from combining the two temperature terms straight away. To get arround this we can approximate the temperature dependence of the carbon biomass growth term ($C_s = C_0 e^{rt}$) by preforming a taylor series expansion around $T_r = T_{ra}$:"
   ]
  },
  {
   "cell_type": "code",
   "execution_count": 353,
   "metadata": {},
   "outputs": [
    {
     "data": {
      "image/png": "[encoded data removed]",
      "text/latex": [
       "$$C_{0} e^{r_{0} t e^{- E_{r} \\left(T_{r} - T_{ra}\\right)}}$$"
      ],
      "text/plain": [
       "          -Eᵣ⋅(Tᵣ - Tᵣₐ)\n",
       "    r₀⋅t⋅ℯ              \n",
       "C₀⋅ℯ                    "
      ]
     },
     "execution_count": 353,
     "metadata": {},
     "output_type": "execute_result"
    }
   ],
   "source": [
    "C_0,t,T_r,T_ra,E_r,r_0 = var(\"C_0,t,T_r,T_ra,E_r,r_0\")\n",
    "\n",
    "r = r_0 * exp(-E_r * (T_r - T_ra))\n",
    "grow = C_0 * exp(t*r)\n",
    "\n",
    "grow"
   ]
  },
  {
   "cell_type": "code",
   "execution_count": 354,
   "metadata": {},
   "outputs": [
    {
     "data": {
      "image/png": "[encoded data removed]",
      "text/latex": [
       "$$C_{0} e^{r_{0} t} e^{- E_{r} r_{0} t \\left(T_{r} - T_{ra}\\right)}$$"
      ],
      "text/plain": [
       "    r₀⋅t  -Eᵣ⋅r₀⋅t⋅(Tᵣ - Tᵣₐ)\n",
       "C₀⋅ℯ    ⋅ℯ                   "
      ]
     },
     "execution_count": 354,
     "metadata": {},
     "output_type": "execute_result"
    }
   ],
   "source": [
    "grow_log = log(grow)\n",
    "approx_grow = exp(grow_log.series(T_r,T_ra,2).removeO())\n",
    "approx_grow"
   ]
  },
  {
   "cell_type": "markdown",
   "metadata": {},
   "source": [
    "So the temperature dependence of biomass at time $t$ can be approximated as $-E_r r_0 t$. We can look at the quality of this apporoximation by looking at the next term of the taylor series which if the approxmiation is good, should be much smaller."
   ]
  },
  {
   "cell_type": "code",
   "execution_count": 355,
   "metadata": {},
   "outputs": [
    {
     "data": {
      "image/png": "[encoded data removed]",
      "text/latex": [
       "$$\\frac{1}{2} \\left|{E_{r} \\left(T_{r} - T_{ra}\\right)}\\right| < 1$$"
      ],
      "text/plain": [
       "│Eᵣ⋅(Tᵣ - Tᵣₐ)│    \n",
       "─────────────── < 1\n",
       "       2           "
      ]
     },
     "execution_count": 355,
     "metadata": {},
     "output_type": "execute_result"
    }
   ],
   "source": [
    "def taylor(n,x,a,f):\n",
    "    if(n == 0):\n",
    "        return(f.subs({x:a}))\n",
    "    else:\n",
    "        return((diff(f,x,n).subs({x:a}) / factorial(n)) * ((x-a) ** n))\n",
    "    \n",
    "approx = abs(taylor(2,T_r,T_ra,grow_log)/taylor(1,T_r,T_ra,grow_log)) < 1\n",
    "approx"
   ]
  },
  {
   "cell_type": "markdown",
   "metadata": {},
   "source": [
    "The value of the temperature term in this expression will range from 2.86 (at 275K) to -2.86 (at 315K). We substitute the maximum value of this into the inequality to get:"
   ]
  },
  {
   "cell_type": "code",
   "execution_count": 356,
   "metadata": {},
   "outputs": [
    {
     "data": {
      "image/png": "[encoded data removed]",
      "text/latex": [
       "$$1.43050439763874 \\left|{E_{r}}\\right| < 1$$"
      ],
      "text/plain": [
       "1.43050439763874⋅│Eᵣ│ < 1"
      ]
     },
     "execution_count": 356,
     "metadata": {},
     "output_type": "execute_result"
    }
   ],
   "source": [
    "k = 8.617e-5\n",
    "approx_T = approx.subs({T_r-T_ra:((1/(k*275)) - (1/(k*295)) )})\n",
    "approx_T"
   ]
  },
  {
   "cell_type": "code",
   "execution_count": 357,
   "metadata": {},
   "outputs": [
    {
     "data": {
      "image/png": "[encoded data removed]",
      "text/latex": [
       "$$-0.6990541249999995$$"
      ],
      "text/plain": [
       "-0.6990541249999995"
      ]
     },
     "execution_count": 357,
     "metadata": {},
     "output_type": "execute_result"
    }
   ],
   "source": [
    "-2 / ((1/(k*275)) - (1/(k*295)))"
   ]
  },
  {
   "cell_type": "markdown",
   "metadata": {},
   "source": [
    "which when we solve for $E_r$ gives:"
   ]
  },
  {
   "cell_type": "code",
   "execution_count": 358,
   "metadata": {},
   "outputs": [
    {
     "data": {
      "image/png": "[encoded data removed]",
      "text/latex": [
       "$$-0.699054125 < E_{r} \\wedge E_{r} < 0.699054125$$"
      ],
      "text/plain": [
       "-0.699054125 < Eᵣ ∧ Eᵣ < 0.699054125"
      ]
     },
     "execution_count": 358,
     "metadata": {},
     "output_type": "execute_result"
    }
   ],
   "source": [
    "solve(approx_T)"
   ]
  },
  {
   "cell_type": "markdown",
   "metadata": {},
   "source": [
    "So for the approximation to be good the temperature sensivity of growth must be smaller than $0.69$. We can test this graphically by plotting the temperature dependence of growth:"
   ]
  },
  {
   "cell_type": "code",
   "execution_count": 376,
   "metadata": {},
   "outputs": [
    {
     "data": {
      "image/png": "[encoded data removed]",
      "text/plain": [
       "<matplotlib.figure.Figure at 0x113eeaa58>"
      ]
     },
     "metadata": {},
     "output_type": "display_data"
    },
    {
     "data": {
      "text/plain": [
       "<sympy.plotting.plot.Plot at 0x113eea940>"
      ]
     },
     "execution_count": 376,
     "metadata": {},
     "output_type": "execute_result"
    }
   ],
   "source": [
    "T = var(\"T\")\n",
    "\n",
    "real_growth =        grow.subs({C_0:1,r_0:1,t:2,T_r:1/(k*T),T_ra:1/(k*295),E_r:0.39})\n",
    "appr_growth = approx_grow.subs({C_0:1,r_0:1,t:2,T_r:1/(k*T),T_ra:1/(k*295),E_r:0.39})\n",
    "\n",
    "plot(real_growth,appr_growth,(T,275,315))"
   ]
  },
  {
   "cell_type": "markdown",
   "metadata": {},
   "source": [
    "Needs work, i dont think the inequality is correct..."
   ]
  },
  {
   "cell_type": "markdown",
   "metadata": {},
   "source": [
    "### Total respiration\n",
    "\n",
    "using this approximation of growth we can get the temperature dependence of total respiration by substituting in the new growth term. This means we go from:\n",
    "\n",
    "\\begin{align}\n",
    "    R_s = C_0 e^{t r_0 e^{-E_r (T_r - T_{ra})}} \\tilde{R}_0 e^{-E_R (T_r - T_{ra})}\n",
    "\\end{align} \n",
    "\n",
    "to:\n",
    "\n",
    "\\begin{align}\n",
    "    R_s &= C_{0} e^{r_{0} t} e^{- E_{r} r_{0} t (T_{r} - T_{ra})} \\tilde{R}_0 e^{-E_R (T_r - T_{ra})} \\\\\n",
    "    &= C_{0} \\tilde{R}_0 e^{r_{0} t}  e^{(-E_R - E_{r} r_{0} t) (T_r - T_{ra})}\n",
    "\\end{align}\n",
    "\n",
    "So the temperature dependence of total respiration can be expressed as $-E_R - E_{r} r_{0} t$ "
   ]
  },
  {
   "cell_type": "markdown",
   "metadata": {},
   "source": [
    "# Two species model\n",
    "\n",
    "We can extend this model of total respiration to a two species system. In the simplest case with no interactions (i.e. the growth rates of both species are independent) we can write the respiration in the system as:\n",
    "\n",
    "\\begin{align}\n",
    "    R_{tot} &= R_1 + R_2 \\\\\n",
    "            &= C_1 \\tilde{R}_1 + C_2 \\tilde{R}_2 \\\\\n",
    "            &= C_{0_1} \\tilde{R}_{0_1} e^{r_{0_1} t}  e^{(-E_{R_1} - E_{r_1} r_{0_1} t) (T_r - T_{ra})} + \n",
    "               C_{0_2} \\tilde{R}_{0_2} e^{r_{0_2} t}  e^{(-E_{R_2} - E_{r_2} r_{0_2} t) (T_r - T_{ra})}\n",
    "\\end{align}\n",
    "\n",
    "we can simplify this somewhat by assuing that the starting biomass for each species is equal (i.e. $C_{0_1} = C_{0_2}$). As with the classic static model we can approximate this sum of boltzman-type equations by taking the log and using a taylor series expansion around the point $T_r = T_{ra}$: "
   ]
  },
  {
   "cell_type": "code",
   "execution_count": 207,
   "metadata": {},
   "outputs": [
    {
     "data": {
      "image/png": "[encoded data removed]",
      "text/latex": [
       "$$C_{0} R_{0_1} e^{r_{0_1} t} e^{\\left(- E_{R_1} - E_{r_1} r_{0_1} t\\right) \\left(T_{r} - T_{ra}\\right)} + C_{0} R_{0_2} e^{r_{0_2} t} e^{\\left(- E_{R_2} - E_{r_2} r_{0_2} t\\right) \\left(T_{r} - T_{ra}\\right)}$$"
      ],
      "text/plain": [
       "            r_{0_1}⋅t  (-E_{R_1} - E_{r_1}⋅r_{0_1}⋅t)⋅(Tᵣ - Tᵣₐ)              \n",
       "C₀⋅R_{0_1}⋅ℯ         ⋅ℯ                                          + C₀⋅R_{0_2}⋅\n",
       "\n",
       " r_{0_2}⋅t  (-E_{R_2} - E_{r_2}⋅r_{0_2}⋅t)⋅(Tᵣ - Tᵣₐ)\n",
       "ℯ         ⋅ℯ                                         "
      ]
     },
     "execution_count": 207,
     "metadata": {},
     "output_type": "execute_result"
    }
   ],
   "source": [
    "R1,R2,ER1,ER2 = var(\"R_{0_1},R_{0_2},E_{R_1},E_{R_2}\")\n",
    "r1,r2,Er1,Er2 = var(\"r_{0_1},r_{0_2},E_{r_1},E_{r_2}\")\n",
    "t,T_r,T_ra,C_0 = var(\"t,T_r,T_ra,C_0\")\n",
    "\n",
    "\n",
    "one = C_0 * R1 * exp(r1*t) * exp((-ER1 - (Er1*r1*t))*(T_r-T_ra))\n",
    "two = C_0 * R2 * exp(r2*t) * exp((-ER2 - (Er2*r2*t))*(T_r-T_ra))\n",
    "\n",
    "one + two"
   ]
  },
  {
   "cell_type": "code",
   "execution_count": 209,
   "metadata": {},
   "outputs": [
    {
     "data": {
      "image/png": "[encoded data removed]",
      "text/latex": [
       "$$C_{0} \\left(R_{0_1} e^{r_{0_1} t} + R_{0_2} e^{r_{0_2} t}\\right) e^{\\left(T_{r} - T_{ra}\\right) \\left(- \\frac{C_{0} E_{R_1} R_{0_1} e^{r_{0_1} t}}{C_{0} R_{0_1} e^{r_{0_1} t} + C_{0} R_{0_2} e^{r_{0_2} t}} - \\frac{C_{0} E_{R_2} R_{0_2} e^{r_{0_2} t}}{C_{0} R_{0_1} e^{r_{0_1} t} + C_{0} R_{0_2} e^{r_{0_2} t}} - \\frac{C_{0} E_{r_1} R_{0_1} r_{0_1} t e^{r_{0_1} t}}{C_{0} R_{0_1} e^{r_{0_1} t} + C_{0} R_{0_2} e^{r_{0_2} t}} - \\frac{C_{0} E_{r_2} R_{0_2} r_{0_2} t e^{r_{0_2} t}}{C_{0} R_{0_1} e^{r_{0_1} t} + C_{0} R_{0_2} e^{r_{0_2} t}}\\right)}$$"
      ],
      "text/plain": [
       "                                                         ⎛                    \n",
       "                                                         ⎜          C₀⋅E_{R_1}\n",
       "                                              (Tᵣ - Tᵣₐ)⋅⎜- ──────────────────\n",
       "                                                         ⎜              r_{0_1\n",
       "   ⎛         r_{0_1}⋅t            r_{0_2}⋅t⎞             ⎝  C₀⋅R_{0_1}⋅ℯ      \n",
       "C₀⋅⎝R_{0_1}⋅ℯ          + R_{0_2}⋅ℯ         ⎠⋅ℯ                                \n",
       "\n",
       "          r_{0_1}⋅t                                       r_{0_2}⋅t           \n",
       "⋅R_{0_1}⋅ℯ                            C₀⋅E_{R_2}⋅R_{0_2}⋅ℯ                    \n",
       "─────────────────────────── - ───────────────────────────────────────────── - \n",
       "}⋅t               r_{0_2}⋅t               r_{0_1}⋅t               r_{0_2}⋅t   \n",
       "    + C₀⋅R_{0_2}⋅ℯ            C₀⋅R_{0_1}⋅ℯ          + C₀⋅R_{0_2}⋅ℯ            \n",
       "                                                                              \n",
       "\n",
       "                                 r_{0_1}⋅t                                    \n",
       "   C₀⋅E_{r_1}⋅R_{0_1}⋅r_{0_1}⋅t⋅ℯ                  C₀⋅E_{r_2}⋅R_{0_2}⋅r_{0_2}⋅\n",
       "───────────────────────────────────────────── - ──────────────────────────────\n",
       "            r_{0_1}⋅t               r_{0_2}⋅t               r_{0_1}⋅t         \n",
       "C₀⋅R_{0_1}⋅ℯ          + C₀⋅R_{0_2}⋅ℯ            C₀⋅R_{0_1}⋅ℯ          + C₀⋅R_{\n",
       "                                                                              \n",
       "\n",
       "   r_{0_2}⋅t   ⎞\n",
       "t⋅ℯ            ⎟\n",
       "───────────────⎟\n",
       "      r_{0_2}⋅t⎟\n",
       "0_2}⋅ℯ         ⎠\n",
       "                "
      ]
     },
     "execution_count": 209,
     "metadata": {},
     "output_type": "execute_result"
    }
   ],
   "source": [
    "exp(log(one+two).series(T_r,T_ra,2).removeO())"
   ]
  },
  {
   "cell_type": "markdown",
   "metadata": {},
   "source": [
    "this result can be simplified and generalised to the n-species case where:\n",
    "\n",
    "\\begin{align}\n",
    "    R_{tot} = C_0 \\sum_{s = 0}^{n} R_{0_s} e^{r_{0_s} t} e^{(T_r - T_{ra}) \n",
    "    \\frac{C_0 \\sum_{s = 0}^{n} R_{0_s} e^{r_{0_s} t} (-E_{R_s} - E_{r_s} r_{0_s} t)}\n",
    "         {C_0 \\sum_{s = 0}^{n} R_{0_s} e^{r_{0_s} t}} }\n",
    "\\end{align}\n",
    "\n",
    "so the temperature sensitivity is the weighted average of the sensitivites of each component. "
   ]
  },
  {
   "cell_type": "markdown",
   "metadata": {},
   "source": [
    "## Species interactions\n",
    "\n",
    "The model above does not include species interactions. We can include these interactions as changes in growth rate which can simply be included as adative effects in the growth model\n",
    "\n",
    "\\begin{align}\n",
    "    \\frac{dC_1}{dt} = C_1 (r_1 + \\alpha_1 C_2)\n",
    "    \\\\\n",
    "    \\\\\n",
    "    \\frac{dC_2}{dt} = C_2 (r_2 + \\alpha_2 C_1)\n",
    "\\end{align}\n",
    "\n",
    "where $r_s$ is the mass-specific growth rate and $\\alpha_s$ is the mass-specific effect on the growth of species $s$   As with the classic exponential growth model we can solve this equation to get the biomass at time $t$, $C_s(t)$ which gives:\n",
    "\n",
    "\\begin{align}\n",
    "    C_1(t) &= C_0 e^{t(r_1 + \\alpha_1 C_2)} \\\\\n",
    "           &= C_0 e^{t(r_1 + \\alpha_1 C_0 e^{t(r_2 + \\alpha_2 C_1)})}\n",
    "\\end{align}"
   ]
  },
  {
   "cell_type": "code",
   "execution_count": null,
   "metadata": {},
   "outputs": [],
   "source": []
  },
  {
   "cell_type": "code",
   "execution_count": 352,
   "metadata": {},
   "outputs": [
    {
     "data": {
      "image/png": "[encoded data removed]",
      "text/latex": [
       "$$C_{0} e^{t \\left(C_{2} a_{1} + r_{1}\\right)}$$"
      ],
      "text/plain": [
       "    t⋅(C₂⋅a₁ + r₁)\n",
       "C₀⋅ℯ              "
      ]
     },
     "execution_count": 352,
     "metadata": {},
     "output_type": "execute_result"
    }
   ],
   "source": [
    "C_1,C_2,r_1,r_2,t,a_1,a_2,C_0 = var(\"C_1,C_2,r_1,r_2,t,a_1,a_2,C_0\")\n",
    "\n",
    "dC_1 = C_1 * (r_1 + a_1*C_2)\n",
    "dC_2 = C_2 * (r_2 + a_2*C_1)\n",
    "\n",
    "\n",
    "\n",
    "C_1_sol = exp(integrate(r_1+a_1*C_2,t) + log(C_0))\n",
    "C_2_sol = exp(integrate(r_2+a_2*C_1,t) + log(C_0))\n",
    "\n",
    "C_1_full = C_1_sol.subs({C_2:C_2_sol})\n",
    "\n",
    "# p1 = log(C_1_sol.subs({C_2:C_2_sol})).series(t,0,2).removeO()\n",
    "\n",
    "\n",
    "# expand_log(p1,force=true)\n",
    "C_1_sol"
   ]
  }
 ],
 "metadata": {
  "kernelspec": {
   "display_name": "Python [conda env:EcoFunc]",
   "language": "python",
   "name": "conda-env-EcoFunc-py"
  },
  "language_info": {
   "codemirror_mode": {
    "name": "ipython",
    "version": 3
   },
   "file_extension": ".py",
   "mimetype": "text/x-python",
   "name": "python",
   "nbconvert_exporter": "python",
   "pygments_lexer": "ipython3",
   "version": "3.6.4"
  },
  "toc": {
   "nav_menu": {},
   "number_sections": true,
   "sideBar": true,
   "skip_h1_title": false,
   "title_cell": "Table of Contents",
   "title_sidebar": "Contents",
   "toc_cell": false,
   "toc_position": {},
   "toc_section_display": true,
   "toc_window_display": false
  }
 },
 "nbformat": 4,
 "nbformat_minor": 2
}
