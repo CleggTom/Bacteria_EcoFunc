{
 "cells": [
  {
   "cell_type": "code",
   "execution_count": 1,
   "metadata": {},
   "outputs": [],
   "source": [
    "#Load some modules etc\n",
    "%matplotlib inline\n",
    "import matplotlib.pyplot as plt\n",
    "from cycler import cycler\n",
    "\n",
    "from sympy import *\n",
    "import scipy as sc\n",
    "import numpy as np\n",
    "init_printing()"
   ]
  },
  {
   "cell_type": "markdown",
   "metadata": {},
   "source": [
    "# Introduction\n",
    "\n",
    "In this notebook I run thorugh the theory asociated with the microbial competition experiments. The basic idea is to develop a model which describes the temperature dependence of respiratory flux in communities with interacting species. This requires the model to not only describe the temperature dependence of metabolism itself (as classic MTE does) but also the change in flux that occurs due to the temperature dependence of species interactions. \n",
    "\n",
    "First I show how the temperature dependence of total respiratory flux of a population can be approximated assuming a temperature dependence of growth rate. I then describe growth in communities in multiple non-interacting species before moving to communities with species interactions. For now all of these models describe communities in the exponential growth phase where I assume that resources are non-limited (as is the case in the experiments). "
   ]
  },
  {
   "cell_type": "markdown",
   "metadata": {},
   "source": [
    "# Single Species model\n",
    "\n",
    "First I will show how the temperature dependence of total respiratory flux of a population can be derived from the temperature dependence of its mass-specific respiration and carbon uptake. The total respiratory flux of carbon for a single species popualtion $s$ is equal to it's mass specific flux times its biomass\n",
    "\n",
    "\\begin{align}\n",
    "    R_s = C_s \\tilde{R}_s\n",
    "\\end{align}\n",
    "\n",
    "where $R_s$ is the total respiratory flux of species $s$, $C_s$ the carbon biomass and $\\tilde{R}$ the mass-specific respiratory flux. In order to determine the temperature dependence of total flux we need to work out the temperature dependence of both the biomass and mass-specific respiration. "
   ]
  },
  {
   "cell_type": "markdown",
   "metadata": {},
   "source": [
    "## Temperature dependence of respiration\n",
    "\n",
    "Obtaining the temperature dependence of respiration ($\\tilde{R}_s$) is easy as we can simply use the boltzmann equation to represent the respiratory rate:\n",
    "\n",
    "\\begin{align}\n",
    "    \\tilde{R}_s(T) = \\tilde{R_s}_0 e^{-E_\\tilde{R_s} (T_r - T_{ra})}\n",
    "\\end{align}\n",
    "\n",
    "where $\\tilde{R}_s(T)$ is the respiration at temperature $T$, $\\tilde{R}_{s_0}$ is respiration at some reference temperature, $E_{\\tilde{R}_s}$ is the the tempeature sensitivty of respiration and $T_r$ and $T_{ra}$ are the Boltzmann corrected temperature and reference temperature respectively. Thus the equation for total flux becomes:\n",
    "\n",
    "\\begin{align}\n",
    "    R_s = C_s \\tilde{R_s}_0 e^{-E_\\tilde{R_s} (T_r - T_{ra})}\n",
    "\\end{align}"
   ]
  },
  {
   "cell_type": "markdown",
   "metadata": {},
   "source": [
    "## Temperature dependence of biomass\n",
    "\n",
    "Obtaining the temperature dependence of carbon biomass is more difficult as biomass is not directly dependent on temperature. Instead temperature affects the rate of biomass change in the population meaning that its effects are time dependent. Thus, we must also account for time when looking at the temperature dependence of biomass. \n",
    "\n",
    "To do this we need to consider how biomass evolves over time and develop a model for microbe growth. I start with the basic observation that change in carbon biomass is simply the carbon uptake minus carbon loss:\n",
    "\n",
    "\\begin{align}\n",
    "    \\frac{dC}{dt} = \\text{uptake} - \\text{loss}\n",
    "\\end{align}\n",
    "\n",
    "### Uptake\n",
    "\n",
    "A common approach to model the uptake of carbon in microbes is to use a Michaelis-Menten type model:\n",
    "\n",
    "\\begin{align}\n",
    "    \\mu = \\mu_{max} \\frac{C}{k_s + C}\n",
    "\\end{align}\n",
    "\n",
    "where $\\mu$ is the uptake rate (and $\\mu_{max}$ the maximum uptake rate), $C$ is the amount of carbon avalible in the enviroment and $k_s$ is the half saturation constant at which carbon uptake is 50% of the maximum. Given that we are modeling popualtions in the exponential growth phase we assume that resources are not limiting such that ${C\\to\\infty}$ meaning that the value of $\\frac{C}{k_s + C} \\to 1$. Thus we can use the first order approximation to represent uptake $\\mu = \\mu_{max}$.\n",
    "\n",
    "### Loss\n",
    "\n",
    "Here I assume that the loss of carbon occurs solely via respiratory losses. In doing so I ignore mortality as it is likley small in regards to other carbon fluxes in the system. I start by seperating respiratory losses into two components, respiration for growth $R_g$ and respiration for maintenence $R_m$. At any point total losses are given by the sum of these terms with $R = R_g + R_m$. Thus the total equation for biomass change becomes:\n",
    "\n",
    "\\begin{align}\n",
    "    \\frac{dC}{dt} &= \\mu - R \\\\ &= \\mu - R_g - R_m\n",
    "\\end{align}\n",
    "\n",
    "Respiration for growth occurs as carbon is assimilated into biomass via an imperfect process which results in some carbon loss. This rate of carbon loss is proportional to the growth rate such that $R_g = (1 - \\epsilon) \\mu$ where $\\epsilon = \\frac{bio}{\\mu}$ (i.e the proportion of carbon uptake used for new biomass growth). subsituting this into the equation above gives:\n",
    "\n",
    "\\begin{align}\n",
    "    \\frac{dC}{dt} &= \\mu - (1 - \\epsilon) \\mu - R_m \\\\\n",
    "                  &= \\mu - \\mu + \\epsilon \\mu - R_m \\\\\n",
    "                  &= \\epsilon \\mu - R_m\n",
    "\\end{align}\n",
    "\n",
    "Expressing these rates as mass specific terms we can rewrite the change in biomass as:\n",
    "\n",
    "\\begin{align}\n",
    "    \\frac{1}{C}\\frac{dC}{dt} = \\epsilon \\tilde{\\mu} - \\tilde{R}_m\n",
    "\\end{align}\n",
    "\n",
    "We can use seperation of variables to get the general solution of this equation:\n",
    "\n",
    "\\begin{align}\n",
    "    C(t) &= C_0 e^{t (\\epsilon \\tilde{\\mu} - \\tilde{R_m}) } \\\\\n",
    "         &= C_0 e^{t \\epsilon \\tilde{\\mu}} e^{- t \\tilde{R_m}}\n",
    "\\end{align}\n",
    "\n",
    "To get the temperature dependence of this process we need only substitute the Boltzmann equation for the $\\tilde{\\mu}$ and $\\tilde{R_m}$ terms which gives:\n",
    "\n",
    "\\begin{align}\n",
    "    C(t,T) = C_0 e^{t \\epsilon \\tilde{\\mu}_0 e^{-E_{\\tilde{\\mu}} (T_r - T_{ra})}} e^{- t  \\tilde{R_m}_0 e^{-E_{\\tilde{R_m}} (T_r - T_{ra})}}\n",
    "\\end{align}\n",
    "\n",
    "In this form it is not possible to get an expression for the temperature dependence of growth (a single coefficent of $(T_r-T_{ra})$) due to the double exponentials. We can take the log and use a taylor expansion around the point $T_r = T_{ra}$ to get around this:"
   ]
  },
  {
   "cell_type": "code",
   "execution_count": 53,
   "metadata": {},
   "outputs": [
    {
     "data": {
      "image/png": "[encoded data removed]",
      "text/latex": [
       "$$C_{0} e^{- R_{0} t + \\epsilon t u_{0} + \\left(T_{r} - T_{ra}\\right) \\left(E_{R} R_{0} t - E_{u} \\epsilon t u_{0}\\right)}$$"
      ],
      "text/plain": [
       "    -R₀⋅t + \\epsilon⋅t⋅u₀ + (Tᵣ - Tᵣₐ)⋅(E_R⋅R₀⋅t - Eᵤ⋅\\epsilon⋅t⋅u₀)\n",
       "C₀⋅ℯ                                                                "
      ]
     },
     "execution_count": 53,
     "metadata": {},
     "output_type": "execute_result"
    }
   ],
   "source": [
    "t,e,u_0,E_u,R_0,E_R,C_0,T_r,T_ra = var(\"t,\\epsilon,u_0,E_u,R_0,E_R,C_0,T_r,T_ra\")\n",
    "\n",
    "ep = e\n",
    "gr = u_0 * exp(-E_u * (T_r - T_ra))\n",
    "re = R_0 * exp(-E_R * (T_r - T_ra))\n",
    "\n",
    "C = C_0 * exp (t * (ep * gr) - (t* re) )\n",
    "\n",
    "C_log=  expand_log(log(C),force=true)\n",
    "C_approx = exp(C_log.series(T_r,T_ra,2).removeO())\n",
    "C_approx"
   ]
  },
  {
   "cell_type": "markdown",
   "metadata": {},
   "source": [
    "Combining the approximation above with the temperature dependence of respiration we can rewrite the equation for total respiration as:\n",
    "\n",
    "\\begin{align}\n",
    "    R_s \\approx C_0 e^{-\\tilde{R_m}_{s_0} t + \\tilde{\\mu}_{s_0} \\epsilon_s t +\n",
    "                (E_{\\tilde{R_m}_s} \\tilde{R_m}_{s_0} t -\n",
    "                 E_{\\mu_s} \\mu_{s_0} \\epsilon_s t)(T_r - T_{ra})} \n",
    "    \\tilde{R}_{s_0} e^{-E_{\\tilde{R_m}_s} (T_r - T_{ra})}\n",
    "\\end{align}\n",
    "\n",
    "which means we can get the coefficent of $(T_r - T_{ra})$ for total respiration:\n",
    "\n",
    "\\begin{align}\n",
    "    E_{R_s} &\\approx -E_{\\tilde{R}_s} + E_{\\tilde{R_m}_s} \\tilde{R_m}_{s_0}  t - E_{\\tilde{\\mu_s}} \\tilde{\\mu_s}_0 t \\epsilon_s\\\\\n",
    "            &\\approx -E_{\\tilde{R_m}_s} - E_{\\tilde{R_g}_s} + E_{\\tilde{R_m}_s} \\tilde{R_m}_{s_0} t - E_{\\tilde{\\mu_s}} \\tilde{\\mu_s}_0 t \\epsilon_s\n",
    "\\end{align}\n",
    "\n",
    "Looking at this equation we can see several interesting features of the model:\n",
    "\n",
    "- Increasing the sensitivity of $E_\\tilde{R_s}$ will not always increase the sensitvity of total respiration due it it's negative effects on growth rates. This will depend on how it increases though (i.e. we can increase growth respiration or maintenance) \n",
    "\n",
    "- Increasing the time ($t$) will increase the temperature sensitvity of total respiration (due to the multiplication of growth and respiration but only if $E_{\\tilde{R}_s} \\tilde{R}_{s_0} < E_{\\mu_s} \\mu_{s_0} \\epsilon_s$"
   ]
  },
  {
   "cell_type": "markdown",
   "metadata": {},
   "source": [
    "# Multispecies model\n",
    "\n",
    "In this section I will show how we can derive the temperature dependence of total system flux in multispecies communities. I first show how this is possible in two species communities without interactions before generalising to the n-species case and communities where interactions occur. "
   ]
  },
  {
   "cell_type": "markdown",
   "metadata": {},
   "source": [
    "## Non-interacting communities\n",
    "\n",
    "In a system with two species and no interactions the total flux in the system can simply be described as the sum of the species level fluxes:\n",
    "\n",
    "\\begin{align}\n",
    "        R_{tot} &= R_1 + R_2 \\\\\n",
    "                &= C_1 \\tilde{R}_1 + C_2 \\tilde{R}_2 \\\\\n",
    "                &= C_{0_1} \\tilde{R}_{1_0} e^{ \\gamma_1 + E_{R_1}(T_r - T_{ra})} +\n",
    "                   C_{0_2} \\tilde{R}_{2_0} e^{ \\gamma_2 + E_{R_2}(T_r - T_{ra})}\n",
    "\\end{align}\n",
    "\n",
    "where $\\gamma_s = -\\tilde{R}_{s_0} \\epsilon_s t + \\mu_{s_0} \\epsilon_s t$ and $E_{R_s} = -E_\\tilde{R_s} + E_{\\tilde{R}_s} \\tilde{R}_{s_0} \\epsilon_s t - E_{\\mu_s} \\mu_{s_0} \\epsilon_s t$. \n",
    "\n",
    "We can use the taylor expansion trick to convert this into a single TPC:"
   ]
  },
  {
   "cell_type": "code",
   "execution_count": 3,
   "metadata": {},
   "outputs": [
    {
     "data": {
      "image/png": "[encoded data removed]",
      "text/latex": [
       "$$\\log{\\left (C_{0_1} R_{0_1} e^{E_{R_1} \\left(T_{r} - T_{ra}\\right) + \\gamma_1} + C_{0_2} R_{0_2} e^{E_{R_2} \\left(T_{r} - T_{ra}\\right) + \\gamma_2} \\right )}$$"
      ],
      "text/plain": [
       "   ⎛                 E_{R_1}⋅(Tᵣ - Tᵣₐ) + \\gamma₁                    E_{R_2}⋅(\n",
       "log⎝C_{0_1}⋅R_{0_1}⋅ℯ                             + C_{0_2}⋅R_{0_2}⋅ℯ         \n",
       "\n",
       "Tᵣ - Tᵣₐ) + \\gamma₂⎞\n",
       "                   ⎠"
      ]
     },
     "execution_count": 3,
     "metadata": {},
     "output_type": "execute_result"
    }
   ],
   "source": [
    "C_01,C_02,R_01,R_02 = var(\"C_{0_1},C_{0_2},R_{0_1},R_{0_2}\")\n",
    "T_r,T_ra = var(\"T_r,T_ra\")\n",
    "\n",
    "e1,e2,t = var(\"\\epsilon_1,\\epsilon_2,t\")\n",
    "u_01,u_02 = var(\"\\mu_{0_1},\\mu_{0_2}\")\n",
    "E_R1, E_R2, E_u1, E_u2 = var(\"E_{R_1}, E_{R_2}, E_{u_1}, E_{u_2}\")\n",
    "\n",
    "g1,g2 = var(\"\\gamma_1,\\gamma_2\")\n",
    "\n",
    "E_R_1 , E_R_2 = var(\"E_{R_1},E_{R_2}\")\n",
    "\n",
    "R1 = C_01 * R_01 * exp(g1 + E_R_1*(T_r-T_ra))\n",
    "R2 = C_02 * R_02 * exp(g2 + E_R_2*(T_r-T_ra))\n",
    "\n",
    "\n",
    "R_tot = R1 + R2\n",
    "log(R_tot)"
   ]
  },
  {
   "cell_type": "code",
   "execution_count": 4,
   "metadata": {},
   "outputs": [
    {
     "data": {
      "image/png": "[encoded data removed]",
      "text/latex": [
       "$$\\left(C_{0_1} R_{0_1} e^{\\gamma_1} + C_{0_2} R_{0_2} e^{\\gamma_2}\\right) e^{\\left(T_{r} - T_{ra}\\right) \\left(\\frac{C_{0_1} E_{R_1} R_{0_1} e^{\\gamma_1}}{C_{0_1} R_{0_1} e^{\\gamma_1} + C_{0_2} R_{0_2} e^{\\gamma_2}} + \\frac{C_{0_2} E_{R_2} R_{0_2} e^{\\gamma_2}}{C_{0_1} R_{0_1} e^{\\gamma_1} + C_{0_2} R_{0_2} e^{\\gamma_2}}\\right)}$$"
      ],
      "text/plain": [
       "                                                                  ⎛           \n",
       "                                                                  ⎜          C\n",
       "                                                       (Tᵣ - Tᵣₐ)⋅⎜───────────\n",
       "                                                                  ⎜           \n",
       "⎛                 \\gamma₁                    \\gamma₂⎞             ⎝C_{0_1}⋅R_{\n",
       "⎝C_{0_1}⋅R_{0_1}⋅ℯ        + C_{0_2}⋅R_{0_2}⋅ℯ       ⎠⋅ℯ                       \n",
       "\n",
       "                        \\gamma₁                                               \n",
       "_{0_1}⋅E_{R_1}⋅R_{0_1}⋅ℯ                             C_{0_2}⋅E_{R_2}⋅R_{0_2}⋅ℯ\n",
       "──────────────────────────────────────── + ───────────────────────────────────\n",
       "      \\gamma₁                    \\gamma₂                    \\gamma₁           \n",
       "0_1}⋅ℯ        + C_{0_2}⋅R_{0_2}⋅ℯ          C_{0_1}⋅R_{0_1}⋅ℯ        + C_{0_2}⋅\n",
       "                                                                              \n",
       "\n",
       "\\gamma₂         ⎞\n",
       "                ⎟\n",
       "────────────────⎟\n",
       "         \\gamma₂⎟\n",
       "R_{0_2}⋅ℯ       ⎠\n",
       "                 "
      ]
     },
     "execution_count": 4,
     "metadata": {},
     "output_type": "execute_result"
    }
   ],
   "source": [
    "exp((log(R_tot).series(T_r,T_ra,2).removeO()))"
   ]
  },
  {
   "cell_type": "markdown",
   "metadata": {},
   "source": [
    "This can simplified to the N-species case giving:\n",
    "\n",
    "\\begin{align}\n",
    "    R_{tot} \\approx \\sum_{s=0}^{n} C_{0_s} R_{0_s} e^{\\gamma_s} \n",
    "              e^{(T_r - T_ra) \\left(\\frac{C_{0_s} R_{0_s} e^{\\gamma_s} E_{R_s}}\n",
    "              {\\sum_{p=0}^{n} C_{0_p} R_{0_p} e^{\\gamma_p}} \\right)}\n",
    "\\end{align}\n",
    "\n",
    "with $\\gamma_s$ and $E_{R_s}$ having the same values as above. From this equation we can see that in a non-interacting community (i.e. where rates of biomass growth are independent) the temperature dependence of total respiratory flux is simply the weighted average of each populations flux:\n",
    "\n",
    "\\begin{align}\n",
    "    E_{R_{tot}} \\approx \\sum_{s=0}^{n} \\frac{C_{0_s} R_{0_s} e^{\\gamma_s} E_{R_s}}\n",
    "                                            {\\sum_{p=0}^{n} C_{0_p} R_{0_p} e^{\\gamma_p}}\n",
    "\\end{align}"
   ]
  },
  {
   "cell_type": "markdown",
   "metadata": {},
   "source": [
    "## Interacting communities"
   ]
  },
  {
   "cell_type": "markdown",
   "metadata": {},
   "source": [
    "The real challenge here is the question of how the hell we include species interactions? The obvious way to do it is to go back to the original growth model and add another term. There needs to be some assumption of mechanism in this model as interactions must either modify the allocation to growth $\\epsilon$ or the total uptake $\\mu$. Given that we are assuming that resources are unlimited in this scenario it is reasonable to assume that the value of $\\mu$ is constant. Normally this term would be represented using a michelas-menten model but "
   ]
  },
  {
   "cell_type": "code",
   "execution_count": null,
   "metadata": {},
   "outputs": [],
   "source": []
  },
  {
   "cell_type": "markdown",
   "metadata": {},
   "source": [
    "# Extra stuff"
   ]
  },
  {
   "cell_type": "markdown",
   "metadata": {},
   "source": [
    "## Temperature dependent growth\n",
    "\n",
    "More realistic is the case where growth rate depends on temperature in addition to respiration. Though this may take several forms here I assume that it can be described using the Arrhenius equation:\n",
    "\n",
    "\\begin{align}\n",
    " r = r_0 e^{-E_r (T_r - T_{ra})}\n",
    "\\end{align}\n",
    "\n",
    "thus the total equation becomes: \n",
    "\n",
    "\\begin{align}\n",
    "    R_s = C_0 e^{t r_0 e^{-E_r (T_r - T_{ra})}} \\tilde{R}_0 e^{-E_R (T_r - T_{ra})}\n",
    "\\end{align}\n",
    "\n",
    "This means that the temperature dependence can no longer be described simply by the dependence of respiration. The double exponential form of the growth component prevents us from combining the two temperature terms straight away. To get arround this we can approximate the temperature dependence of the carbon biomass growth term ($C_s = C_0 e^{rt}$) by preforming a taylor series expansion around $T_r = T_{ra}$:"
   ]
  },
  {
   "cell_type": "code",
   "execution_count": 2,
   "metadata": {},
   "outputs": [
    {
     "data": {
      "image/png": "[encoded data removed]",
      "text/latex": [
       "$$C_{0} e^{r_{0} t e^{- E_{r} \\left(T_{r} - T_{ra}\\right)}}$$"
      ],
      "text/plain": [
       "          -Eᵣ⋅(Tᵣ - Tᵣₐ)\n",
       "    r₀⋅t⋅ℯ              \n",
       "C₀⋅ℯ                    "
      ]
     },
     "execution_count": 2,
     "metadata": {},
     "output_type": "execute_result"
    }
   ],
   "source": [
    "C_0,t,T_r,T_ra,E_r,r_0 = var(\"C_0,t,T_r,T_ra,E_r,r_0\")\n",
    "\n",
    "r = r_0 * exp(-E_r * (T_r - T_ra))\n",
    "grow = C_0 * exp(t*r)\n",
    "\n",
    "grow"
   ]
  },
  {
   "cell_type": "code",
   "execution_count": 3,
   "metadata": {},
   "outputs": [
    {
     "data": {
      "image/png": "[encoded data removed]",
      "text/latex": [
       "$$C_{0} e^{r_{0} t} e^{- E_{r} r_{0} t \\left(T_{r} - T_{ra}\\right)}$$"
      ],
      "text/plain": [
       "    r₀⋅t  -Eᵣ⋅r₀⋅t⋅(Tᵣ - Tᵣₐ)\n",
       "C₀⋅ℯ    ⋅ℯ                   "
      ]
     },
     "execution_count": 3,
     "metadata": {},
     "output_type": "execute_result"
    }
   ],
   "source": [
    "grow_log = log(grow)\n",
    "approx_grow = exp(grow_log.series(T_r,T_ra,2).removeO())\n",
    "approx_grow"
   ]
  },
  {
   "cell_type": "markdown",
   "metadata": {},
   "source": [
    "So the temperature dependence of biomass at time $t$ can be approximated as $-E_r r_0 t$. We can look at the quality of this apporoximation by looking at the next term of the taylor series which if the approxmiation is good, should be much smaller."
   ]
  },
  {
   "cell_type": "code",
   "execution_count": 8,
   "metadata": {},
   "outputs": [
    {
     "data": {
      "image/png": "[encoded data removed]",
      "text/latex": [
       "$$\\frac{1}{2} \\left|{E_{r} \\left(T_{r} - T_{ra}\\right)}\\right| < 0.5$$"
      ],
      "text/plain": [
       "│Eᵣ⋅(Tᵣ - Tᵣₐ)│      \n",
       "─────────────── < 0.5\n",
       "       2             "
      ]
     },
     "execution_count": 8,
     "metadata": {},
     "output_type": "execute_result"
    }
   ],
   "source": [
    "def taylor(n,x,a,f):\n",
    "    if(n == 0):\n",
    "        return(f.subs({x:a}))\n",
    "    else:\n",
    "        return((diff(f,x,n).subs({x:a}) / factorial(n)) * ((x-a) ** n))\n",
    "    \n",
    "approx = abs(taylor(2,T_r,T_ra,grow_log)/taylor(1,T_r,T_ra,grow_log)) < 0.5\n",
    "approx"
   ]
  },
  {
   "cell_type": "markdown",
   "metadata": {},
   "source": [
    "The value of the temperature term in this expression will range from 2.86 (at 275K) to -2.86 (at 315K). We substitute the maximum value of this into the inequality to get:"
   ]
  },
  {
   "cell_type": "code",
   "execution_count": 9,
   "metadata": {},
   "outputs": [
    {
     "data": {
      "image/png": "[encoded data removed]",
      "text/latex": [
       "$$1.43050439763874 \\left|{E_{r}}\\right| < 0.5$$"
      ],
      "text/plain": [
       "1.43050439763874⋅│Eᵣ│ < 0.5"
      ]
     },
     "execution_count": 9,
     "metadata": {},
     "output_type": "execute_result"
    }
   ],
   "source": [
    "k = 8.617e-5\n",
    "approx_T = approx.subs({T_r-T_ra:((1/(k*275)) - (1/(k*295)) )})\n",
    "approx_T"
   ]
  },
  {
   "cell_type": "code",
   "execution_count": 10,
   "metadata": {},
   "outputs": [
    {
     "data": {
      "image/png": "[encoded data removed]",
      "text/latex": [
       "$$-0.6990541249999995$$"
      ],
      "text/plain": [
       "-0.6990541249999995"
      ]
     },
     "execution_count": 10,
     "metadata": {},
     "output_type": "execute_result"
    }
   ],
   "source": [
    "-2 / ((1/(k*275)) - (1/(k*295)))"
   ]
  },
  {
   "cell_type": "markdown",
   "metadata": {},
   "source": [
    "which when we solve for $E_r$ gives:"
   ]
  },
  {
   "cell_type": "code",
   "execution_count": 11,
   "metadata": {},
   "outputs": [
    {
     "data": {
      "image/png": "[encoded data removed]",
      "text/latex": [
       "$$-0.3495270625 < E_{r} \\wedge E_{r} < 0.3495270625$$"
      ],
      "text/plain": [
       "-0.3495270625 < Eᵣ ∧ Eᵣ < 0.3495270625"
      ]
     },
     "execution_count": 11,
     "metadata": {},
     "output_type": "execute_result"
    }
   ],
   "source": [
    "solve(approx_T)"
   ]
  },
  {
   "cell_type": "markdown",
   "metadata": {},
   "source": [
    "So for the approximation to be good the temperature sensivity of growth must be smaller than $0.69$. We can test this graphically by plotting the temperature dependence of growth:"
   ]
  },
  {
   "cell_type": "code",
   "execution_count": 15,
   "metadata": {},
   "outputs": [
    {
     "data": {
      "image/png": "[encoded data removed]",
      "text/plain": [
       "<matplotlib.figure.Figure at 0x10f0df390>"
      ]
     },
     "metadata": {},
     "output_type": "display_data"
    },
    {
     "data": {
      "text/plain": [
       "<sympy.plotting.plot.Plot at 0x10f0df048>"
      ]
     },
     "execution_count": 15,
     "metadata": {},
     "output_type": "execute_result"
    }
   ],
   "source": [
    "T = var(\"T\")\n",
    "\n",
    "real_growth =        grow.subs({C_0:1,r_0:1,t:2,T_r:1/(k*T),T_ra:1/(k*295),E_r:0.34})\n",
    "appr_growth = approx_grow.subs({C_0:1,r_0:1,t:2,T_r:1/(k*T),T_ra:1/(k*295),E_r:0.34})\n",
    "\n",
    "plot(real_growth,appr_growth,(T,275,315))"
   ]
  },
  {
   "cell_type": "markdown",
   "metadata": {},
   "source": [
    "Needs work, i dont think the inequality is correct..."
   ]
  },
  {
   "cell_type": "markdown",
   "metadata": {},
   "source": [
    "### Total respiration\n",
    "\n",
    "using this approximation of growth we can get the temperature dependence of total respiration by substituting in the new growth term. This means we go from:\n",
    "\n",
    "\\begin{align}\n",
    "    R_s = C_0 e^{t r_0 e^{-E_r (T_r - T_{ra})}} \\tilde{R}_0 e^{-E_R (T_r - T_{ra})}\n",
    "\\end{align} \n",
    "\n",
    "to:\n",
    "\n",
    "\\begin{align}\n",
    "    R_s &= C_{0} e^{r_{0} t} e^{- E_{r} r_{0} t (T_{r} - T_{ra})} \\tilde{R}_0 e^{-E_R (T_r - T_{ra})} \\\\\n",
    "    &= C_{0} \\tilde{R}_0 e^{r_{0} t}  e^{(-E_R - E_{r} r_{0} t) (T_r - T_{ra})}\n",
    "\\end{align}\n",
    "\n",
    "So the temperature dependence of total respiration can be expressed as $-E_R - E_{r} r_{0} t$ "
   ]
  },
  {
   "cell_type": "markdown",
   "metadata": {},
   "source": [
    "# Two species model\n",
    "\n",
    "We can extend this model of total respiration to a two species system. In the simplest case with no interactions (i.e. the growth rates of both species are independent) we can write the respiration in the system as:\n",
    "\n",
    "\\begin{align}\n",
    "    R_{tot} &= R_1 + R_2 \\\\\n",
    "            &= C_1 \\tilde{R}_1 + C_2 \\tilde{R}_2 \\\\\n",
    "            &= C_{0_1} \\tilde{R}_{0_1} e^{r_{0_1} t}  e^{(-E_{R_1} - E_{r_1} r_{0_1} t) (T_r - T_{ra})} + \n",
    "               C_{0_2} \\tilde{R}_{0_2} e^{r_{0_2} t}  e^{(-E_{R_2} - E_{r_2} r_{0_2} t) (T_r - T_{ra})}\n",
    "\\end{align}\n",
    "\n",
    "we can simplify this somewhat by assuing that the starting biomass for each species is equal (i.e. $C_{0_1} = C_{0_2}$). As with the classic static model we can approximate this sum of boltzman-type equations by taking the log and using a taylor series expansion around the point $T_r = T_{ra}$: "
   ]
  },
  {
   "cell_type": "code",
   "execution_count": 13,
   "metadata": {},
   "outputs": [
    {
     "data": {
      "image/png": "[encoded data removed]",
      "text/latex": [
       "$$C_{0} R_{0_1} e^{r_{0_1} t} e^{\\left(- E_{R_1} - E_{r_1} r_{0_1} t\\right) \\left(T_{r} - T_{ra}\\right)} + C_{0} R_{0_2} e^{r_{0_2} t} e^{\\left(- E_{R_2} - E_{r_2} r_{0_2} t\\right) \\left(T_{r} - T_{ra}\\right)}$$"
      ],
      "text/plain": [
       "            r_{0_1}⋅t  (-E_{R_1} - E_{r_1}⋅r_{0_1}⋅t)⋅(Tᵣ - Tᵣₐ)              \n",
       "C₀⋅R_{0_1}⋅ℯ         ⋅ℯ                                          + C₀⋅R_{0_2}⋅\n",
       "\n",
       " r_{0_2}⋅t  (-E_{R_2} - E_{r_2}⋅r_{0_2}⋅t)⋅(Tᵣ - Tᵣₐ)\n",
       "ℯ         ⋅ℯ                                         "
      ]
     },
     "execution_count": 13,
     "metadata": {},
     "output_type": "execute_result"
    }
   ],
   "source": [
    "R1,R2,ER1,ER2 = var(\"R_{0_1},R_{0_2},E_{R_1},E_{R_2}\")\n",
    "r1,r2,Er1,Er2 = var(\"r_{0_1},r_{0_2},E_{r_1},E_{r_2}\")\n",
    "t,T_r,T_ra,C_0 = var(\"t,T_r,T_ra,C_0\")\n",
    "\n",
    "\n",
    "one = C_0 * R1 * exp(r1*t) * exp((-ER1 - (Er1*r1*t))*(T_r-T_ra))\n",
    "two = C_0 * R2 * exp(r2*t) * exp((-ER2 - (Er2*r2*t))*(T_r-T_ra))\n",
    "\n",
    "one + two"
   ]
  },
  {
   "cell_type": "code",
   "execution_count": 16,
   "metadata": {},
   "outputs": [
    {
     "data": {
      "image/png": "[encoded data removed]",
      "text/latex": [
       "$$C_{0} \\left(R_{0_1} e^{r_{0_1} t} + R_{0_2} e^{r_{0_2} t}\\right) e^{\\left(T_{r} - T_{ra}\\right) \\left(- \\frac{C_{0} E_{R_1} R_{0_1} e^{r_{0_1} t}}{C_{0} R_{0_1} e^{r_{0_1} t} + C_{0} R_{0_2} e^{r_{0_2} t}} - \\frac{C_{0} E_{R_2} R_{0_2} e^{r_{0_2} t}}{C_{0} R_{0_1} e^{r_{0_1} t} + C_{0} R_{0_2} e^{r_{0_2} t}} - \\frac{C_{0} E_{r_1} R_{0_1} r_{0_1} t e^{r_{0_1} t}}{C_{0} R_{0_1} e^{r_{0_1} t} + C_{0} R_{0_2} e^{r_{0_2} t}} - \\frac{C_{0} E_{r_2} R_{0_2} r_{0_2} t e^{r_{0_2} t}}{C_{0} R_{0_1} e^{r_{0_1} t} + C_{0} R_{0_2} e^{r_{0_2} t}}\\right)}$$"
      ],
      "text/plain": [
       "                                                         ⎛                    \n",
       "                                                         ⎜          C₀⋅E_{R_1}\n",
       "                                              (Tᵣ - Tᵣₐ)⋅⎜- ──────────────────\n",
       "                                                         ⎜              r_{0_1\n",
       "   ⎛         r_{0_1}⋅t            r_{0_2}⋅t⎞             ⎝  C₀⋅R_{0_1}⋅ℯ      \n",
       "C₀⋅⎝R_{0_1}⋅ℯ          + R_{0_2}⋅ℯ         ⎠⋅ℯ                                \n",
       "\n",
       "          r_{0_1}⋅t                                       r_{0_2}⋅t           \n",
       "⋅R_{0_1}⋅ℯ                            C₀⋅E_{R_2}⋅R_{0_2}⋅ℯ                    \n",
       "─────────────────────────── - ───────────────────────────────────────────── - \n",
       "}⋅t               r_{0_2}⋅t               r_{0_1}⋅t               r_{0_2}⋅t   \n",
       "    + C₀⋅R_{0_2}⋅ℯ            C₀⋅R_{0_1}⋅ℯ          + C₀⋅R_{0_2}⋅ℯ            \n",
       "                                                                              \n",
       "\n",
       "                                 r_{0_1}⋅t                                    \n",
       "   C₀⋅E_{r_1}⋅R_{0_1}⋅r_{0_1}⋅t⋅ℯ                  C₀⋅E_{r_2}⋅R_{0_2}⋅r_{0_2}⋅\n",
       "───────────────────────────────────────────── - ──────────────────────────────\n",
       "            r_{0_1}⋅t               r_{0_2}⋅t               r_{0_1}⋅t         \n",
       "C₀⋅R_{0_1}⋅ℯ          + C₀⋅R_{0_2}⋅ℯ            C₀⋅R_{0_1}⋅ℯ          + C₀⋅R_{\n",
       "                                                                              \n",
       "\n",
       "   r_{0_2}⋅t   ⎞\n",
       "t⋅ℯ            ⎟\n",
       "───────────────⎟\n",
       "      r_{0_2}⋅t⎟\n",
       "0_2}⋅ℯ         ⎠\n",
       "                "
      ]
     },
     "execution_count": 16,
     "metadata": {},
     "output_type": "execute_result"
    }
   ],
   "source": [
    "exp(log(one+two).series(T_r,T_ra,2).removeO())"
   ]
  },
  {
   "cell_type": "markdown",
   "metadata": {},
   "source": [
    "this result can be simplified and generalised to the n-species case where:\n",
    "\n",
    "\\begin{align}\n",
    "    R_{tot} = C_0 \\sum_{s = 0}^{n} R_{0_s} e^{r_{0_s} t} e^{(T_r - T_{ra}) \n",
    "    \\frac{C_0 \\sum_{s = 0}^{n} R_{0_s} e^{r_{0_s} t} (-E_{R_s} - E_{r_s} r_{0_s} t)}\n",
    "         {C_0 \\sum_{s = 0}^{n} R_{0_s} e^{r_{0_s} t}} }\n",
    "\\end{align}\n",
    "\n",
    "so the temperature sensitivity is the weighted average of the sensitivites of each component. "
   ]
  },
  {
   "cell_type": "markdown",
   "metadata": {},
   "source": [
    "## Species interactions\n",
    "\n",
    "The model above does not include species interactions. We can include these interactions as changes in growth rate which can simply be included as adative effects in the growth model\n",
    "\n",
    "\\begin{align}\n",
    "    \\frac{dC_1}{dt} = C_1 (r_1 + \\alpha_1 C_2)\n",
    "    \\\\\n",
    "    \\\\\n",
    "    \\frac{dC_2}{dt} = C_2 (r_2 + \\alpha_2 C_1)\n",
    "\\end{align}\n",
    "\n",
    "where $r_s$ is the mass-specific growth rate and $\\alpha_s$ is the mass-specific effect on the growth of species $s$   As with the classic exponential growth model we can solve this equation to get the biomass at time $t$, $C_s(t)$ which gives:\n",
    "\n",
    "\\begin{align}\n",
    "    C_1(t) &= C_0 e^{t(r_1 + \\alpha_1 C_2)} \\\\\n",
    "           &= C_0 e^{t(r_1 + \\alpha_1 C_0 e^{t(r_2 + \\alpha_2 C_1)})}\n",
    "\\end{align}"
   ]
  },
  {
   "cell_type": "code",
   "execution_count": 42,
   "metadata": {},
   "outputs": [
    {
     "data": {
      "image/png": "[encoded data removed]",
      "text/latex": [
       "$$\\frac{1}{a_{x} x} \\left(- r_{1} x + \\frac{d}{d t} x\\right)$$"
      ],
      "text/plain": [
       "        d    \n",
       "-r₁⋅x + ──(x)\n",
       "        dt   \n",
       "─────────────\n",
       "     aₓ⋅x    "
      ]
     },
     "execution_count": 42,
     "metadata": {},
     "output_type": "execute_result"
    }
   ],
   "source": [
    "x,y,a1,a2,r1,r2,t = var(\"x,y,a_x,a_y,r1,r2,t\")\n",
    "\n",
    "y_d = Derivative(y,t)\n",
    "x_d = Derivative(x,t)\n",
    "\n",
    "d1 = (x * r1) + (a1*x*y)\n",
    "d2 = (y * r2) + (a2*x*y)\n",
    "\n",
    "y_sol = solve((d1 - x_d),y)\n",
    "x_sol = solve((d2 - y_d),x)\n",
    "\n",
    "y_sol[0]"
   ]
  },
  {
   "cell_type": "code",
   "execution_count": 49,
   "metadata": {},
   "outputs": [
    {
     "data": {
      "image/png": "[encoded data removed]",
      "text/latex": [
       "$$\\left [ \\frac{1}{a_{x} y + r_{1}} \\frac{\\partial}{\\partial t}\\left(\\frac{1}{a_{y} y} \\left(- r_{2} y + \\frac{d}{d t} y\\right)\\right)\\right ]$$"
      ],
      "text/plain": [
       "⎡  ⎛        d    ⎞⎤\n",
       "⎢  ⎜-r₂⋅y + ──(y)⎟⎥\n",
       "⎢∂ ⎜        dt   ⎟⎥\n",
       "⎢──⎜─────────────⎟⎥\n",
       "⎢∂t⎝    a_y⋅y    ⎠⎥\n",
       "⎢─────────────────⎥\n",
       "⎣    aₓ⋅y + r₁    ⎦"
      ]
     },
     "execution_count": 49,
     "metadata": {},
     "output_type": "execute_result"
    }
   ],
   "source": [
    "solve(d1-x_d.subs({x:x_sol[0]}),x)"
   ]
  },
  {
   "cell_type": "code",
   "execution_count": null,
   "metadata": {},
   "outputs": [],
   "source": []
  },
  {
   "cell_type": "code",
   "execution_count": null,
   "metadata": {},
   "outputs": [],
   "source": []
  },
  {
   "cell_type": "code",
   "execution_count": 149,
   "metadata": {},
   "outputs": [
    {
     "data": {
      "image/png": "[encoded data removed]",
      "text/latex": [
       "$$\\frac{C_{0} C_{2}^{2}}{2} a_{1}^{2} t^{2} e^{r_{1} t} + C_{0} C_{2} a_{1} t e^{r_{1} t} + C_{0} e^{r_{1} t}$$"
      ],
      "text/plain": [
       "     2   2  2  r₁⋅t                              \n",
       "C₀⋅C₂ ⋅a₁ ⋅t ⋅ℯ                   r₁⋅t       r₁⋅t\n",
       "─────────────────── + C₀⋅C₂⋅a₁⋅t⋅ℯ     + C₀⋅ℯ    \n",
       "         2                                       "
      ]
     },
     "execution_count": 149,
     "metadata": {},
     "output_type": "execute_result"
    }
   ],
   "source": [
    "C1_ap = C1.series(C_2,0,3).removeO()\n",
    "C1_ap"
   ]
  },
  {
   "cell_type": "code",
   "execution_count": 158,
   "metadata": {},
   "outputs": [
    {
     "data": {
      "image/png": "[encoded data removed]",
      "text/latex": [
       "$$t \\left(a_{2} \\left(\\frac{C_{0} C_{2}^{2}}{2} a_{1}^{2} t^{2} e^{r_{1} t} + C_{0} C_{2} a_{1} t e^{r_{1} t} + C_{0} e^{r_{1} t}\\right) + r_{2}\\right) + \\log{\\left (C_{0} \\right )} - \\log{\\left (C_{2} \\right )}$$"
      ],
      "text/plain": [
       "  ⎛   ⎛     2   2  2  r₁⋅t                              ⎞     ⎞               \n",
       "  ⎜   ⎜C₀⋅C₂ ⋅a₁ ⋅t ⋅ℯ                   r₁⋅t       r₁⋅t⎟     ⎟               \n",
       "t⋅⎜a₂⋅⎜─────────────────── + C₀⋅C₂⋅a₁⋅t⋅ℯ     + C₀⋅ℯ    ⎟ + r₂⎟ + log(C₀) - lo\n",
       "  ⎝   ⎝         2                                       ⎠     ⎠               \n",
       "\n",
       "     \n",
       "     \n",
       "g(C₂)\n",
       "     "
      ]
     },
     "execution_count": 158,
     "metadata": {},
     "output_type": "execute_result"
    }
   ],
   "source": [
    "C2 = C_0 * exp(t*(r2 + a2* C1_ap))\n",
    "\n",
    "expand_log(log(C2) - log(C_2),force=true)"
   ]
  },
  {
   "cell_type": "code",
   "execution_count": 47,
   "metadata": {},
   "outputs": [
    {
     "data": {
      "image/png": "[encoded data removed]",
      "text/latex": [
       "$$\\epsilon_0 \\left(- R_{0} t + t u_{0}\\right) + \\left(T_{r} - T_{ra}\\right) \\left(- E_{R} R_{0} \\epsilon_0 t + E_{u} \\epsilon_0 t u_{0}\\right) + \\log{\\left (C_{0} \\right )}$$"
      ],
      "text/plain": [
       "\\epsilon₀⋅(-R₀⋅t + t⋅u₀) + (Tᵣ - Tᵣₐ)⋅(-E_R⋅R₀⋅\\epsilon₀⋅t + Eᵤ⋅\\epsilon₀⋅t⋅u₀\n",
       ") + log(C₀)"
      ]
     },
     "execution_count": 47,
     "metadata": {},
     "output_type": "execute_result"
    }
   ],
   "source": [
    "collect((C_log.series(T_r,T_ra,2).removeO()),e_0)"
   ]
  },
  {
   "cell_type": "code",
   "execution_count": 62,
   "metadata": {},
   "outputs": [
    {
     "data": {
      "image/png": "[encoded data removed]",
      "text/latex": [
       "$$- e^{e t} + e^{e^{t}}$$"
      ],
      "text/plain": [
       "          ⎛ t⎞\n",
       "   ℯ⋅t    ⎝ℯ ⎠\n",
       "- ℯ    + ℯ    "
      ]
     },
     "execution_count": 62,
     "metadata": {},
     "output_type": "execute_result"
    }
   ],
   "source": [
    "simplify(exp(exp(t)) - exp(t*exp(1)))"
   ]
  }
 ],
 "metadata": {
  "kernelspec": {
   "display_name": "Python [conda env:EcoFunc]",
   "language": "python",
   "name": "conda-env-EcoFunc-py"
  },
  "language_info": {
   "codemirror_mode": {
    "name": "ipython",
    "version": 3
   },
   "file_extension": ".py",
   "mimetype": "text/x-python",
   "name": "python",
   "nbconvert_exporter": "python",
   "pygments_lexer": "ipython3",
   "version": "3.6.4"
  },
  "toc": {
   "nav_menu": {},
   "number_sections": true,
   "sideBar": true,
   "skip_h1_title": false,
   "title_cell": "Table of Contents",
   "title_sidebar": "Contents",
   "toc_cell": false,
   "toc_position": {},
   "toc_section_display": true,
   "toc_window_display": false
  }
 },
 "nbformat": 4,
 "nbformat_minor": 2
}
