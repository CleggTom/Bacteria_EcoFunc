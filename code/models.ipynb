{
 "cells": [
  {
   "cell_type": "code",
   "execution_count": 6,
   "metadata": {},
   "outputs": [],
   "source": [
    "#Load some modules etc\n",
    "%matplotlib inline\n",
    "import matplotlib.pyplot as plt\n",
    "from cycler import cycler\n",
    "\n",
    "from sympy import *\n",
    "import scipy as sc\n",
    "import numpy as np\n",
    "init_printing()"
   ]
  },
  {
   "cell_type": "markdown",
   "metadata": {},
   "source": [
    "# Introduction\n",
    "In this notebook I will explore the intra-compartment scaling up of individual flux to the ecosystem level. "
   ]
  },
  {
   "cell_type": "markdown",
   "metadata": {},
   "source": [
    "We start with a basic model for the carbon biomass change of a single species. In this model we are only interested in the exponential growth phase as this is where the empirical data is. For a given bacterial species the uptake and loss of carbon can be represented as two simple parameters, $\\mu$ and $R$ respectively. The values of $\\mu$ and $R$ are temperature dependent and as such we represent them as boltzman curves with the form\n",
    "\\begin{align}\n",
    "    B(T) = B_0 exp(\\frac{E}{k}(\\frac{1}{T} - \\frac{1}{T_{ref}}))\n",
    "\\end{align}\n",
    "\n",
    "This $\\mu$ term represents a maximum rate of carbon uptake of which a proportion is allocated to biomass $\\epsilon$. Thus the rate of change of carbon biomass ($C$) is given as:\n",
    "\\begin{align}\n",
    "    \\frac{1}{C}\\frac{dC}{dt} = \\epsilon \\mu - R\n",
    "\\end{align}\n",
    "\n",
    "Assuming that at some reference temperature the species has positive growth ($\\frac{dC}{dt} > 0$) we can look at the temperature response curves of the loss ($R$) and uptake ($\\epsilon \\mu$) terms.\n"
   ]
  },
  {
   "cell_type": "code",
   "execution_count": 38,
   "metadata": {},
   "outputs": [
    {
     "data": {
      "image/png": "[encoded data removed]",
      "text/plain": [
       "<matplotlib.figure.Figure at 0x119f39dd8>"
      ]
     },
     "metadata": {},
     "output_type": "display_data"
    }
   ],
   "source": [
    "B_0,E,k,T,Tref = var(\"B_0,E,k,T,T_{ref}\")\n",
    "\n",
    "B = B_0 * exp(-(E/k)* ((1/T)-(1/Tref)))\n",
    "\n",
    "mu = 0.5 * B.subs({B_0:10,E:0.65,k:8.617e-5,Tref:295.0})\n",
    "R  = - B.subs({B_0:2,E:0.98,k:8.617e-5,Tref:295.0})\n",
    "\n",
    "p = plot((R,(T,285,300)),(mu,(T,285,300)),(mu+R,(T,285,300)),show = False)\n",
    "p[0].line_color = 'red'\n",
    "p[1].line_color = 'green'\n",
    "p.show()"
   ]
  },
  {
   "cell_type": "markdown",
   "metadata": {},
   "source": [
    "If we set \n",
    "\\begin{align}\n",
    "\\epsilon \\mu - R = r \n",
    "\\end{align}\n",
    "\n",
    "then we get the classic exponetial growth model \n",
    "\\begin{align}\n",
    "\\frac{dC}{dt} = rC \n",
    "\\end{align}\n",
    "\n",
    "which we can get the population at time $t$ by integrating to get \n",
    "\\begin{align}\n",
    "C(t) &= C(0) e^{rt} \\\\\n",
    "     &= C(0) e^{(\\epsilon \\mu - R)t}\n",
    "\\end{align}\n",
    "\n",
    "For a single species we can look at the temperature response of biomass at a given point in time by getting the temperature response of the $r$ parameter. This is done by using a taylor series expansion of the $\\epsilon \\mu - R$ term."
   ]
  },
  {
   "cell_type": "code",
   "execution_count": 71,
   "metadata": {},
   "outputs": [
    {
     "data": {
      "image/png": "[encoded data removed]",
      "text/latex": [
       "$$\\left(- R_{0} + \\epsilon \\mu_0\\right) e^{- \\frac{1}{R_{0} - \\epsilon \\mu_0} \\left(T_{r} - T_{ra}\\right) \\left(E_{R} R_{0} - E_\\mu \\epsilon \\mu_0\\right)}$$"
      ],
      "text/plain": [
       "                       -(Tᵣ - T_{ra})⋅(E_R⋅R₀ - E_\\mu⋅\\epsilon⋅\\mu₀) \n",
       "                       ──────────────────────────────────────────────\n",
       "                                     R₀ - \\epsilon⋅\\mu₀              \n",
       "(-R₀ + \\epsilon⋅\\mu₀)⋅ℯ                                              "
      ]
     },
     "execution_count": 71,
     "metadata": {},
     "output_type": "execute_result"
    }
   ],
   "source": [
    "u0, Eu, R0, ER = var(\"\\mu_0, E_\\mu, R_0, E_R\")\n",
    "\n",
    "R = R0 * exp(-(ER*((1/(k*T))-(1/(k*Tref)))))\n",
    "u = u0 * exp(-(Eu*((1/(k*T))-(1/(k*Tref)))))\n",
    "\n",
    "Tr,Tra = var(\"T_r,T_{ra}\")\n",
    "\n",
    "R = R.subs({1/(k*T):Tr,1/(k*Tref):Tra})\n",
    "u = u.subs({1/(k*T):Tr,1/(k*Tref):Tra})\n",
    "\n",
    "e = var(\"\\epsilon\")\n",
    "\n",
    "simplify(exp(ln(e*u - R).series(Tr,Tra,2).removeO()))"
   ]
  },
  {
   "cell_type": "markdown",
   "metadata": {},
   "source": [
    "So in this approximation $r_0 = \\epsilon \\mu_0 - R_0$ and $E_r = \\frac{E_R R_0 - E_\\mu \\epsilon \\mu_0}{\\epsilon \\mu_0 - R_0}$. so we can express the "
   ]
  },
  {
   "cell_type": "code",
   "execution_count": null,
   "metadata": {},
   "outputs": [],
   "source": []
  }
 ],
 "metadata": {
  "kernelspec": {
   "display_name": "Python [conda env:EcoFunc]",
   "language": "python",
   "name": "conda-env-EcoFunc-py"
  },
  "language_info": {
   "codemirror_mode": {
    "name": "ipython",
    "version": 3
   },
   "file_extension": ".py",
   "mimetype": "text/x-python",
   "name": "python",
   "nbconvert_exporter": "python",
   "pygments_lexer": "ipython3",
   "version": "3.6.4"
  },
  "toc": {
   "nav_menu": {},
   "number_sections": true,
   "sideBar": true,
   "skip_h1_title": false,
   "title_cell": "Table of Contents",
   "title_sidebar": "Contents",
   "toc_cell": false,
   "toc_position": {},
   "toc_section_display": true,
   "toc_window_display": false
  }
 },
 "nbformat": 4,
 "nbformat_minor": 2
}
